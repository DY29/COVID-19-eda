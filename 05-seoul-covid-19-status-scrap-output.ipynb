{
 "cells": [
  {
   "cell_type": "markdown",
   "metadata": {},
   "source": [
    "## 라이브러리 로드"
   ]
  },
  {
   "cell_type": "code",
   "execution_count": 1,
   "metadata": {},
   "outputs": [],
   "source": [
    "# 라이브러리 로드\n",
    "# requests는 작은 웹브라우저로 웹사이트 내용을 가져옵니다.\n",
    "import requests\n",
    "# BeautifulSoup 을 통해 읽어 온 웹페이지를 파싱합니다.\n",
    "from bs4 import BeautifulSoup as bs\n",
    "# 크롤링 후 결과를 데이터프레임 형태로 보기 위해 불러옵니다.\n",
    "import pandas as pd"
   ]
  },
  {
   "cell_type": "markdown",
   "metadata": {},
   "source": [
    "## 서울시 코로나19 발생동향\n",
    "* [코로나19](http://www.seoul.go.kr/coronaV/coronaStatus.do)"
   ]
  },
  {
   "cell_type": "markdown",
   "metadata": {},
   "source": [
    "## requests 로 html 문서 받아오기"
   ]
  },
  {
   "cell_type": "code",
   "execution_count": 2,
   "metadata": {},
   "outputs": [
    {
     "data": {
      "text/plain": [
       "<Response [200]>"
      ]
     },
     "execution_count": 2,
     "metadata": {},
     "output_type": "execute_result"
    }
   ],
   "source": [
    "# 크롤링 할 사이트\n",
    "base_url = \"http://www.seoul.go.kr/coronaV/coronaStatus.do\"\n",
    "response = requests.get( base_url )\n",
    "response"
   ]
  },
  {
   "cell_type": "code",
   "execution_count": 3,
   "metadata": {},
   "outputs": [
    {
     "data": {
      "text/plain": [
       "'<!-- ######################################################################## -->\\n<!-- \\r\\n\\tmenu name:\\t\\t코로나 바이러스 현황 단독 페이지\\r\\n-->\\n<!-- ######################################################################## -->\\n<!DOCTYPE html>\\n\\n<html lang=\"ko\">\\n<head>\\n<meta charset=\"utf-8\"/>\\n<meta content=\"IE=Edge\" http-equiv=\"X-UA-Compatible\"/>\\n<meta content=\"width=device-width, initial-scale=1.0\" name=\"viewport\">\\n<title>코로나19</title>\\n<meta content=\"코로나19\" name=\"description\"/>\\n<meta content=\"website\" property=\"og:type\"/>\\n<meta content=\"코로나19 - 2주간의 \\'잠시 멈춤\\' 캠페인\" property=\"og:title\"/>\\n<meta content=\"코로나19를 멈추기 위해 우리도 잠시 멈춰요.\" property=\"og:description\"/>\\n<meta content=\"https://www.seoul.go.kr/coronaV/coronaStatus.do\" property=\"og:url\"/>\\n<meta content=\"http://www.seoul.go.kr/res_newseoul/images/corona/pic_facebook_20200304.jpg\" property=\"og:image\"/>\\n<meta content=\"summary\" name=\"twitter:card\"/>\\n<meta content=\"코로나19 - 2주간의 \\'잠시 멈춤\\' 캠페인\" name=\"twitter:title\"/>\\n<meta content=\"코로나19를 멈추기 위해 우리도 잠시 멈춰요.\" name=\"twi'"
      ]
     },
     "execution_count": 3,
     "metadata": {},
     "output_type": "execute_result"
    }
   ],
   "source": [
    "if response.status_code == 200:\n",
    "    soup = bs(response.text, 'html.parser')\n",
    "\n",
    "str(soup)[:1000]"
   ]
  },
  {
   "cell_type": "markdown",
   "metadata": {},
   "source": [
    "## 서울 확진자 현황"
   ]
  },
  {
   "cell_type": "code",
   "execution_count": 4,
   "metadata": {},
   "outputs": [
    {
     "data": {
      "text/plain": [
       "2"
      ]
     },
     "execution_count": 4,
     "metadata": {},
     "output_type": "execute_result"
    }
   ],
   "source": [
    "#move-cont1 > div:nth-child(2) > div\n",
    "\n",
    "#move-cont1 > div:nth-child(2) > div\n",
    "cont_page = soup.select(\"#move-cont1 > div > div.cont-page-wrap > div.cont-page\")\n",
    "len(cont_page)"
   ]
  },
  {
   "cell_type": "code",
   "execution_count": 5,
   "metadata": {
    "scrolled": true
   },
   "outputs": [
    {
     "data": {
      "text/plain": [
       "[<tr>\n",
       " <th scope=\"col\">연번</th>\n",
       " <th scope=\"col\">환자</th>\n",
       " <th scope=\"col\">확진일</th>\n",
       " <th scope=\"col\">성별(출생년)</th>\n",
       " <th scope=\"col\">거주지</th>\n",
       " <th scope=\"col\">여행력</th>\n",
       " <th scope=\"col\">접촉력</th>\n",
       " <th scope=\"col\">조치사항</th>\n",
       " </tr>, <tr>\n",
       " <th scope=\"row\">205</th>\n",
       " <td data-tit=\"환자 번호\" scope=\"col\">확인중</td>\n",
       " <td data-tit=\"확진일\">3.11.</td>\n",
       " <td data-tit=\"성별(출생년)\">여('94)</td>\n",
       " <td data-tit=\"거주지\">강서구</td>\n",
       " <td data-tit=\"여행력\">-</td>\n",
       " <td data-tit=\"접촉력\">콜센터직원 접촉</td>\n",
       " <td data-tit=\"조치사항\">확인중</td>\n",
       " </tr>, <tr>\n",
       " <th scope=\"row\">204</th>\n",
       " <td data-tit=\"환자 번호\" scope=\"col\">확인중</td>\n",
       " <td data-tit=\"확진일\">3.11.</td>\n",
       " <td data-tit=\"성별(출생년)\">남('67)</td>\n",
       " <td data-tit=\"거주지\">강서구</td>\n",
       " <td data-tit=\"여행력\">-</td>\n",
       " <td data-tit=\"접촉력\">콜센터직원 접촉</td>\n",
       " <td data-tit=\"조치사항\">확인중</td>\n",
       " </tr>]"
      ]
     },
     "execution_count": 5,
     "metadata": {},
     "output_type": "execute_result"
    }
   ],
   "source": [
    "trs_ex =  cont_page[0].select(\"tr\")\n",
    "trs_ex[:3]"
   ]
  },
  {
   "cell_type": "markdown",
   "metadata": {},
   "source": [
    "## 행 데이터 리스트로 만들기"
   ]
  },
  {
   "cell_type": "code",
   "execution_count": 6,
   "metadata": {},
   "outputs": [
    {
     "data": {
      "text/plain": [
       "[['205', '확인중', '3.11.', \"여('94)\", '강서구', '-', '콜센터직원 접촉', '확인중'],\n",
       " ['204', '확인중', '3.11.', \"남('67)\", '강서구', '-', '콜센터직원 접촉', '확인중']]"
      ]
     },
     "execution_count": 6,
     "metadata": {},
     "output_type": "execute_result"
    }
   ],
   "source": [
    "def parse_tr(trs):\n",
    "    table = []\n",
    "    for tr in trs:\n",
    "        tds = tr.select(\"td\")\n",
    "        if len(tds) > 0 :\n",
    "            row = []\n",
    "            # 연번\n",
    "            number = tr.select(\"th\")[0].get_text()\n",
    "            row.append(number)\n",
    "            # 연번 외 데이터\n",
    "            for td in tds:\n",
    "                val = td.get_text()\n",
    "                row.append(val)\n",
    "            table.append(row)\n",
    "    return table\n",
    "\n",
    "parse_tr(trs_ex[:3])"
   ]
  },
  {
   "cell_type": "markdown",
   "metadata": {},
   "source": [
    "## 페이지마다 가져오기"
   ]
  },
  {
   "cell_type": "code",
   "execution_count": 7,
   "metadata": {},
   "outputs": [
    {
     "data": {
      "text/plain": [
       "[['205', '확인중', '3.11.', \"여('94)\", '강서구', '-', '콜센터직원 접촉', '확인중'],\n",
       " ['204', '확인중', '3.11.', \"남('67)\", '강서구', '-', '콜센터직원 접촉', '확인중'],\n",
       " ['203', '확인중', '3.11.', \"남('99)\", '강서구', '-', '콜센터직원 접촉', '확인중'],\n",
       " ['202', '확인중', '3.10.', \"남('59)\", '노원구', '-', '콜센터직원 접촉', '서울의료원'],\n",
       " ['201', '확인중', '3.10.', \"남('89)\", '노원구', '-', '콜센터직원 접촉', '서울의료원']]"
      ]
     },
     "execution_count": 7,
     "metadata": {},
     "output_type": "execute_result"
    }
   ],
   "source": [
    "#move-cont1 > div:nth-child(2) > table\n",
    "#move-cont1 > div:nth-child(2) > table.tstyle05.tstyleP > thead > tr > th:nth-child(1)\n",
    "#cont-page2\n",
    "table_result = []\n",
    "for page in cont_page:\n",
    "    trs = page.select(\"tr\")\n",
    "    result = parse_tr(trs)\n",
    "    table_result.extend(result)\n",
    "\n",
    "table_result[:5]"
   ]
  },
  {
   "cell_type": "markdown",
   "metadata": {},
   "source": [
    "## 컬럼명 만들기"
   ]
  },
  {
   "cell_type": "code",
   "execution_count": 8,
   "metadata": {},
   "outputs": [
    {
     "data": {
      "text/plain": [
       "[<th scope=\"col\">연번</th>,\n",
       " <th scope=\"col\">환자</th>,\n",
       " <th scope=\"col\">확진일</th>,\n",
       " <th scope=\"col\">성별(출생년)</th>,\n",
       " <th scope=\"col\">거주지</th>,\n",
       " <th scope=\"col\">여행력</th>,\n",
       " <th scope=\"col\">접촉력</th>,\n",
       " <th scope=\"col\">조치사항</th>]"
      ]
     },
     "execution_count": 8,
     "metadata": {},
     "output_type": "execute_result"
    }
   ],
   "source": [
    "# 컬럼명 만들기\n",
    "cols = trs_ex[0].select(\"th\")\n",
    "cols"
   ]
  },
  {
   "cell_type": "code",
   "execution_count": 9,
   "metadata": {},
   "outputs": [
    {
     "data": {
      "text/plain": [
       "['연번', '환자', '확진일', '성별(출생년)', '거주지', '여행력', '접촉력', '조치사항']"
      ]
     },
     "execution_count": 9,
     "metadata": {},
     "output_type": "execute_result"
    }
   ],
   "source": [
    "col_name = []\n",
    "for col in cols:\n",
    "    col_name.append(col.get_text())\n",
    "col_name"
   ]
  },
  {
   "cell_type": "markdown",
   "metadata": {},
   "source": [
    "## 데이터프레임으로 만들기"
   ]
  },
  {
   "cell_type": "code",
   "execution_count": 10,
   "metadata": {},
   "outputs": [
    {
     "name": "stdout",
     "output_type": "stream",
     "text": [
      "(205, 8)\n"
     ]
    },
    {
     "data": {
      "text/html": [
       "<div>\n",
       "<style scoped>\n",
       "    .dataframe tbody tr th:only-of-type {\n",
       "        vertical-align: middle;\n",
       "    }\n",
       "\n",
       "    .dataframe tbody tr th {\n",
       "        vertical-align: top;\n",
       "    }\n",
       "\n",
       "    .dataframe thead th {\n",
       "        text-align: right;\n",
       "    }\n",
       "</style>\n",
       "<table border=\"1\" class=\"dataframe\">\n",
       "  <thead>\n",
       "    <tr style=\"text-align: right;\">\n",
       "      <th></th>\n",
       "      <th>연번</th>\n",
       "      <th>환자</th>\n",
       "      <th>확진일</th>\n",
       "      <th>성별(출생년)</th>\n",
       "      <th>거주지</th>\n",
       "      <th>여행력</th>\n",
       "      <th>접촉력</th>\n",
       "      <th>조치사항</th>\n",
       "    </tr>\n",
       "  </thead>\n",
       "  <tbody>\n",
       "    <tr>\n",
       "      <th>0</th>\n",
       "      <td>205</td>\n",
       "      <td>확인중</td>\n",
       "      <td>3.11.</td>\n",
       "      <td>여('94)</td>\n",
       "      <td>강서구</td>\n",
       "      <td>-</td>\n",
       "      <td>콜센터직원 접촉</td>\n",
       "      <td>확인중</td>\n",
       "    </tr>\n",
       "    <tr>\n",
       "      <th>1</th>\n",
       "      <td>204</td>\n",
       "      <td>확인중</td>\n",
       "      <td>3.11.</td>\n",
       "      <td>남('67)</td>\n",
       "      <td>강서구</td>\n",
       "      <td>-</td>\n",
       "      <td>콜센터직원 접촉</td>\n",
       "      <td>확인중</td>\n",
       "    </tr>\n",
       "    <tr>\n",
       "      <th>2</th>\n",
       "      <td>203</td>\n",
       "      <td>확인중</td>\n",
       "      <td>3.11.</td>\n",
       "      <td>남('99)</td>\n",
       "      <td>강서구</td>\n",
       "      <td>-</td>\n",
       "      <td>콜센터직원 접촉</td>\n",
       "      <td>확인중</td>\n",
       "    </tr>\n",
       "    <tr>\n",
       "      <th>3</th>\n",
       "      <td>202</td>\n",
       "      <td>확인중</td>\n",
       "      <td>3.10.</td>\n",
       "      <td>남('59)</td>\n",
       "      <td>노원구</td>\n",
       "      <td>-</td>\n",
       "      <td>콜센터직원 접촉</td>\n",
       "      <td>서울의료원</td>\n",
       "    </tr>\n",
       "    <tr>\n",
       "      <th>4</th>\n",
       "      <td>201</td>\n",
       "      <td>확인중</td>\n",
       "      <td>3.10.</td>\n",
       "      <td>남('89)</td>\n",
       "      <td>노원구</td>\n",
       "      <td>-</td>\n",
       "      <td>콜센터직원 접촉</td>\n",
       "      <td>서울의료원</td>\n",
       "    </tr>\n",
       "  </tbody>\n",
       "</table>\n",
       "</div>"
      ],
      "text/plain": [
       "    연번   환자    확진일 성별(출생년)  거주지 여행력       접촉력   조치사항\n",
       "0  205  확인중  3.11.  여('94)  강서구   -  콜센터직원 접촉    확인중\n",
       "1  204  확인중  3.11.  남('67)  강서구   -  콜센터직원 접촉    확인중\n",
       "2  203  확인중  3.11.  남('99)  강서구   -  콜센터직원 접촉    확인중\n",
       "3  202  확인중  3.10.  남('59)  노원구   -  콜센터직원 접촉  서울의료원\n",
       "4  201  확인중  3.10.  남('89)  노원구   -  콜센터직원 접촉  서울의료원"
      ]
     },
     "execution_count": 10,
     "metadata": {},
     "output_type": "execute_result"
    }
   ],
   "source": [
    "df = pd.DataFrame(table_result, columns=col_name)\n",
    "print(df.shape)\n",
    "df.head()"
   ]
  },
  {
   "cell_type": "markdown",
   "metadata": {},
   "source": [
    "## 확진일로 정렬하고 CSV 파일로 저장하기"
   ]
  },
  {
   "cell_type": "code",
   "execution_count": 11,
   "metadata": {},
   "outputs": [],
   "source": [
    "df = df.sort_values(by=[\"연번\", \"확진일\"], ascending=False)\n",
    "df.to_csv(\"covid-19-seoul.csv\", index=False)"
   ]
  },
  {
   "cell_type": "markdown",
   "metadata": {},
   "source": [
    "## CSV 파일 읽어오기"
   ]
  },
  {
   "cell_type": "code",
   "execution_count": 12,
   "metadata": {},
   "outputs": [
    {
     "data": {
      "text/html": [
       "<div>\n",
       "<style scoped>\n",
       "    .dataframe tbody tr th:only-of-type {\n",
       "        vertical-align: middle;\n",
       "    }\n",
       "\n",
       "    .dataframe tbody tr th {\n",
       "        vertical-align: top;\n",
       "    }\n",
       "\n",
       "    .dataframe thead th {\n",
       "        text-align: right;\n",
       "    }\n",
       "</style>\n",
       "<table border=\"1\" class=\"dataframe\">\n",
       "  <thead>\n",
       "    <tr style=\"text-align: right;\">\n",
       "      <th></th>\n",
       "      <th>연번</th>\n",
       "      <th>환자</th>\n",
       "      <th>확진일</th>\n",
       "      <th>성별(출생년)</th>\n",
       "      <th>거주지</th>\n",
       "      <th>여행력</th>\n",
       "      <th>접촉력</th>\n",
       "      <th>조치사항</th>\n",
       "    </tr>\n",
       "  </thead>\n",
       "  <tbody>\n",
       "    <tr>\n",
       "      <th>0</th>\n",
       "      <td>99</td>\n",
       "      <td>5377</td>\n",
       "      <td>3.1.</td>\n",
       "      <td>여('96)</td>\n",
       "      <td>동대문구</td>\n",
       "      <td>-</td>\n",
       "      <td>대구 방문</td>\n",
       "      <td>서북병원</td>\n",
       "    </tr>\n",
       "    <tr>\n",
       "      <th>1</th>\n",
       "      <td>98</td>\n",
       "      <td>4743</td>\n",
       "      <td>3.2.</td>\n",
       "      <td>남('66)</td>\n",
       "      <td>서초구</td>\n",
       "      <td>-</td>\n",
       "      <td>확인중</td>\n",
       "      <td>서울의료원</td>\n",
       "    </tr>\n",
       "    <tr>\n",
       "      <th>2</th>\n",
       "      <td>97</td>\n",
       "      <td>4709</td>\n",
       "      <td>3.1.</td>\n",
       "      <td>남('85)</td>\n",
       "      <td>양천구</td>\n",
       "      <td>-</td>\n",
       "      <td>타시도 확진자 접촉</td>\n",
       "      <td>서울의료원</td>\n",
       "    </tr>\n",
       "    <tr>\n",
       "      <th>3</th>\n",
       "      <td>96</td>\n",
       "      <td>4645</td>\n",
       "      <td>3.2.</td>\n",
       "      <td>남('82)</td>\n",
       "      <td>도봉구</td>\n",
       "      <td>-</td>\n",
       "      <td>확인중</td>\n",
       "      <td>서울의료원</td>\n",
       "    </tr>\n",
       "    <tr>\n",
       "      <th>4</th>\n",
       "      <td>95</td>\n",
       "      <td>4634</td>\n",
       "      <td>3.2.</td>\n",
       "      <td>여('99)</td>\n",
       "      <td>성북구</td>\n",
       "      <td>-</td>\n",
       "      <td>성동구 주상복합 관리사무소 관련</td>\n",
       "      <td>서울의료원</td>\n",
       "    </tr>\n",
       "    <tr>\n",
       "      <th>5</th>\n",
       "      <td>94</td>\n",
       "      <td>4558</td>\n",
       "      <td>3.2.</td>\n",
       "      <td>여('69)</td>\n",
       "      <td>성북구</td>\n",
       "      <td>-</td>\n",
       "      <td>성동구 주상복합 관리사무소 관련</td>\n",
       "      <td>서울의료원</td>\n",
       "    </tr>\n",
       "    <tr>\n",
       "      <th>6</th>\n",
       "      <td>93</td>\n",
       "      <td>4517</td>\n",
       "      <td>3.2.</td>\n",
       "      <td>여('69)</td>\n",
       "      <td>강남구</td>\n",
       "      <td>-</td>\n",
       "      <td>부동산중개법인관련</td>\n",
       "      <td>서울의료원</td>\n",
       "    </tr>\n",
       "    <tr>\n",
       "      <th>7</th>\n",
       "      <td>92</td>\n",
       "      <td>4224</td>\n",
       "      <td>3.2.</td>\n",
       "      <td>남('00)</td>\n",
       "      <td>영등포구</td>\n",
       "      <td>-</td>\n",
       "      <td>성동구 주상복합 관리사무소 관련</td>\n",
       "      <td>서북병원</td>\n",
       "    </tr>\n",
       "    <tr>\n",
       "      <th>8</th>\n",
       "      <td>91</td>\n",
       "      <td>4174</td>\n",
       "      <td>2.29.</td>\n",
       "      <td>남('72)</td>\n",
       "      <td>영등포구</td>\n",
       "      <td>-</td>\n",
       "      <td>여의도 건설현장관련</td>\n",
       "      <td>서울의료원</td>\n",
       "    </tr>\n",
       "    <tr>\n",
       "      <th>9</th>\n",
       "      <td>90</td>\n",
       "      <td>3815</td>\n",
       "      <td>3.1.</td>\n",
       "      <td>남('69)</td>\n",
       "      <td>영등포구</td>\n",
       "      <td>-</td>\n",
       "      <td>성동구 주상복합 관리사무소 관련</td>\n",
       "      <td>서울의료원</td>\n",
       "    </tr>\n",
       "  </tbody>\n",
       "</table>\n",
       "</div>"
      ],
      "text/plain": [
       "   연번    환자    확진일 성별(출생년)   거주지 여행력                접촉력   조치사항\n",
       "0  99  5377   3.1.  여('96)  동대문구   -              대구 방문   서북병원\n",
       "1  98  4743   3.2.  남('66)   서초구   -                확인중  서울의료원\n",
       "2  97  4709   3.1.  남('85)   양천구   -         타시도 확진자 접촉  서울의료원\n",
       "3  96  4645   3.2.  남('82)   도봉구   -                확인중  서울의료원\n",
       "4  95  4634   3.2.  여('99)   성북구   -  성동구 주상복합 관리사무소 관련  서울의료원\n",
       "5  94  4558   3.2.  여('69)   성북구   -  성동구 주상복합 관리사무소 관련  서울의료원\n",
       "6  93  4517   3.2.  여('69)   강남구   -          부동산중개법인관련  서울의료원\n",
       "7  92  4224   3.2.  남('00)  영등포구   -  성동구 주상복합 관리사무소 관련   서북병원\n",
       "8  91  4174  2.29.  남('72)  영등포구   -         여의도 건설현장관련  서울의료원\n",
       "9  90  3815   3.1.  남('69)  영등포구   -  성동구 주상복합 관리사무소 관련  서울의료원"
      ]
     },
     "execution_count": 12,
     "metadata": {},
     "output_type": "execute_result"
    }
   ],
   "source": [
    "pd.read_csv(\"covid-19-seoul.csv\").head(10)"
   ]
  },
  {
   "cell_type": "code",
   "execution_count": 13,
   "metadata": {},
   "outputs": [
    {
     "data": {
      "text/plain": [
       "구로구 콜센터 관련           51\n",
       "확인중                  21\n",
       "콜센터직원 접촉             14\n",
       "성동구 주상복합 관리사무소 관련    13\n",
       "해외 접촉                13\n",
       "타시도 확진자 접촉           10\n",
       "은평성모병원관련              7\n",
       "은평성모병원 관련             6\n",
       "대구 방문                 5\n",
       "#7103 접촉              4\n",
       "타시도 확진자 접촉자           3\n",
       "#6 접촉자                3\n",
       "대구 확진자 접촉             3\n",
       "#794 접촉자              2\n",
       "신천지대구교회 관련            2\n",
       "명성교회 관련               2\n",
       "#7247 접촉(추정)          2\n",
       "타시도 확진자 접촉            2\n",
       "해외접촉                  2\n",
       "#5592 접촉(추정)          2\n",
       "#6832 접촉자             2\n",
       "#780 접촉자              2\n",
       "부동산 중개 법인관련           1\n",
       "#56접촉자                1\n",
       "#6921접촉자              1\n",
       "부동산 중개업 관련            1\n",
       "여의도 건설현장관련            1\n",
       "#935 접촉자              1\n",
       "#136접촉자               1\n",
       "#2621번 접촉자            1\n",
       "#83접촉자                1\n",
       "#780 가족(아들)           1\n",
       "대구 방문(명성교회)           1\n",
       "#5 접촉자                1\n",
       "#6937 접촉자             1\n",
       "해외 접촉(추정)             1\n",
       "대구 거주자                1\n",
       "서울재생병원 관련             1\n",
       "#7500 접촉(추정)          1\n",
       "#30접촉자(추정)            1\n",
       "부동산중개법인관련             1\n",
       "쇼핑몰 관련                1\n",
       "#6727 첩촉              1\n",
       "경찰병원관련                1\n",
       "#1247 접촉자             1\n",
       "확잍중                   1\n",
       "#29접촉자                1\n",
       "-                     1\n",
       "#3 접촉자                1\n",
       "은평성모병원 연관성 검토         1\n",
       "여의도 건설현장 관련           1\n",
       "#7300 접촉              1\n",
       "대구 거주                 1\n",
       "#7280 접촉(추정)          1\n",
       "#6접촉자(추정)             1\n",
       "#6959 접촉(추정)          1\n",
       "Name: 접촉력, dtype: int64"
      ]
     },
     "execution_count": 13,
     "metadata": {},
     "output_type": "execute_result"
    }
   ],
   "source": [
    "df[\"접촉력\"].value_counts()"
   ]
  },
  {
   "cell_type": "code",
   "execution_count": 14,
   "metadata": {},
   "outputs": [
    {
     "data": {
      "text/plain": [
       "서울의료원          58\n",
       "서남병원           38\n",
       "보라매병원          19\n",
       "서울의료원(퇴원)      11\n",
       "확인중            10\n",
       "서울대학교병원(퇴원)    10\n",
       "국립중앙의료원        10\n",
       "서북병원            9\n",
       "국립중앙의료원(퇴원)     7\n",
       "타시도이관           5\n",
       "중앙대학교병원(퇴원)     3\n",
       "서울대학교병원         3\n",
       "보라매병원(퇴원)       2\n",
       "고대구로병원          2\n",
       "순천향서울병원         2\n",
       "타시도 이관          2\n",
       "삼육서울병원          2\n",
       "한일병원            2\n",
       "인제대상계백병원        2\n",
       "상계백병원           1\n",
       "중앙대학교병원         1\n",
       "한일병원(퇴원)        1\n",
       "서남병원(퇴원)        1\n",
       "서울백병원           1\n",
       "한양대학교병원(퇴원)     1\n",
       "타시도이관(퇴원)       1\n",
       "한양대학교병원         1\n",
       "Name: 조치사항, dtype: int64"
      ]
     },
     "execution_count": 14,
     "metadata": {},
     "output_type": "execute_result"
    }
   ],
   "source": [
    "df[\"조치사항\"].value_counts()"
   ]
  },
  {
   "cell_type": "code",
   "execution_count": null,
   "metadata": {},
   "outputs": [],
   "source": []
  },
  {
   "cell_type": "code",
   "execution_count": null,
   "metadata": {},
   "outputs": [],
   "source": []
  }
 ],
 "metadata": {
  "kernelspec": {
   "display_name": "Python 3",
   "language": "python",
   "name": "python3"
  },
  "language_info": {
   "codemirror_mode": {
    "name": "ipython",
    "version": 3
   },
   "file_extension": ".py",
   "mimetype": "text/x-python",
   "name": "python",
   "nbconvert_exporter": "python",
   "pygments_lexer": "ipython3",
   "version": "3.7.3"
  },
  "toc": {
   "base_numbering": 1,
   "nav_menu": {},
   "number_sections": true,
   "sideBar": true,
   "skip_h1_title": false,
   "title_cell": "Table of Contents",
   "title_sidebar": "Contents",
   "toc_cell": false,
   "toc_position": {},
   "toc_section_display": true,
   "toc_window_display": false
  },
  "varInspector": {
   "cols": {
    "lenName": 16,
    "lenType": 16,
    "lenVar": 40
   },
   "kernels_config": {
    "python": {
     "delete_cmd_postfix": "",
     "delete_cmd_prefix": "del ",
     "library": "var_list.py",
     "varRefreshCmd": "print(var_dic_list())"
    },
    "r": {
     "delete_cmd_postfix": ") ",
     "delete_cmd_prefix": "rm(",
     "library": "var_list.r",
     "varRefreshCmd": "cat(var_dic_list()) "
    }
   },
   "types_to_exclude": [
    "module",
    "function",
    "builtin_function_or_method",
    "instance",
    "_Feature"
   ],
   "window_display": false
  }
 },
 "nbformat": 4,
 "nbformat_minor": 4
}
