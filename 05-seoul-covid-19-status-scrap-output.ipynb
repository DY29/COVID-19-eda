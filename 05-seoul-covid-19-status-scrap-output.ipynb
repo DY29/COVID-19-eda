{
 "cells": [
  {
   "cell_type": "markdown",
   "metadata": {},
   "source": [
    "## 라이브러리 로드"
   ]
  },
  {
   "cell_type": "code",
   "execution_count": 1,
   "metadata": {},
   "outputs": [],
   "source": [
    "# 라이브러리 로드\n",
    "# requests는 작은 웹브라우저로 웹사이트 내용을 가져옵니다.\n",
    "import requests\n",
    "# BeautifulSoup 을 통해 읽어 온 웹페이지를 파싱합니다.\n",
    "from bs4 import BeautifulSoup as bs\n",
    "# 크롤링 후 결과를 데이터프레임 형태로 보기 위해 불러옵니다.\n",
    "import pandas as pd"
   ]
  },
  {
   "cell_type": "markdown",
   "metadata": {},
   "source": [
    "## 서울시 코로나19 발생동향\n",
    "* [코로나19](http://www.seoul.go.kr/coronaV/coronaStatus.do)"
   ]
  },
  {
   "cell_type": "markdown",
   "metadata": {},
   "source": [
    "## requests 로 html 문서 받아오기"
   ]
  },
  {
   "cell_type": "code",
   "execution_count": 2,
   "metadata": {},
   "outputs": [
    {
     "data": {
      "text/plain": [
       "<Response [200]>"
      ]
     },
     "execution_count": 2,
     "metadata": {},
     "output_type": "execute_result"
    }
   ],
   "source": [
    "# 크롤링 할 사이트\n",
    "base_url = \"http://www.seoul.go.kr/coronaV/coronaStatus.do\"\n",
    "response = requests.get( base_url )\n",
    "response"
   ]
  },
  {
   "cell_type": "code",
   "execution_count": 3,
   "metadata": {},
   "outputs": [
    {
     "data": {
      "text/plain": [
       "'<!-- ######################################################################## -->\\n<!-- \\r\\n\\tmenu name:\\t\\t코로나 바이러스 현황 단독 페이지\\r\\n-->\\n<!-- ######################################################################## -->\\n<!DOCTYPE html>\\n\\n<html lang=\"ko\">\\n<head>\\n<meta charset=\"utf-8\"/>\\n<meta content=\"IE=Edge\" http-equiv=\"X-UA-Compatible\"/>\\n<meta content=\"width=device-width, initial-scale=1.0\" name=\"viewport\">\\n<title>코로나19</title>\\n<meta content=\"코로나19\" name=\"description\"/>\\n<meta content=\"website\" property=\"og:type\"/>\\n<meta content=\"코로나19 - 2주간의 \\'잠시 멈춤\\' 캠페인\" property=\"og:title\"/>\\n<meta content=\"코로나19를 멈추기 위해 우리도 잠시 멈춰요.\" property=\"og:description\"/>\\n<meta content=\"https://www.seoul.go.kr/coronaV/coronaStatus.do\" property=\"og:url\"/>\\n<meta content=\"http://www.seoul.go.kr/res_newseoul/images/corona/pic_facebook_20200304.jpg\" property=\"og:image\"/>\\n<meta content=\"summary\" name=\"twitter:card\"/>\\n<meta content=\"코로나19 - 2주간의 \\'잠시 멈춤\\' 캠페인\" name=\"twitter:title\"/>\\n<meta content=\"코로나19를 멈추기 위해 우리도 잠시 멈춰요.\" name=\"twi'"
      ]
     },
     "execution_count": 3,
     "metadata": {},
     "output_type": "execute_result"
    }
   ],
   "source": [
    "if response.status_code == 200:\n",
    "    soup = bs(response.text, 'html.parser')\n",
    "\n",
    "str(soup)[:1000]"
   ]
  },
  {
   "cell_type": "markdown",
   "metadata": {},
   "source": [
    "## 서울 확진자 현황"
   ]
  },
  {
   "cell_type": "code",
   "execution_count": 4,
   "metadata": {},
   "outputs": [],
   "source": [
    "#move-cont1 > div:nth-child(2) > table\n",
    "#move-cont1 > div:nth-child(2) > table.tstyle05.tstyleP > thead > tr > th:nth-child(1)\n",
    "\n",
    "table = soup.select(\"#move-cont1 > div > table.tstyle05.tstyleP\")\n",
    "# table"
   ]
  },
  {
   "cell_type": "code",
   "execution_count": 5,
   "metadata": {},
   "outputs": [],
   "source": [
    "trs =  table[0].select(\"tr\")\n",
    "# trs"
   ]
  },
  {
   "cell_type": "code",
   "execution_count": 12,
   "metadata": {},
   "outputs": [
    {
     "name": "stdout",
     "output_type": "stream",
     "text": [
      "[['확인중', '3.7.', \"남('64)\", '강남구', '-', '타시도 확진자 접촉자', '서울의료원'], ['확인중', '3.7.', \"남('29)\", '고양', '-', '타시도 확진자 접촉자', '서울의료원'], ['확인중', '3.7.', \"남('13)\", '관악구', '-', '타시도 확진자 접촉자', '보라매병원'], ['확인중', '3.7.', \"남('66)\", '양천구', '-', '서울 114번 접촉자', '서남병원'], ['확인중', '3.7.', \"남('55)\", '서초구', '-', '#935 접촉자', '서남병원']]\n"
     ]
    }
   ],
   "source": [
    "table = []\n",
    "for tr in trs:\n",
    "    tds = tr.select(\"td\")\n",
    "    if len(tds) > 0 :\n",
    "        row = []\n",
    "        for td in tds:\n",
    "            val = td.get_text()\n",
    "            row.append(val)\n",
    "        table.append(row)\n",
    "print(table[:5])"
   ]
  },
  {
   "cell_type": "code",
   "execution_count": 7,
   "metadata": {},
   "outputs": [
    {
     "data": {
      "text/plain": [
       "['연번', '환자', '확진일', '성별(출생년)', '거주지', '여행력', '접촉력', '조치사항']"
      ]
     },
     "execution_count": 7,
     "metadata": {},
     "output_type": "execute_result"
    }
   ],
   "source": [
    "# 컬럼명 만들기\n",
    "cols = trs[0].get_text()\n",
    "cols = cols.split(\"\\n\")[1:-1]\n",
    "cols"
   ]
  },
  {
   "cell_type": "code",
   "execution_count": 8,
   "metadata": {},
   "outputs": [
    {
     "data": {
      "text/html": [
       "<div>\n",
       "<style scoped>\n",
       "    .dataframe tbody tr th:only-of-type {\n",
       "        vertical-align: middle;\n",
       "    }\n",
       "\n",
       "    .dataframe tbody tr th {\n",
       "        vertical-align: top;\n",
       "    }\n",
       "\n",
       "    .dataframe thead th {\n",
       "        text-align: right;\n",
       "    }\n",
       "</style>\n",
       "<table border=\"1\" class=\"dataframe\">\n",
       "  <thead>\n",
       "    <tr style=\"text-align: right;\">\n",
       "      <th></th>\n",
       "      <th>환자</th>\n",
       "      <th>확진일</th>\n",
       "      <th>성별(출생년)</th>\n",
       "      <th>거주지</th>\n",
       "      <th>여행력</th>\n",
       "      <th>접촉력</th>\n",
       "      <th>조치사항</th>\n",
       "    </tr>\n",
       "  </thead>\n",
       "  <tbody>\n",
       "    <tr>\n",
       "      <th>0</th>\n",
       "      <td>확인중</td>\n",
       "      <td>3.7.</td>\n",
       "      <td>남('64)</td>\n",
       "      <td>강남구</td>\n",
       "      <td>-</td>\n",
       "      <td>타시도 확진자 접촉자</td>\n",
       "      <td>서울의료원</td>\n",
       "    </tr>\n",
       "    <tr>\n",
       "      <th>1</th>\n",
       "      <td>확인중</td>\n",
       "      <td>3.7.</td>\n",
       "      <td>남('29)</td>\n",
       "      <td>고양</td>\n",
       "      <td>-</td>\n",
       "      <td>타시도 확진자 접촉자</td>\n",
       "      <td>서울의료원</td>\n",
       "    </tr>\n",
       "    <tr>\n",
       "      <th>2</th>\n",
       "      <td>확인중</td>\n",
       "      <td>3.7.</td>\n",
       "      <td>남('13)</td>\n",
       "      <td>관악구</td>\n",
       "      <td>-</td>\n",
       "      <td>타시도 확진자 접촉자</td>\n",
       "      <td>보라매병원</td>\n",
       "    </tr>\n",
       "    <tr>\n",
       "      <th>3</th>\n",
       "      <td>확인중</td>\n",
       "      <td>3.7.</td>\n",
       "      <td>남('66)</td>\n",
       "      <td>양천구</td>\n",
       "      <td>-</td>\n",
       "      <td>서울 114번 접촉자</td>\n",
       "      <td>서남병원</td>\n",
       "    </tr>\n",
       "    <tr>\n",
       "      <th>4</th>\n",
       "      <td>확인중</td>\n",
       "      <td>3.7.</td>\n",
       "      <td>남('55)</td>\n",
       "      <td>서초구</td>\n",
       "      <td>-</td>\n",
       "      <td>#935 접촉자</td>\n",
       "      <td>서남병원</td>\n",
       "    </tr>\n",
       "  </tbody>\n",
       "</table>\n",
       "</div>"
      ],
      "text/plain": [
       "    환자   확진일 성별(출생년)  거주지 여행력          접촉력   조치사항\n",
       "0  확인중  3.7.  남('64)  강남구   -  타시도 확진자 접촉자  서울의료원\n",
       "1  확인중  3.7.  남('29)   고양   -  타시도 확진자 접촉자  서울의료원\n",
       "2  확인중  3.7.  남('13)  관악구   -  타시도 확진자 접촉자  보라매병원\n",
       "3  확인중  3.7.  남('66)  양천구   -  서울 114번 접촉자   서남병원\n",
       "4  확인중  3.7.  남('55)  서초구   -     #935 접촉자   서남병원"
      ]
     },
     "execution_count": 8,
     "metadata": {},
     "output_type": "execute_result"
    }
   ],
   "source": [
    "df = pd.DataFrame(table, columns=cols[1:])\n",
    "df.head()"
   ]
  },
  {
   "cell_type": "code",
   "execution_count": 9,
   "metadata": {},
   "outputs": [],
   "source": [
    "df = df.sort_values(by=\"확진일\", ascending=False)\n",
    "df.to_csv(\"covid-19-seoul.csv\", index=False)"
   ]
  },
  {
   "cell_type": "code",
   "execution_count": 10,
   "metadata": {},
   "outputs": [
    {
     "data": {
      "text/html": [
       "<div>\n",
       "<style scoped>\n",
       "    .dataframe tbody tr th:only-of-type {\n",
       "        vertical-align: middle;\n",
       "    }\n",
       "\n",
       "    .dataframe tbody tr th {\n",
       "        vertical-align: top;\n",
       "    }\n",
       "\n",
       "    .dataframe thead th {\n",
       "        text-align: right;\n",
       "    }\n",
       "</style>\n",
       "<table border=\"1\" class=\"dataframe\">\n",
       "  <thead>\n",
       "    <tr style=\"text-align: right;\">\n",
       "      <th></th>\n",
       "      <th>환자</th>\n",
       "      <th>확진일</th>\n",
       "      <th>성별(출생년)</th>\n",
       "      <th>거주지</th>\n",
       "      <th>여행력</th>\n",
       "      <th>접촉력</th>\n",
       "      <th>조치사항</th>\n",
       "    </tr>\n",
       "  </thead>\n",
       "  <tbody>\n",
       "    <tr>\n",
       "      <th>0</th>\n",
       "      <td>확인중</td>\n",
       "      <td>3.7.</td>\n",
       "      <td>남('64)</td>\n",
       "      <td>강남구</td>\n",
       "      <td>-</td>\n",
       "      <td>타시도 확진자 접촉자</td>\n",
       "      <td>서울의료원</td>\n",
       "    </tr>\n",
       "    <tr>\n",
       "      <th>1</th>\n",
       "      <td>확인중</td>\n",
       "      <td>3.7.</td>\n",
       "      <td>남('13)</td>\n",
       "      <td>관악구</td>\n",
       "      <td>-</td>\n",
       "      <td>타시도 확진자 접촉자</td>\n",
       "      <td>보라매병원</td>\n",
       "    </tr>\n",
       "    <tr>\n",
       "      <th>2</th>\n",
       "      <td>확인중</td>\n",
       "      <td>3.7.</td>\n",
       "      <td>남('66)</td>\n",
       "      <td>양천구</td>\n",
       "      <td>-</td>\n",
       "      <td>서울 114번 접촉자</td>\n",
       "      <td>서남병원</td>\n",
       "    </tr>\n",
       "    <tr>\n",
       "      <th>3</th>\n",
       "      <td>확인중</td>\n",
       "      <td>3.7.</td>\n",
       "      <td>남('55)</td>\n",
       "      <td>서초구</td>\n",
       "      <td>-</td>\n",
       "      <td>#935 접촉자</td>\n",
       "      <td>서남병원</td>\n",
       "    </tr>\n",
       "    <tr>\n",
       "      <th>4</th>\n",
       "      <td>확인중</td>\n",
       "      <td>3.7.</td>\n",
       "      <td>남('87)</td>\n",
       "      <td>은평구</td>\n",
       "      <td>스페인, 프랑스</td>\n",
       "      <td>확인중</td>\n",
       "      <td>서북병원</td>\n",
       "    </tr>\n",
       "    <tr>\n",
       "      <th>5</th>\n",
       "      <td>확인중</td>\n",
       "      <td>3.7.</td>\n",
       "      <td>남('29)</td>\n",
       "      <td>고양</td>\n",
       "      <td>-</td>\n",
       "      <td>타시도 확진자 접촉자</td>\n",
       "      <td>서울의료원</td>\n",
       "    </tr>\n",
       "    <tr>\n",
       "      <th>6</th>\n",
       "      <td>확인중</td>\n",
       "      <td>3.6.</td>\n",
       "      <td>남('81)</td>\n",
       "      <td>성북구</td>\n",
       "      <td>-</td>\n",
       "      <td>-</td>\n",
       "      <td>서남병원</td>\n",
       "    </tr>\n",
       "    <tr>\n",
       "      <th>7</th>\n",
       "      <td>확인중</td>\n",
       "      <td>3.6.</td>\n",
       "      <td>여('69)</td>\n",
       "      <td>양천구</td>\n",
       "      <td>-</td>\n",
       "      <td>타시도 확진자 접촉</td>\n",
       "      <td>보라매병원</td>\n",
       "    </tr>\n",
       "    <tr>\n",
       "      <th>8</th>\n",
       "      <td>확인중</td>\n",
       "      <td>3.6.</td>\n",
       "      <td>여('56)</td>\n",
       "      <td>강북구</td>\n",
       "      <td>-</td>\n",
       "      <td>서울 104번 접촉</td>\n",
       "      <td>서남병원</td>\n",
       "    </tr>\n",
       "    <tr>\n",
       "      <th>9</th>\n",
       "      <td>확인중</td>\n",
       "      <td>3.6.</td>\n",
       "      <td>남('55)</td>\n",
       "      <td>강북구</td>\n",
       "      <td>-</td>\n",
       "      <td>서울 104번 접촉</td>\n",
       "      <td>서남병원</td>\n",
       "    </tr>\n",
       "  </tbody>\n",
       "</table>\n",
       "</div>"
      ],
      "text/plain": [
       "    환자   확진일 성별(출생년)  거주지       여행력          접촉력   조치사항\n",
       "0  확인중  3.7.  남('64)  강남구         -  타시도 확진자 접촉자  서울의료원\n",
       "1  확인중  3.7.  남('13)  관악구         -  타시도 확진자 접촉자  보라매병원\n",
       "2  확인중  3.7.  남('66)  양천구         -  서울 114번 접촉자   서남병원\n",
       "3  확인중  3.7.  남('55)  서초구         -     #935 접촉자   서남병원\n",
       "4  확인중  3.7.  남('87)  은평구  스페인, 프랑스          확인중   서북병원\n",
       "5  확인중  3.7.  남('29)   고양         -  타시도 확진자 접촉자  서울의료원\n",
       "6  확인중  3.6.  남('81)  성북구         -            -   서남병원\n",
       "7  확인중  3.6.  여('69)  양천구         -  타시도 확진자 접촉   보라매병원\n",
       "8  확인중  3.6.  여('56)  강북구         -   서울 104번 접촉   서남병원\n",
       "9  확인중  3.6.  남('55)  강북구         -   서울 104번 접촉   서남병원"
      ]
     },
     "execution_count": 10,
     "metadata": {},
     "output_type": "execute_result"
    }
   ],
   "source": [
    "pd.read_csv(\"covid-19-seoul.csv\").head(10)"
   ]
  },
  {
   "cell_type": "code",
   "execution_count": 11,
   "metadata": {},
   "outputs": [
    {
     "data": {
      "text/plain": [
       "확인중              15\n",
       "성동구 주상복합 관련      13\n",
       "해외 접촉            13\n",
       "타시도 확진자 접촉        8\n",
       "은평성모병원관련          7\n",
       "은평성모병원 관련         6\n",
       "대구 방문             5\n",
       "타시도 확진자 접촉자       3\n",
       "타시도 확진자 접촉        3\n",
       "대구 확진자 접촉         3\n",
       "#6 접촉자            3\n",
       "신천지대구교회 관련        2\n",
       "명성교회 관련           2\n",
       "#794 접촉자          2\n",
       "-                 2\n",
       "#780 접촉자          2\n",
       "서울 104번 접촉        2\n",
       "#83접촉자            1\n",
       "#2621번 접촉자        1\n",
       "여의도 건설현장관련        1\n",
       "서울 114번 접촉자       1\n",
       " 타시도 확진자 접촉       1\n",
       "경찰병원관련            1\n",
       "대구 방문(명성교회)       1\n",
       "부동산 중개 법인관련       1\n",
       "여의도 건설현장 관련       1\n",
       "#3 접촉자            1\n",
       "해외 접촉(추정)         1\n",
       "#30접촉자(추정)        1\n",
       "#29접촉자            1\n",
       "#1247 접촉자         1\n",
       "대구 거주자            1\n",
       "#935 접촉자          1\n",
       "#136접촉자           1\n",
       "부동산 중개업 관련        1\n",
       "은평성모병원 연관성 검토     1\n",
       "확잍중               1\n",
       "#5 접촉자            1\n",
       "#780 가족(아들)       1\n",
       "서울재생병원 관련         1\n",
       "#6접촉자(추정)         1\n",
       "쇼핑몰 관련            1\n",
       "#56접촉자            1\n",
       "부동산중개법인관련         1\n",
       "해외접촉              1\n",
       "Name: 접촉력, dtype: int64"
      ]
     },
     "execution_count": 11,
     "metadata": {},
     "output_type": "execute_result"
    }
   ],
   "source": [
    "df[\"접촉력\"].value_counts()"
   ]
  },
  {
   "cell_type": "code",
   "execution_count": null,
   "metadata": {},
   "outputs": [],
   "source": []
  }
 ],
 "metadata": {
  "kernelspec": {
   "display_name": "Python 3",
   "language": "python",
   "name": "python3"
  },
  "language_info": {
   "codemirror_mode": {
    "name": "ipython",
    "version": 3
   },
   "file_extension": ".py",
   "mimetype": "text/x-python",
   "name": "python",
   "nbconvert_exporter": "python",
   "pygments_lexer": "ipython3",
   "version": "3.7.3"
  },
  "varInspector": {
   "cols": {
    "lenName": 16,
    "lenType": 16,
    "lenVar": 40
   },
   "kernels_config": {
    "python": {
     "delete_cmd_postfix": "",
     "delete_cmd_prefix": "del ",
     "library": "var_list.py",
     "varRefreshCmd": "print(var_dic_list())"
    },
    "r": {
     "delete_cmd_postfix": ") ",
     "delete_cmd_prefix": "rm(",
     "library": "var_list.r",
     "varRefreshCmd": "cat(var_dic_list()) "
    }
   },
   "types_to_exclude": [
    "module",
    "function",
    "builtin_function_or_method",
    "instance",
    "_Feature"
   ],
   "window_display": false
  }
 },
 "nbformat": 4,
 "nbformat_minor": 4
}
