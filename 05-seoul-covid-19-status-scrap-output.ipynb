{
 "cells": [
  {
   "cell_type": "markdown",
   "metadata": {},
   "source": [
    "## 라이브러리 로드"
   ]
  },
  {
   "cell_type": "code",
   "execution_count": 1,
   "metadata": {},
   "outputs": [],
   "source": [
    "# 라이브러리 로드\n",
    "# requests는 작은 웹브라우저로 웹사이트 내용을 가져옵니다.\n",
    "import requests\n",
    "# BeautifulSoup 을 통해 읽어 온 웹페이지를 파싱합니다.\n",
    "from bs4 import BeautifulSoup as bs\n",
    "# 크롤링 후 결과를 데이터프레임 형태로 보기 위해 불러옵니다.\n",
    "import pandas as pd"
   ]
  },
  {
   "cell_type": "markdown",
   "metadata": {},
   "source": [
    "## 서울시 코로나19 발생동향\n",
    "* [코로나19](http://www.seoul.go.kr/coronaV/coronaStatus.do)"
   ]
  },
  {
   "cell_type": "markdown",
   "metadata": {},
   "source": [
    "## requests 로 html 문서 받아오기"
   ]
  },
  {
   "cell_type": "code",
   "execution_count": 2,
   "metadata": {},
   "outputs": [
    {
     "data": {
      "text/plain": [
       "<Response [200]>"
      ]
     },
     "execution_count": 2,
     "metadata": {},
     "output_type": "execute_result"
    }
   ],
   "source": [
    "# 크롤링 할 사이트\n",
    "base_url = \"http://www.seoul.go.kr/coronaV/coronaStatus.do?menu_code=01\"\n",
    "response = requests.get( base_url )\n",
    "response"
   ]
  },
  {
   "cell_type": "code",
   "execution_count": 3,
   "metadata": {},
   "outputs": [
    {
     "data": {
      "text/plain": [
       "'\\n<!DOCTYPE HTML>\\n\\n<html lang=\"ko\">\\n<head>\\n<meta charset=\"utf-8\"/>\\n<meta content=\"IE=Edge\" http-equiv=\"X-UA-Compatible\"/>\\n<meta content=\"width=device-width, initial-scale=1.0\" name=\"viewport\">\\n<title>서울시 코로나19</title>\\n<meta content=\"서울시 코로나19 통합정보 사이트로 안전·방역(발생동향, 클린존, 선별진료소, 일일브리핑, 공정 공급마스크&amp;홍보물, 보도자료, 소식지, 신고(응답소)), 생활정보(주요뉴스, 생활경제 지원, 온라인 문화생활, 팩트체크, 심리지원단, 정책 제안하기), 시민 참여(잠시멈춤 캠페인, 온서울캠페인, 시민제안)등의 정보를 제공하고 있습니다.\" name=\"description\"/>\\n<meta content=\"website\" property=\"og:type\"/>\\n<meta content=\"서울시 코로나19 통합사이트\" property=\"og:title\"/>\\n<meta content=\"서울시 코로나19 통합정보 사이트로 안전·방역(발생동향, 클린존, 선별진료소, 일일브리핑, 공정 공급마스크&amp;홍보물, 보도자료, 소식지, 신고(응답소)), 생활정보(주요뉴스, 생활경제 지원, 온라인 문화생활, 팩트체크, 심리지원단, 정책 제안하기), 시민 참여(잠시멈춤 캠페인, 온서울캠페인, 시민제안)등의 정보를 제공하고 있습니다.\" property=\"og:description\"/>\\n<meta content=\"https://www.seoul.go.kr/coronaV/coronaStatus.do\" property=\"og:url\"/>\\n<meta content=\"http://www.seoul.go.kr/res_newseoul/images/corona/pic_facebook_20200325.jpg\" property=\"og:image\"/>\\n<meta content=\"summary\" n'"
      ]
     },
     "execution_count": 3,
     "metadata": {},
     "output_type": "execute_result"
    }
   ],
   "source": [
    "if response.status_code == 200:\n",
    "    soup = bs(response.text, 'html.parser')\n",
    "\n",
    "str(soup)[:1000]"
   ]
  },
  {
   "cell_type": "markdown",
   "metadata": {},
   "source": [
    "## 서울 확진자 현황"
   ]
  },
  {
   "cell_type": "code",
   "execution_count": 4,
   "metadata": {},
   "outputs": [
    {
     "data": {
      "text/plain": [
       "4"
      ]
     },
     "execution_count": 4,
     "metadata": {},
     "output_type": "execute_result"
    }
   ],
   "source": [
    "#move-cont1 > div:nth-child(2) > div\n",
    "\n",
    "#move-cont1 > div:nth-child(2) > div\n",
    "cont_page = soup.select(\"#move-cont1 > div > div.cont-page-wrap > div.cont-page\")\n",
    "len(cont_page)"
   ]
  },
  {
   "cell_type": "code",
   "execution_count": 5,
   "metadata": {
    "scrolled": true
   },
   "outputs": [
    {
     "data": {
      "text/plain": [
       "[<tr>\n",
       " <th scope=\"col\">연번</th>\n",
       " <th scope=\"col\">환자</th>\n",
       " <th scope=\"col\">확진일</th>\n",
       " <th scope=\"col\">성별(출생년)</th>\n",
       " <th scope=\"col\">거주지</th>\n",
       " <th scope=\"col\">여행력</th>\n",
       " <th scope=\"col\">접촉력</th>\n",
       " <th scope=\"col\">조치사항</th>\n",
       " </tr>, <tr>\n",
       " <th scope=\"row\">361</th>\n",
       " <td data-tit=\"환자 번호\" scope=\"col\">확인중</td>\n",
       " <td data-tit=\"확진일\">3.25.</td>\n",
       " <td data-tit=\"성별(출생년)\">여('02)</td>\n",
       " <td data-tit=\"거주지\">강남구</td>\n",
       " <td data-tit=\"여행력\">미국</td>\n",
       " <td data-tit=\"접촉력\">해외접촉 추정</td>\n",
       " <td data-tit=\"조치사항\">서북병원</td>\n",
       " </tr>, <tr>\n",
       " <th scope=\"row\">360</th>\n",
       " <td data-tit=\"환자 번호\" scope=\"col\">9228</td>\n",
       " <td data-tit=\"확진일\">3.25.</td>\n",
       " <td data-tit=\"성별(출생년)\">여('02)</td>\n",
       " <td data-tit=\"거주지\">강남구</td>\n",
       " <td data-tit=\"여행력\">미국</td>\n",
       " <td data-tit=\"접촉력\">해외접촉 추정</td>\n",
       " <td data-tit=\"조치사항\">서북병원</td>\n",
       " </tr>]"
      ]
     },
     "execution_count": 5,
     "metadata": {},
     "output_type": "execute_result"
    }
   ],
   "source": [
    "trs_ex =  cont_page[0].select(\"tr\")\n",
    "trs_ex[:3]"
   ]
  },
  {
   "cell_type": "markdown",
   "metadata": {},
   "source": [
    "## 행 데이터 리스트로 만들기"
   ]
  },
  {
   "cell_type": "code",
   "execution_count": 6,
   "metadata": {},
   "outputs": [
    {
     "data": {
      "text/plain": [
       "[['361', '확인중', '3.25.', \"여('02)\", '강남구', '미국', '해외접촉 추정', '서북병원'],\n",
       " ['360', '9228', '3.25.', \"여('02)\", '강남구', '미국', '해외접촉 추정', '서북병원']]"
      ]
     },
     "execution_count": 6,
     "metadata": {},
     "output_type": "execute_result"
    }
   ],
   "source": [
    "def parse_tr(trs):\n",
    "    table = []\n",
    "    for tr in trs:\n",
    "        tds = tr.select(\"td\")\n",
    "        if len(tds) > 0 :\n",
    "            row = []\n",
    "            # 연번\n",
    "            number = tr.select(\"th\")[0].get_text()\n",
    "            row.append(number)\n",
    "            # 연번 외 데이터\n",
    "            for td in tds:\n",
    "                val = td.get_text()\n",
    "                row.append(val)\n",
    "            table.append(row)\n",
    "    return table\n",
    "\n",
    "parse_tr(trs_ex[:3])"
   ]
  },
  {
   "cell_type": "markdown",
   "metadata": {},
   "source": [
    "## 페이지마다 가져오기"
   ]
  },
  {
   "cell_type": "code",
   "execution_count": 7,
   "metadata": {},
   "outputs": [
    {
     "data": {
      "text/plain": [
       "[['361', '확인중', '3.25.', \"여('02)\", '강남구', '미국', '해외접촉 추정', '서북병원'],\n",
       " ['360', '9228', '3.25.', \"여('02)\", '강남구', '미국', '해외접촉 추정', '서북병원'],\n",
       " ['359', '9171', '3.25.', \"남('99)\", '강남구', '미국', '해외접촉 추정', '서남병원'],\n",
       " ['358', '9204', '3.25.', \"남('93)\", '대전', '영국', '해외접촉 추정', '생활치료센터'],\n",
       " ['357', '9219', '3.25.', \"여('00)\", '강남구', '미국', '해외접촉 추정', '보라매병원']]"
      ]
     },
     "execution_count": 7,
     "metadata": {},
     "output_type": "execute_result"
    }
   ],
   "source": [
    "#move-cont1 > div:nth-child(2) > table\n",
    "#move-cont1 > div:nth-child(2) > table.tstyle05.tstyleP > thead > tr > th:nth-child(1)\n",
    "#cont-page2\n",
    "table_result = []\n",
    "for page in cont_page:\n",
    "    trs = page.select(\"tr\")\n",
    "    result = parse_tr(trs)\n",
    "    table_result.extend(result)\n",
    "\n",
    "table_result[:5]"
   ]
  },
  {
   "cell_type": "markdown",
   "metadata": {},
   "source": [
    "## 컬럼명 만들기"
   ]
  },
  {
   "cell_type": "code",
   "execution_count": 8,
   "metadata": {},
   "outputs": [
    {
     "data": {
      "text/plain": [
       "[<th scope=\"col\">연번</th>,\n",
       " <th scope=\"col\">환자</th>,\n",
       " <th scope=\"col\">확진일</th>,\n",
       " <th scope=\"col\">성별(출생년)</th>,\n",
       " <th scope=\"col\">거주지</th>,\n",
       " <th scope=\"col\">여행력</th>,\n",
       " <th scope=\"col\">접촉력</th>,\n",
       " <th scope=\"col\">조치사항</th>]"
      ]
     },
     "execution_count": 8,
     "metadata": {},
     "output_type": "execute_result"
    }
   ],
   "source": [
    "# 컬럼명 만들기\n",
    "cols = trs_ex[0].select(\"th\")\n",
    "cols"
   ]
  },
  {
   "cell_type": "code",
   "execution_count": 9,
   "metadata": {},
   "outputs": [
    {
     "data": {
      "text/plain": [
       "['연번', '환자', '확진일', '성별(출생년)', '거주지', '여행력', '접촉력', '조치사항']"
      ]
     },
     "execution_count": 9,
     "metadata": {},
     "output_type": "execute_result"
    }
   ],
   "source": [
    "col_name = []\n",
    "for col in cols:\n",
    "    col_name.append(col.get_text())\n",
    "col_name"
   ]
  },
  {
   "cell_type": "markdown",
   "metadata": {},
   "source": [
    "## 데이터프레임으로 만들기"
   ]
  },
  {
   "cell_type": "code",
   "execution_count": 10,
   "metadata": {},
   "outputs": [
    {
     "name": "stdout",
     "output_type": "stream",
     "text": [
      "(361, 8)\n"
     ]
    },
    {
     "data": {
      "text/html": [
       "<div>\n",
       "<style scoped>\n",
       "    .dataframe tbody tr th:only-of-type {\n",
       "        vertical-align: middle;\n",
       "    }\n",
       "\n",
       "    .dataframe tbody tr th {\n",
       "        vertical-align: top;\n",
       "    }\n",
       "\n",
       "    .dataframe thead th {\n",
       "        text-align: right;\n",
       "    }\n",
       "</style>\n",
       "<table border=\"1\" class=\"dataframe\">\n",
       "  <thead>\n",
       "    <tr style=\"text-align: right;\">\n",
       "      <th></th>\n",
       "      <th>연번</th>\n",
       "      <th>환자</th>\n",
       "      <th>확진일</th>\n",
       "      <th>성별(출생년)</th>\n",
       "      <th>거주지</th>\n",
       "      <th>여행력</th>\n",
       "      <th>접촉력</th>\n",
       "      <th>조치사항</th>\n",
       "    </tr>\n",
       "  </thead>\n",
       "  <tbody>\n",
       "    <tr>\n",
       "      <th>0</th>\n",
       "      <td>361</td>\n",
       "      <td>확인중</td>\n",
       "      <td>3.25.</td>\n",
       "      <td>여('02)</td>\n",
       "      <td>강남구</td>\n",
       "      <td>미국</td>\n",
       "      <td>해외접촉 추정</td>\n",
       "      <td>서북병원</td>\n",
       "    </tr>\n",
       "    <tr>\n",
       "      <th>1</th>\n",
       "      <td>360</td>\n",
       "      <td>9228</td>\n",
       "      <td>3.25.</td>\n",
       "      <td>여('02)</td>\n",
       "      <td>강남구</td>\n",
       "      <td>미국</td>\n",
       "      <td>해외접촉 추정</td>\n",
       "      <td>서북병원</td>\n",
       "    </tr>\n",
       "    <tr>\n",
       "      <th>2</th>\n",
       "      <td>359</td>\n",
       "      <td>9171</td>\n",
       "      <td>3.25.</td>\n",
       "      <td>남('99)</td>\n",
       "      <td>강남구</td>\n",
       "      <td>미국</td>\n",
       "      <td>해외접촉 추정</td>\n",
       "      <td>서남병원</td>\n",
       "    </tr>\n",
       "    <tr>\n",
       "      <th>3</th>\n",
       "      <td>358</td>\n",
       "      <td>9204</td>\n",
       "      <td>3.25.</td>\n",
       "      <td>남('93)</td>\n",
       "      <td>대전</td>\n",
       "      <td>영국</td>\n",
       "      <td>해외접촉 추정</td>\n",
       "      <td>생활치료센터</td>\n",
       "    </tr>\n",
       "    <tr>\n",
       "      <th>4</th>\n",
       "      <td>357</td>\n",
       "      <td>9219</td>\n",
       "      <td>3.25.</td>\n",
       "      <td>여('00)</td>\n",
       "      <td>강남구</td>\n",
       "      <td>미국</td>\n",
       "      <td>해외접촉 추정</td>\n",
       "      <td>보라매병원</td>\n",
       "    </tr>\n",
       "  </tbody>\n",
       "</table>\n",
       "</div>"
      ],
      "text/plain": [
       "    연번    환자    확진일 성별(출생년)  거주지 여행력      접촉력    조치사항\n",
       "0  361   확인중  3.25.  여('02)  강남구  미국  해외접촉 추정    서북병원\n",
       "1  360  9228  3.25.  여('02)  강남구  미국  해외접촉 추정    서북병원\n",
       "2  359  9171  3.25.  남('99)  강남구  미국  해외접촉 추정    서남병원\n",
       "3  358  9204  3.25.  남('93)   대전  영국  해외접촉 추정  생활치료센터\n",
       "4  357  9219  3.25.  여('00)  강남구  미국  해외접촉 추정   보라매병원"
      ]
     },
     "execution_count": 10,
     "metadata": {},
     "output_type": "execute_result"
    }
   ],
   "source": [
    "df = pd.DataFrame(table_result, columns=col_name)\n",
    "print(df.shape)\n",
    "df.head()"
   ]
  },
  {
   "cell_type": "markdown",
   "metadata": {},
   "source": [
    "## CSV 파일로 저장하기"
   ]
  },
  {
   "cell_type": "code",
   "execution_count": 11,
   "metadata": {},
   "outputs": [],
   "source": [
    "df.to_csv(\"covid-19-seoul.csv\", index=False)"
   ]
  },
  {
   "cell_type": "markdown",
   "metadata": {},
   "source": [
    "## CSV 파일 읽어오기"
   ]
  },
  {
   "cell_type": "code",
   "execution_count": 12,
   "metadata": {},
   "outputs": [
    {
     "data": {
      "text/html": [
       "<div>\n",
       "<style scoped>\n",
       "    .dataframe tbody tr th:only-of-type {\n",
       "        vertical-align: middle;\n",
       "    }\n",
       "\n",
       "    .dataframe tbody tr th {\n",
       "        vertical-align: top;\n",
       "    }\n",
       "\n",
       "    .dataframe thead th {\n",
       "        text-align: right;\n",
       "    }\n",
       "</style>\n",
       "<table border=\"1\" class=\"dataframe\">\n",
       "  <thead>\n",
       "    <tr style=\"text-align: right;\">\n",
       "      <th></th>\n",
       "      <th>연번</th>\n",
       "      <th>환자</th>\n",
       "      <th>확진일</th>\n",
       "      <th>성별(출생년)</th>\n",
       "      <th>거주지</th>\n",
       "      <th>여행력</th>\n",
       "      <th>접촉력</th>\n",
       "      <th>조치사항</th>\n",
       "    </tr>\n",
       "  </thead>\n",
       "  <tbody>\n",
       "    <tr>\n",
       "      <th>0</th>\n",
       "      <td>361</td>\n",
       "      <td>확인중</td>\n",
       "      <td>3.25.</td>\n",
       "      <td>여('02)</td>\n",
       "      <td>강남구</td>\n",
       "      <td>미국</td>\n",
       "      <td>해외접촉 추정</td>\n",
       "      <td>서북병원</td>\n",
       "    </tr>\n",
       "    <tr>\n",
       "      <th>1</th>\n",
       "      <td>360</td>\n",
       "      <td>9228</td>\n",
       "      <td>3.25.</td>\n",
       "      <td>여('02)</td>\n",
       "      <td>강남구</td>\n",
       "      <td>미국</td>\n",
       "      <td>해외접촉 추정</td>\n",
       "      <td>서북병원</td>\n",
       "    </tr>\n",
       "    <tr>\n",
       "      <th>2</th>\n",
       "      <td>359</td>\n",
       "      <td>9171</td>\n",
       "      <td>3.25.</td>\n",
       "      <td>남('99)</td>\n",
       "      <td>강남구</td>\n",
       "      <td>미국</td>\n",
       "      <td>해외접촉 추정</td>\n",
       "      <td>서남병원</td>\n",
       "    </tr>\n",
       "    <tr>\n",
       "      <th>3</th>\n",
       "      <td>358</td>\n",
       "      <td>9204</td>\n",
       "      <td>3.25.</td>\n",
       "      <td>남('93)</td>\n",
       "      <td>대전</td>\n",
       "      <td>영국</td>\n",
       "      <td>해외접촉 추정</td>\n",
       "      <td>생활치료센터</td>\n",
       "    </tr>\n",
       "    <tr>\n",
       "      <th>4</th>\n",
       "      <td>357</td>\n",
       "      <td>9219</td>\n",
       "      <td>3.25.</td>\n",
       "      <td>여('00)</td>\n",
       "      <td>강남구</td>\n",
       "      <td>미국</td>\n",
       "      <td>해외접촉 추정</td>\n",
       "      <td>보라매병원</td>\n",
       "    </tr>\n",
       "    <tr>\n",
       "      <th>5</th>\n",
       "      <td>356</td>\n",
       "      <td>9170</td>\n",
       "      <td>3.25.</td>\n",
       "      <td>여('45)</td>\n",
       "      <td>강서구</td>\n",
       "      <td>-</td>\n",
       "      <td>콜센터직원 접촉</td>\n",
       "      <td>서남병원</td>\n",
       "    </tr>\n",
       "    <tr>\n",
       "      <th>6</th>\n",
       "      <td>355</td>\n",
       "      <td>9175</td>\n",
       "      <td>3.25.</td>\n",
       "      <td>여('99)</td>\n",
       "      <td>서초구</td>\n",
       "      <td>프랑스</td>\n",
       "      <td>해외접촉 추정</td>\n",
       "      <td>보라매병원</td>\n",
       "    </tr>\n",
       "    <tr>\n",
       "      <th>7</th>\n",
       "      <td>354</td>\n",
       "      <td>9194</td>\n",
       "      <td>3.25.</td>\n",
       "      <td>여('99)</td>\n",
       "      <td>서초구</td>\n",
       "      <td>미국</td>\n",
       "      <td>해외접촉 추정</td>\n",
       "      <td>보라매병원</td>\n",
       "    </tr>\n",
       "    <tr>\n",
       "      <th>8</th>\n",
       "      <td>353</td>\n",
       "      <td>9187</td>\n",
       "      <td>3.25.</td>\n",
       "      <td>남('80)</td>\n",
       "      <td>금천구</td>\n",
       "      <td>-</td>\n",
       "      <td>확인중</td>\n",
       "      <td>보라매병원</td>\n",
       "    </tr>\n",
       "    <tr>\n",
       "      <th>9</th>\n",
       "      <td>352</td>\n",
       "      <td>9183</td>\n",
       "      <td>3.25.</td>\n",
       "      <td>여('00)</td>\n",
       "      <td>서초구</td>\n",
       "      <td>미국</td>\n",
       "      <td>해외접촉 추정</td>\n",
       "      <td>보라매병원</td>\n",
       "    </tr>\n",
       "  </tbody>\n",
       "</table>\n",
       "</div>"
      ],
      "text/plain": [
       "    연번    환자    확진일 성별(출생년)  거주지  여행력       접촉력    조치사항\n",
       "0  361   확인중  3.25.  여('02)  강남구   미국   해외접촉 추정    서북병원\n",
       "1  360  9228  3.25.  여('02)  강남구   미국   해외접촉 추정    서북병원\n",
       "2  359  9171  3.25.  남('99)  강남구   미국   해외접촉 추정    서남병원\n",
       "3  358  9204  3.25.  남('93)   대전   영국   해외접촉 추정  생활치료센터\n",
       "4  357  9219  3.25.  여('00)  강남구   미국   해외접촉 추정   보라매병원\n",
       "5  356  9170  3.25.  여('45)  강서구    -  콜센터직원 접촉    서남병원\n",
       "6  355  9175  3.25.  여('99)  서초구  프랑스   해외접촉 추정   보라매병원\n",
       "7  354  9194  3.25.  여('99)  서초구   미국   해외접촉 추정   보라매병원\n",
       "8  353  9187  3.25.  남('80)  금천구    -       확인중   보라매병원\n",
       "9  352  9183  3.25.  여('00)  서초구   미국   해외접촉 추정   보라매병원"
      ]
     },
     "execution_count": 12,
     "metadata": {},
     "output_type": "execute_result"
    }
   ],
   "source": [
    "pd.read_csv(\"covid-19-seoul.csv\").head(10)"
   ]
  },
  {
   "cell_type": "code",
   "execution_count": 13,
   "metadata": {},
   "outputs": [
    {
     "data": {
      "text/plain": [
       "구로구 콜센터 관련    60\n",
       "해외접촉 추정       54\n",
       "확인중           33\n",
       "콜센터직원 접촉      33\n",
       "타시도 확진자 접촉    22\n",
       "              ..\n",
       "#6937 접촉자      1\n",
       "#6 접촉(추정)      1\n",
       "#3 접촉          1\n",
       "#6921접촉자       1\n",
       "구로구 콜센터 접촉     1\n",
       "Name: 접촉력, Length: 72, dtype: int64"
      ]
     },
     "execution_count": 13,
     "metadata": {},
     "output_type": "execute_result"
    }
   ],
   "source": [
    "df[\"접촉력\"].value_counts()"
   ]
  },
  {
   "cell_type": "code",
   "execution_count": 14,
   "metadata": {},
   "outputs": [
    {
     "data": {
      "text/plain": [
       "서울의료원          96\n",
       "서남병원           72\n",
       "보라매병원          41\n",
       "서울의료원(퇴원)      21\n",
       "생활치료센터         15\n",
       "국립중앙의료원(퇴원)    13\n",
       "서북병원           12\n",
       "국립중앙의료원        11\n",
       "서남병원(퇴원)       11\n",
       "서울대학교병원(퇴원)    10\n",
       "보라매병원(퇴원)       8\n",
       "서울성모병원          4\n",
       "중앙대학교병원(퇴원)     4\n",
       "서북병원(퇴원)        3\n",
       "중앙대학교병원         3\n",
       "삼육서울병원          3\n",
       "순천향서울병원         3\n",
       "타시도이관           3\n",
       "타시도 이관          3\n",
       "타시도이관(퇴원)       3\n",
       "상계백병원(퇴원)       3\n",
       "한일병원(퇴원)        2\n",
       "확인중             2\n",
       "한양대학교병원(퇴원)     2\n",
       "한일병원            2\n",
       "서울백병원           1\n",
       "서울대학교병원         1\n",
       "서울아산병원          1\n",
       "세브란스병원          1\n",
       "상계백병원           1\n",
       "고대구로병원(퇴원)      1\n",
       "고대안암병원          1\n",
       "상계병원            1\n",
       "고대구로병원          1\n",
       "강남세브란스병원        1\n",
       "국립중앙의료병원        1\n",
       "Name: 조치사항, dtype: int64"
      ]
     },
     "execution_count": 14,
     "metadata": {},
     "output_type": "execute_result"
    }
   ],
   "source": [
    "df[\"조치사항\"].value_counts()"
   ]
  },
  {
   "cell_type": "code",
   "execution_count": null,
   "metadata": {},
   "outputs": [],
   "source": []
  },
  {
   "cell_type": "code",
   "execution_count": null,
   "metadata": {},
   "outputs": [],
   "source": []
  }
 ],
 "metadata": {
  "kernelspec": {
   "display_name": "Python 3",
   "language": "python",
   "name": "python3"
  },
  "language_info": {
   "codemirror_mode": {
    "name": "ipython",
    "version": 3
   },
   "file_extension": ".py",
   "mimetype": "text/x-python",
   "name": "python",
   "nbconvert_exporter": "python",
   "pygments_lexer": "ipython3",
   "version": "3.7.3"
  },
  "toc": {
   "base_numbering": 1,
   "nav_menu": {},
   "number_sections": true,
   "sideBar": true,
   "skip_h1_title": false,
   "title_cell": "Table of Contents",
   "title_sidebar": "Contents",
   "toc_cell": false,
   "toc_position": {},
   "toc_section_display": true,
   "toc_window_display": false
  },
  "varInspector": {
   "cols": {
    "lenName": 16,
    "lenType": 16,
    "lenVar": 40
   },
   "kernels_config": {
    "python": {
     "delete_cmd_postfix": "",
     "delete_cmd_prefix": "del ",
     "library": "var_list.py",
     "varRefreshCmd": "print(var_dic_list())"
    },
    "r": {
     "delete_cmd_postfix": ") ",
     "delete_cmd_prefix": "rm(",
     "library": "var_list.r",
     "varRefreshCmd": "cat(var_dic_list()) "
    }
   },
   "types_to_exclude": [
    "module",
    "function",
    "builtin_function_or_method",
    "instance",
    "_Feature"
   ],
   "window_display": false
  }
 },
 "nbformat": 4,
 "nbformat_minor": 4
}
