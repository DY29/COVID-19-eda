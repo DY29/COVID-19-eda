{
 "cells": [
  {
   "cell_type": "markdown",
   "metadata": {},
   "source": [
    "## 라이브러리 로드"
   ]
  },
  {
   "cell_type": "code",
   "execution_count": 1,
   "metadata": {},
   "outputs": [],
   "source": [
    "# 라이브러리 로드\n",
    "# requests는 작은 웹브라우저로 웹사이트 내용을 가져옵니다.\n",
    "import requests\n",
    "# BeautifulSoup 을 통해 읽어 온 웹페이지를 파싱합니다.\n",
    "from bs4 import BeautifulSoup as bs\n",
    "# 크롤링 후 결과를 데이터프레임 형태로 보기 위해 불러옵니다.\n",
    "import pandas as pd"
   ]
  },
  {
   "cell_type": "markdown",
   "metadata": {},
   "source": [
    "## 서울시 코로나19 발생동향\n",
    "* [코로나19](http://www.seoul.go.kr/coronaV/coronaStatus.do)"
   ]
  },
  {
   "cell_type": "markdown",
   "metadata": {},
   "source": [
    "## requests 로 html 문서 받아오기"
   ]
  },
  {
   "cell_type": "code",
   "execution_count": 2,
   "metadata": {},
   "outputs": [
    {
     "data": {
      "text/plain": [
       "<Response [200]>"
      ]
     },
     "execution_count": 2,
     "metadata": {},
     "output_type": "execute_result"
    }
   ],
   "source": [
    "# 크롤링 할 사이트\n",
    "base_url = \"http://www.seoul.go.kr/coronaV/coronaStatus.do\"\n",
    "response = requests.get( base_url )\n",
    "response"
   ]
  },
  {
   "cell_type": "code",
   "execution_count": 3,
   "metadata": {},
   "outputs": [
    {
     "data": {
      "text/plain": [
       "'\\n<!DOCTYPE HTML>\\n\\n<html lang=\"ko\">\\n<head>\\n<meta charset=\"utf-8\"/>\\n<meta content=\"IE=Edge\" http-equiv=\"X-UA-Compatible\"/>\\n<meta content=\"width=device-width, initial-scale=1.0\" name=\"viewport\">\\n<title>서울시 코로나19</title>\\n<meta content=\"서울시 코로나19 통합정보 사이트로 안전·방역(발생동향, 클린존, 선별진료소, 해외입국자 안내, 일일브리핑, 홍보물&amp;공적 공급마스크, 보도자료, 일일 소식지&amp;대응일지, 신고(응답소)), 생활정보(주요뉴스, 생활경제 지원, 온라인전시&amp;공연, 온라인도서관, 온라인체육관, 시민생활수기, 언론사 팩트체크, 심리지원), 시민 참여(잠시멈춤 캠페인, 온-서울캠페인, 시민제안)등의 정보를 제공하고 있습니다.\" name=\"description\"/>\\n<meta content=\"website\" property=\"og:type\"/>\\n<meta content=\"서울시 코로나19 통합사이트\" property=\"og:title\"/>\\n<meta content=\"서울시 코로나19 통합정보 사이트로 안전·방역(발생동향, 클린존, 선별진료소, 해외입국자 안내, 일일브리핑, 홍보물&amp;공적 공급마스크, 보도자료, 일일 소식지&amp;대응일지, 신고(응답소)), 생활정보(주요뉴스, 생활경제 지원, 온라인전시&amp;공연, 온라인도서관, 온라인체육관, 시민생활수기, 언론사 팩트체크, 심리지원), 시민 참여(잠시멈춤 캠페인, 온-서울캠페인, 시민제안)등의 정보를 제공하고 있습니다.\" property=\"og:description\"/>\\n<meta content=\"https://www.seoul.go.kr/coronaV/coronaStatus.do\" property=\"og:url\"/>\\n<meta content=\"http://www.seoul.go.kr/res_newseou'"
      ]
     },
     "execution_count": 3,
     "metadata": {},
     "output_type": "execute_result"
    }
   ],
   "source": [
    "# HTTP응답코드가 200일때만 크롤링하기\n",
    "if response.status_code == 200:\n",
    "    soup = bs(response.text, 'html.parser')\n",
    "\n",
    "str(soup)[:1000]"
   ]
  },
  {
   "cell_type": "markdown",
   "metadata": {},
   "source": [
    "## 서울 확진자 현황"
   ]
  },
  {
   "cell_type": "code",
   "execution_count": 4,
   "metadata": {},
   "outputs": [
    {
     "name": "stdout",
     "output_type": "stream",
     "text": [
      "9\n"
     ]
    }
   ],
   "source": [
    "cont_page = soup.select(\".datatable-multi-row\")[0]\n",
    "print(len(cont_page))"
   ]
  },
  {
   "cell_type": "markdown",
   "metadata": {},
   "source": [
    "* table 의 구조\n",
    "<table>\n",
    "    <tr>\n",
    "        <th>제목1</th><th>제목2</th><th>제목3</th>\n",
    "    </tr>\n",
    "    <tr>\n",
    "        <td>컬럼1</td><td>컬럼2</td><td>컬럼2</td>\n",
    "    </tr>\n",
    "</table>\n",
    "\n",
    "```\n",
    "<table>\n",
    "    <tr>\n",
    "        <th>제목1</th><th>제목2</th><th>제목3</th>\n",
    "    </tr>\n",
    "    <tr>\n",
    "        <td>컬럼1</td><td>컬럼2</td><td>컬럼2</td>\n",
    "    </tr>\n",
    "</table>\n",
    "```"
   ]
  },
  {
   "cell_type": "code",
   "execution_count": 5,
   "metadata": {
    "scrolled": true
   },
   "outputs": [
    {
     "name": "stdout",
     "output_type": "stream",
     "text": [
      "1171\n"
     ]
    },
    {
     "data": {
      "text/plain": [
       "<tr>\n",
       "<th scope=\"row\"><p class=\"corona19_no\">1</p></th>\n",
       "<td data-tit=\"환자 번호\" scope=\"col\">2</td>\n",
       "<td data-tit=\"확진일\">1.24.</td>\n",
       "<td data-tit=\"거주지\">강서구</td>\n",
       "<td data-tit=\"여행력\">중국 우한시</td>\n",
       "<td data-tit=\"접촉력\">해외 접촉</td>\n",
       "<td data-tit=\"조치사항\">국립중앙의료원(<b class=\"status1\">퇴원</b>)</td>\n",
       "</tr>"
      ]
     },
     "execution_count": 5,
     "metadata": {},
     "output_type": "execute_result"
    }
   ],
   "source": [
    "# table의 tr 태그를 읽어옵니다.\n",
    "trs_ex = cont_page.select(\"tr\")\n",
    "print(len(trs_ex))\n",
    "trs_ex[-1]"
   ]
  },
  {
   "cell_type": "markdown",
   "metadata": {},
   "source": [
    "## 행 데이터 리스트로 만들기"
   ]
  },
  {
   "cell_type": "code",
   "execution_count": 6,
   "metadata": {},
   "outputs": [
    {
     "data": {
      "text/plain": [
       "[['1170', '12245', '6.17.', '구로구', '-', '수도권 개척교회 관련', '서남병원'],\n",
       " ['1169', '12244', '6.17.', '은평구', '-', '확인 중', '국립중앙의료원']]"
      ]
     },
     "execution_count": 6,
     "metadata": {},
     "output_type": "execute_result"
    }
   ],
   "source": [
    "def parse_tr(trs):\n",
    "    table = []\n",
    "    for tr in trs:\n",
    "        tds = tr.select(\"td\")\n",
    "        if len(tds) > 0 :\n",
    "            row = []\n",
    "            # 연번\n",
    "            number = tr.select(\"th\")[0].get_text()\n",
    "            row.append(number)\n",
    "            # 연번 외 데이터\n",
    "            for td in tds:\n",
    "                val = td.get_text()\n",
    "                row.append(val)\n",
    "            table.append(row)\n",
    "    return table\n",
    "\n",
    "parse_tr(trs_ex[:3])"
   ]
  },
  {
   "cell_type": "code",
   "execution_count": 7,
   "metadata": {},
   "outputs": [
    {
     "data": {
      "text/plain": [
       "['1', '2', '1.24.', '강서구', '중국 우한시', '해외 접촉', '국립중앙의료원(퇴원)']"
      ]
     },
     "execution_count": 7,
     "metadata": {},
     "output_type": "execute_result"
    }
   ],
   "source": [
    "table_result = parse_tr(trs_ex)\n",
    "table_result[-1]"
   ]
  },
  {
   "cell_type": "code",
   "execution_count": 8,
   "metadata": {},
   "outputs": [
    {
     "data": {
      "text/plain": [
       "['1170', '12245', '6.17.', '구로구', '-', '수도권 개척교회 관련', '서남병원']"
      ]
     },
     "execution_count": 8,
     "metadata": {},
     "output_type": "execute_result"
    }
   ],
   "source": [
    "table_result[0]"
   ]
  },
  {
   "cell_type": "markdown",
   "metadata": {},
   "source": [
    "## 컬럼명 만들기"
   ]
  },
  {
   "cell_type": "code",
   "execution_count": 9,
   "metadata": {},
   "outputs": [
    {
     "data": {
      "text/plain": [
       "[<th scope=\"col\">연번</th>,\n",
       " <th scope=\"col\">환자</th>,\n",
       " <th scope=\"col\">확진일</th>,\n",
       " <th scope=\"col\">거주지</th>,\n",
       " <th scope=\"col\">여행력</th>,\n",
       " <th scope=\"col\">접촉력</th>,\n",
       " <th scope=\"col\">조치사항</th>]"
      ]
     },
     "execution_count": 9,
     "metadata": {},
     "output_type": "execute_result"
    }
   ],
   "source": [
    "# 컬럼명 만들기\n",
    "cols = trs_ex[0].select(\"th\")\n",
    "cols"
   ]
  },
  {
   "cell_type": "code",
   "execution_count": 10,
   "metadata": {},
   "outputs": [
    {
     "data": {
      "text/plain": [
       "['연번', '환자', '확진일', '거주지', '여행력', '접촉력', '조치사항']"
      ]
     },
     "execution_count": 10,
     "metadata": {},
     "output_type": "execute_result"
    }
   ],
   "source": [
    "col_name = []\n",
    "for col in cols:\n",
    "    col_name.append(col.get_text())\n",
    "col_name"
   ]
  },
  {
   "cell_type": "markdown",
   "metadata": {},
   "source": [
    "## 데이터프레임으로 만들기"
   ]
  },
  {
   "cell_type": "code",
   "execution_count": 11,
   "metadata": {},
   "outputs": [
    {
     "name": "stdout",
     "output_type": "stream",
     "text": [
      "(1170, 7)\n"
     ]
    },
    {
     "data": {
      "text/html": [
       "<div>\n",
       "<style scoped>\n",
       "    .dataframe tbody tr th:only-of-type {\n",
       "        vertical-align: middle;\n",
       "    }\n",
       "\n",
       "    .dataframe tbody tr th {\n",
       "        vertical-align: top;\n",
       "    }\n",
       "\n",
       "    .dataframe thead th {\n",
       "        text-align: right;\n",
       "    }\n",
       "</style>\n",
       "<table border=\"1\" class=\"dataframe\">\n",
       "  <thead>\n",
       "    <tr style=\"text-align: right;\">\n",
       "      <th></th>\n",
       "      <th>연번</th>\n",
       "      <th>환자</th>\n",
       "      <th>확진일</th>\n",
       "      <th>거주지</th>\n",
       "      <th>여행력</th>\n",
       "      <th>접촉력</th>\n",
       "      <th>조치사항</th>\n",
       "    </tr>\n",
       "  </thead>\n",
       "  <tbody>\n",
       "    <tr>\n",
       "      <th>0</th>\n",
       "      <td>1170</td>\n",
       "      <td>12245</td>\n",
       "      <td>6.17.</td>\n",
       "      <td>구로구</td>\n",
       "      <td>-</td>\n",
       "      <td>수도권 개척교회 관련</td>\n",
       "      <td>서남병원</td>\n",
       "    </tr>\n",
       "    <tr>\n",
       "      <th>1</th>\n",
       "      <td>1169</td>\n",
       "      <td>12244</td>\n",
       "      <td>6.17.</td>\n",
       "      <td>은평구</td>\n",
       "      <td>-</td>\n",
       "      <td>확인 중</td>\n",
       "      <td>국립중앙의료원</td>\n",
       "    </tr>\n",
       "    <tr>\n",
       "      <th>2</th>\n",
       "      <td>1168</td>\n",
       "      <td>12246</td>\n",
       "      <td>6.17.</td>\n",
       "      <td>은평구</td>\n",
       "      <td>-</td>\n",
       "      <td>양천구 운동시설 관련</td>\n",
       "      <td>서남병원</td>\n",
       "    </tr>\n",
       "    <tr>\n",
       "      <th>3</th>\n",
       "      <td>1167</td>\n",
       "      <td>12242</td>\n",
       "      <td>6.17.</td>\n",
       "      <td>관악구</td>\n",
       "      <td>-</td>\n",
       "      <td>구로구 확진자 접촉</td>\n",
       "      <td>보라매병원</td>\n",
       "    </tr>\n",
       "    <tr>\n",
       "      <th>4</th>\n",
       "      <td>1166</td>\n",
       "      <td>12251</td>\n",
       "      <td>6.17.</td>\n",
       "      <td>수원시</td>\n",
       "      <td>-</td>\n",
       "      <td>확인 중</td>\n",
       "      <td>타시도 이관</td>\n",
       "    </tr>\n",
       "  </tbody>\n",
       "</table>\n",
       "</div>"
      ],
      "text/plain": [
       "     연번     환자    확진일  거주지 여행력          접촉력     조치사항\n",
       "0  1170  12245  6.17.  구로구   -  수도권 개척교회 관련     서남병원\n",
       "1  1169  12244  6.17.  은평구   -         확인 중  국립중앙의료원\n",
       "2  1168  12246  6.17.  은평구   -  양천구 운동시설 관련     서남병원\n",
       "3  1167  12242  6.17.  관악구   -   구로구 확진자 접촉    보라매병원\n",
       "4  1166  12251  6.17.  수원시   -         확인 중   타시도 이관"
      ]
     },
     "execution_count": 11,
     "metadata": {},
     "output_type": "execute_result"
    }
   ],
   "source": [
    "df = pd.DataFrame(table_result, columns=col_name)\n",
    "print(df.shape)\n",
    "df.head()"
   ]
  },
  {
   "cell_type": "markdown",
   "metadata": {},
   "source": [
    "## CSV 파일로 저장하기"
   ]
  },
  {
   "cell_type": "code",
   "execution_count": 12,
   "metadata": {},
   "outputs": [
    {
     "data": {
      "text/plain": [
       "'2020-06-18'"
      ]
     },
     "execution_count": 12,
     "metadata": {},
     "output_type": "execute_result"
    }
   ],
   "source": [
    "import datetime\n",
    "\n",
    "today = datetime.datetime.today()\n",
    "now = today.strftime('%Y-%m-%d')\n",
    "now"
   ]
  },
  {
   "cell_type": "code",
   "execution_count": 13,
   "metadata": {},
   "outputs": [],
   "source": [
    "df.to_csv(f\"covid-19-seoul-{now}.csv\", index=False)"
   ]
  },
  {
   "cell_type": "markdown",
   "metadata": {},
   "source": [
    "## CSV 파일 읽어오기"
   ]
  },
  {
   "cell_type": "code",
   "execution_count": 14,
   "metadata": {},
   "outputs": [
    {
     "data": {
      "text/html": [
       "<div>\n",
       "<style scoped>\n",
       "    .dataframe tbody tr th:only-of-type {\n",
       "        vertical-align: middle;\n",
       "    }\n",
       "\n",
       "    .dataframe tbody tr th {\n",
       "        vertical-align: top;\n",
       "    }\n",
       "\n",
       "    .dataframe thead th {\n",
       "        text-align: right;\n",
       "    }\n",
       "</style>\n",
       "<table border=\"1\" class=\"dataframe\">\n",
       "  <thead>\n",
       "    <tr style=\"text-align: right;\">\n",
       "      <th></th>\n",
       "      <th>연번</th>\n",
       "      <th>환자</th>\n",
       "      <th>확진일</th>\n",
       "      <th>거주지</th>\n",
       "      <th>여행력</th>\n",
       "      <th>접촉력</th>\n",
       "      <th>조치사항</th>\n",
       "    </tr>\n",
       "  </thead>\n",
       "  <tbody>\n",
       "    <tr>\n",
       "      <th>0</th>\n",
       "      <td>1170</td>\n",
       "      <td>12245</td>\n",
       "      <td>6.17.</td>\n",
       "      <td>구로구</td>\n",
       "      <td>-</td>\n",
       "      <td>수도권 개척교회 관련</td>\n",
       "      <td>서남병원</td>\n",
       "    </tr>\n",
       "    <tr>\n",
       "      <th>1</th>\n",
       "      <td>1169</td>\n",
       "      <td>12244</td>\n",
       "      <td>6.17.</td>\n",
       "      <td>은평구</td>\n",
       "      <td>-</td>\n",
       "      <td>확인 중</td>\n",
       "      <td>국립중앙의료원</td>\n",
       "    </tr>\n",
       "    <tr>\n",
       "      <th>2</th>\n",
       "      <td>1168</td>\n",
       "      <td>12246</td>\n",
       "      <td>6.17.</td>\n",
       "      <td>은평구</td>\n",
       "      <td>-</td>\n",
       "      <td>양천구 운동시설 관련</td>\n",
       "      <td>서남병원</td>\n",
       "    </tr>\n",
       "    <tr>\n",
       "      <th>3</th>\n",
       "      <td>1167</td>\n",
       "      <td>12242</td>\n",
       "      <td>6.17.</td>\n",
       "      <td>관악구</td>\n",
       "      <td>-</td>\n",
       "      <td>구로구 확진자 접촉</td>\n",
       "      <td>보라매병원</td>\n",
       "    </tr>\n",
       "    <tr>\n",
       "      <th>4</th>\n",
       "      <td>1166</td>\n",
       "      <td>12251</td>\n",
       "      <td>6.17.</td>\n",
       "      <td>수원시</td>\n",
       "      <td>-</td>\n",
       "      <td>확인 중</td>\n",
       "      <td>타시도 이관</td>\n",
       "    </tr>\n",
       "    <tr>\n",
       "      <th>5</th>\n",
       "      <td>1165</td>\n",
       "      <td>12240</td>\n",
       "      <td>6.17.</td>\n",
       "      <td>서초구</td>\n",
       "      <td>-</td>\n",
       "      <td>서초구 확진자 접촉</td>\n",
       "      <td>서남병원</td>\n",
       "    </tr>\n",
       "    <tr>\n",
       "      <th>6</th>\n",
       "      <td>1164</td>\n",
       "      <td>12229</td>\n",
       "      <td>6.17.</td>\n",
       "      <td>강서구</td>\n",
       "      <td>-</td>\n",
       "      <td>확인 중</td>\n",
       "      <td>은평성모병원</td>\n",
       "    </tr>\n",
       "    <tr>\n",
       "      <th>7</th>\n",
       "      <td>1163</td>\n",
       "      <td>12255</td>\n",
       "      <td>6.17.</td>\n",
       "      <td>영등포구</td>\n",
       "      <td>-</td>\n",
       "      <td>확인 중</td>\n",
       "      <td>서울의료원</td>\n",
       "    </tr>\n",
       "    <tr>\n",
       "      <th>8</th>\n",
       "      <td>1162</td>\n",
       "      <td>12221</td>\n",
       "      <td>6.17.</td>\n",
       "      <td>도봉구</td>\n",
       "      <td>-</td>\n",
       "      <td>요양시설 관련</td>\n",
       "      <td>서남병원</td>\n",
       "    </tr>\n",
       "    <tr>\n",
       "      <th>9</th>\n",
       "      <td>1161</td>\n",
       "      <td>12214</td>\n",
       "      <td>6.17.</td>\n",
       "      <td>주소불명</td>\n",
       "      <td>-</td>\n",
       "      <td>리치웨이 관련</td>\n",
       "      <td>서울백병원</td>\n",
       "    </tr>\n",
       "  </tbody>\n",
       "</table>\n",
       "</div>"
      ],
      "text/plain": [
       "     연번     환자    확진일   거주지 여행력          접촉력     조치사항\n",
       "0  1170  12245  6.17.   구로구   -  수도권 개척교회 관련     서남병원\n",
       "1  1169  12244  6.17.   은평구   -         확인 중  국립중앙의료원\n",
       "2  1168  12246  6.17.   은평구   -  양천구 운동시설 관련     서남병원\n",
       "3  1167  12242  6.17.   관악구   -   구로구 확진자 접촉    보라매병원\n",
       "4  1166  12251  6.17.   수원시   -         확인 중   타시도 이관\n",
       "5  1165  12240  6.17.   서초구   -   서초구 확진자 접촉     서남병원\n",
       "6  1164  12229  6.17.   강서구   -         확인 중   은평성모병원\n",
       "7  1163  12255  6.17.  영등포구   -         확인 중    서울의료원\n",
       "8  1162  12221  6.17.   도봉구   -      요양시설 관련     서남병원\n",
       "9  1161  12214  6.17.  주소불명   -      리치웨이 관련    서울백병원"
      ]
     },
     "execution_count": 14,
     "metadata": {},
     "output_type": "execute_result"
    }
   ],
   "source": [
    "pd.read_csv(f\"covid-19-seoul-{now}.csv\").head(10)"
   ]
  },
  {
   "cell_type": "code",
   "execution_count": 15,
   "metadata": {},
   "outputs": [
    {
     "data": {
      "text/plain": [
       "해외 접촉 추정       268\n",
       "이태원 클럽 관련      139\n",
       "리치웨이 관련         94\n",
       "확인 중            75\n",
       "구로구 콜센터 관련      60\n",
       "              ... \n",
       "#8138 접촉         1\n",
       "#9020 접촉         1\n",
       "#8709 접촉 추정      1\n",
       "#5 접촉            1\n",
       "#935 접촉자         1\n",
       "Name: 접촉력, Length: 112, dtype: int64"
      ]
     },
     "execution_count": 15,
     "metadata": {},
     "output_type": "execute_result"
    }
   ],
   "source": [
    "df[\"접촉력\"].value_counts()"
   ]
  },
  {
   "cell_type": "code",
   "execution_count": 16,
   "metadata": {},
   "outputs": [
    {
     "data": {
      "text/plain": [
       "서울의료원(퇴원)     227\n",
       "서울의료원         142\n",
       "보라매병원(퇴원)     140\n",
       "서남병원          110\n",
       "서남병원(퇴원)      108\n",
       "             ... \n",
       "서울의료원(사망)       1\n",
       "세브란스병원          1\n",
       "삼성서울병원(퇴원)      1\n",
       "서울백병원           1\n",
       "세브란스병원(퇴원)      1\n",
       "Name: 조치사항, Length: 67, dtype: int64"
      ]
     },
     "execution_count": 16,
     "metadata": {},
     "output_type": "execute_result"
    }
   ],
   "source": [
    "df[\"조치사항\"].value_counts()"
   ]
  },
  {
   "cell_type": "code",
   "execution_count": null,
   "metadata": {},
   "outputs": [],
   "source": []
  },
  {
   "cell_type": "code",
   "execution_count": null,
   "metadata": {},
   "outputs": [],
   "source": []
  }
 ],
 "metadata": {
  "kernelspec": {
   "display_name": "Python 3",
   "language": "python",
   "name": "python3"
  },
  "language_info": {
   "codemirror_mode": {
    "name": "ipython",
    "version": 3
   },
   "file_extension": ".py",
   "mimetype": "text/x-python",
   "name": "python",
   "nbconvert_exporter": "python",
   "pygments_lexer": "ipython3",
   "version": "3.7.6"
  },
  "toc": {
   "base_numbering": 1,
   "nav_menu": {},
   "number_sections": true,
   "sideBar": true,
   "skip_h1_title": false,
   "title_cell": "Table of Contents",
   "title_sidebar": "Contents",
   "toc_cell": false,
   "toc_position": {},
   "toc_section_display": true,
   "toc_window_display": false
  },
  "varInspector": {
   "cols": {
    "lenName": 16,
    "lenType": 16,
    "lenVar": 40
   },
   "kernels_config": {
    "python": {
     "delete_cmd_postfix": "",
     "delete_cmd_prefix": "del ",
     "library": "var_list.py",
     "varRefreshCmd": "print(var_dic_list())"
    },
    "r": {
     "delete_cmd_postfix": ") ",
     "delete_cmd_prefix": "rm(",
     "library": "var_list.r",
     "varRefreshCmd": "cat(var_dic_list()) "
    }
   },
   "types_to_exclude": [
    "module",
    "function",
    "builtin_function_or_method",
    "instance",
    "_Feature"
   ],
   "window_display": false
  }
 },
 "nbformat": 4,
 "nbformat_minor": 4
}
