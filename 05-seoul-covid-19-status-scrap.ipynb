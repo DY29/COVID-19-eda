{
 "cells": [
  {
   "cell_type": "markdown",
   "metadata": {},
   "source": [
    "## 라이브러리 로드"
   ]
  },
  {
   "cell_type": "code",
   "execution_count": 1,
   "metadata": {},
   "outputs": [],
   "source": [
    "# 라이브러리 로드\n",
    "# requests는 작은 웹브라우저로 웹사이트 내용을 가져옵니다.\n",
    "import requests\n",
    "# BeautifulSoup 을 통해 읽어 온 웹페이지를 파싱합니다.\n",
    "from bs4 import BeautifulSoup as bs\n",
    "# 크롤링 후 결과를 데이터프레임 형태로 보기 위해 불러옵니다.\n",
    "import pandas as pd"
   ]
  },
  {
   "cell_type": "markdown",
   "metadata": {},
   "source": [
    "## 서울시 코로나19 발생동향\n",
    "* [코로나19](http://www.seoul.go.kr/coronaV/coronaStatus.do)"
   ]
  },
  {
   "cell_type": "markdown",
   "metadata": {},
   "source": [
    "## requests 로 html 문서 받아오기"
   ]
  },
  {
   "cell_type": "code",
   "execution_count": 2,
   "metadata": {},
   "outputs": [
    {
     "data": {
      "text/plain": [
       "<Response [200]>"
      ]
     },
     "execution_count": 2,
     "metadata": {},
     "output_type": "execute_result"
    }
   ],
   "source": [
    "# 크롤링 할 사이트\n",
    "base_url = \"http://www.seoul.go.kr/coronaV/coronaStatus.do?menu_code=01\"\n",
    "response = requests.get( base_url )\n",
    "response"
   ]
  },
  {
   "cell_type": "code",
   "execution_count": 3,
   "metadata": {},
   "outputs": [
    {
     "data": {
      "text/plain": [
       "'\\n<!DOCTYPE HTML>\\n\\n<html lang=\"ko\">\\n<head>\\n<meta charset=\"utf-8\"/>\\n<meta content=\"IE=Edge\" http-equiv=\"X-UA-Compatible\"/>\\n<meta content=\"width=device-width, initial-scale=1.0\" name=\"viewport\">\\n<title>서울시 코로나19</title>\\n<meta content=\"서울시 코로나19 통합정보 사이트로 안전·방역(발생동향, 클린존, 선별진료소, 일일브리핑, 공정 공급마스크&amp;홍보물, 보도자료, 소식지, 신고(응답소)), 생활정보(주요뉴스, 생활경제 지원, 온라인 문화생활, 팩트체크, 심리지원단, 정책 제안하기), 시민 참여(잠시멈춤 캠페인, 온서울캠페인, 시민제안)등의 정보를 제공하고 있습니다.\" name=\"description\"/>\\n<meta content=\"website\" property=\"og:type\"/>\\n<meta content=\"서울시 코로나19 통합사이트\" property=\"og:title\"/>\\n<meta content=\"서울시 코로나19 통합정보 사이트로 안전·방역(발생동향, 클린존, 선별진료소, 일일브리핑, 공정 공급마스크&amp;홍보물, 보도자료, 소식지, 신고(응답소)), 생활정보(주요뉴스, 생활경제 지원, 온라인 문화생활, 팩트체크, 심리지원단, 정책 제안하기), 시민 참여(잠시멈춤 캠페인, 온서울캠페인, 시민제안)등의 정보를 제공하고 있습니다.\" property=\"og:description\"/>\\n<meta content=\"https://www.seoul.go.kr/coronaV/coronaStatus.do\" property=\"og:url\"/>\\n<meta content=\"http://www.seoul.go.kr/res_newseoul/images/corona/pic_facebook_20200325.jpg\" property=\"og:image\"/>\\n<meta content=\"summary\" n'"
      ]
     },
     "execution_count": 3,
     "metadata": {},
     "output_type": "execute_result"
    }
   ],
   "source": [
    "if response.status_code == 200:\n",
    "    soup = bs(response.text, 'html.parser')\n",
    "\n",
    "str(soup)[:1000]"
   ]
  },
  {
   "cell_type": "markdown",
   "metadata": {},
   "source": [
    "## 서울 확진자 현황"
   ]
  },
  {
   "cell_type": "code",
   "execution_count": 4,
   "metadata": {},
   "outputs": [
    {
     "data": {
      "text/plain": [
       "7"
      ]
     },
     "execution_count": 4,
     "metadata": {},
     "output_type": "execute_result"
    }
   ],
   "source": [
    "#move-cont1 > div:nth-child(2) > div\n",
    "cont_page = soup.select(\"#move-cont1 > div.status-confirm > div.cont-page-wrap > div.cont-page\")\n",
    "len(cont_page)"
   ]
  },
  {
   "cell_type": "code",
   "execution_count": 5,
   "metadata": {
    "scrolled": true
   },
   "outputs": [
    {
     "data": {
      "text/plain": [
       "[<tr> <th scope=\"col\">연번</th> <th scope=\"col\">환자</th> <th scope=\"col\">확진일</th> <th scope=\"col\">거주지</th> <th scope=\"col\">여행력</th> <th scope=\"col\">접촉력</th> <th scope=\"col\">조치사항</th> </tr>,\n",
       " <tr> <th scope=\"row\">621</th> <td data-tit=\"환자 번호\" scope=\"col\">10635</td> <td data-tit=\"확진일\">4.16.</td> <td data-tit=\"거주지\">용산구</td> <td data-tit=\"여행력\">미국</td> <td data-tit=\"접촉력\">해외 접촉 추정</td> <td data-tit=\"조치사항\">보라매병원</td> </tr>,\n",
       " <tr> <th scope=\"row\">620</th> <td data-tit=\"환자 번호\" scope=\"col\">10632</td> <td data-tit=\"확진일\">4.16.</td> <td data-tit=\"거주지\">강남구</td> <td data-tit=\"여행력\">-</td> <td data-tit=\"접촉력\">#10054 접촉</td> <td data-tit=\"조치사항\">서울의료원</td> </tr>]"
      ]
     },
     "execution_count": 5,
     "metadata": {},
     "output_type": "execute_result"
    }
   ],
   "source": [
    "trs_ex =  cont_page[0].select(\"tr\")\n",
    "trs_ex[:3]"
   ]
  },
  {
   "cell_type": "markdown",
   "metadata": {},
   "source": [
    "## 행 데이터 리스트로 만들기"
   ]
  },
  {
   "cell_type": "code",
   "execution_count": 6,
   "metadata": {},
   "outputs": [
    {
     "data": {
      "text/plain": [
       "[['621', '10635', '4.16.', '용산구', '미국', '해외 접촉 추정', '보라매병원'],\n",
       " ['620', '10632', '4.16.', '강남구', '-', '#10054 접촉', '서울의료원']]"
      ]
     },
     "execution_count": 6,
     "metadata": {},
     "output_type": "execute_result"
    }
   ],
   "source": [
    "def parse_tr(trs):\n",
    "    table = []\n",
    "    for tr in trs:\n",
    "        tds = tr.select(\"td\")\n",
    "        if len(tds) > 0 :\n",
    "            row = []\n",
    "            # 연번\n",
    "            number = tr.select(\"th\")[0].get_text()\n",
    "            row.append(number)\n",
    "            # 연번 외 데이터\n",
    "            for td in tds:\n",
    "                val = td.get_text()\n",
    "                row.append(val)\n",
    "            table.append(row)\n",
    "    return table\n",
    "\n",
    "parse_tr(trs_ex[:3])"
   ]
  },
  {
   "cell_type": "markdown",
   "metadata": {},
   "source": [
    "## 페이지마다 가져오기"
   ]
  },
  {
   "cell_type": "code",
   "execution_count": 7,
   "metadata": {},
   "outputs": [
    {
     "data": {
      "text/plain": [
       "[['621', '10635', '4.16.', '용산구', '미국', '해외 접촉 추정', '보라매병원'],\n",
       " ['620', '10632', '4.16.', '강남구', '-', '#10054 접촉', '서울의료원'],\n",
       " ['619', '10597', '4.15.', '서대문구', '미국', '해외 접촉 추정', '적십자병원'],\n",
       " ['618', '10610', '4.14.', '중구', '-', '#9800 접촉', '보라매병원'],\n",
       " ['617', '10589', '4.14.', '서초구', '스페인', '해외 접촉 추정', '보라매병원']]"
      ]
     },
     "execution_count": 7,
     "metadata": {},
     "output_type": "execute_result"
    }
   ],
   "source": [
    "#move-cont1 > div:nth-child(2) > table\n",
    "#move-cont1 > div:nth-child(2) > table.tstyle05.tstyleP > thead > tr > th:nth-child(1)\n",
    "#cont-page2\n",
    "table_result = []\n",
    "for page in cont_page:\n",
    "    trs = page.select(\"tr\")\n",
    "    result = parse_tr(trs)\n",
    "    table_result.extend(result)\n",
    "\n",
    "table_result[:5]"
   ]
  },
  {
   "cell_type": "markdown",
   "metadata": {},
   "source": [
    "## 컬럼명 만들기"
   ]
  },
  {
   "cell_type": "code",
   "execution_count": 8,
   "metadata": {},
   "outputs": [
    {
     "data": {
      "text/plain": [
       "[<th scope=\"col\">연번</th>,\n",
       " <th scope=\"col\">환자</th>,\n",
       " <th scope=\"col\">확진일</th>,\n",
       " <th scope=\"col\">거주지</th>,\n",
       " <th scope=\"col\">여행력</th>,\n",
       " <th scope=\"col\">접촉력</th>,\n",
       " <th scope=\"col\">조치사항</th>]"
      ]
     },
     "execution_count": 8,
     "metadata": {},
     "output_type": "execute_result"
    }
   ],
   "source": [
    "# 컬럼명 만들기\n",
    "cols = trs_ex[0].select(\"th\")\n",
    "cols"
   ]
  },
  {
   "cell_type": "code",
   "execution_count": 9,
   "metadata": {},
   "outputs": [
    {
     "data": {
      "text/plain": [
       "['연번', '환자', '확진일', '거주지', '여행력', '접촉력', '조치사항']"
      ]
     },
     "execution_count": 9,
     "metadata": {},
     "output_type": "execute_result"
    }
   ],
   "source": [
    "col_name = []\n",
    "for col in cols:\n",
    "    col_name.append(col.get_text())\n",
    "col_name"
   ]
  },
  {
   "cell_type": "markdown",
   "metadata": {},
   "source": [
    "## 데이터프레임으로 만들기"
   ]
  },
  {
   "cell_type": "code",
   "execution_count": 10,
   "metadata": {},
   "outputs": [
    {
     "name": "stdout",
     "output_type": "stream",
     "text": [
      "(621, 7)\n"
     ]
    },
    {
     "data": {
      "text/html": [
       "<div>\n",
       "<style scoped>\n",
       "    .dataframe tbody tr th:only-of-type {\n",
       "        vertical-align: middle;\n",
       "    }\n",
       "\n",
       "    .dataframe tbody tr th {\n",
       "        vertical-align: top;\n",
       "    }\n",
       "\n",
       "    .dataframe thead th {\n",
       "        text-align: right;\n",
       "    }\n",
       "</style>\n",
       "<table border=\"1\" class=\"dataframe\">\n",
       "  <thead>\n",
       "    <tr style=\"text-align: right;\">\n",
       "      <th></th>\n",
       "      <th>연번</th>\n",
       "      <th>환자</th>\n",
       "      <th>확진일</th>\n",
       "      <th>거주지</th>\n",
       "      <th>여행력</th>\n",
       "      <th>접촉력</th>\n",
       "      <th>조치사항</th>\n",
       "    </tr>\n",
       "  </thead>\n",
       "  <tbody>\n",
       "    <tr>\n",
       "      <th>0</th>\n",
       "      <td>621</td>\n",
       "      <td>10635</td>\n",
       "      <td>4.16.</td>\n",
       "      <td>용산구</td>\n",
       "      <td>미국</td>\n",
       "      <td>해외 접촉 추정</td>\n",
       "      <td>보라매병원</td>\n",
       "    </tr>\n",
       "    <tr>\n",
       "      <th>1</th>\n",
       "      <td>620</td>\n",
       "      <td>10632</td>\n",
       "      <td>4.16.</td>\n",
       "      <td>강남구</td>\n",
       "      <td>-</td>\n",
       "      <td>#10054 접촉</td>\n",
       "      <td>서울의료원</td>\n",
       "    </tr>\n",
       "    <tr>\n",
       "      <th>2</th>\n",
       "      <td>619</td>\n",
       "      <td>10597</td>\n",
       "      <td>4.15.</td>\n",
       "      <td>서대문구</td>\n",
       "      <td>미국</td>\n",
       "      <td>해외 접촉 추정</td>\n",
       "      <td>적십자병원</td>\n",
       "    </tr>\n",
       "    <tr>\n",
       "      <th>3</th>\n",
       "      <td>618</td>\n",
       "      <td>10610</td>\n",
       "      <td>4.14.</td>\n",
       "      <td>중구</td>\n",
       "      <td>-</td>\n",
       "      <td>#9800 접촉</td>\n",
       "      <td>보라매병원</td>\n",
       "    </tr>\n",
       "    <tr>\n",
       "      <th>4</th>\n",
       "      <td>617</td>\n",
       "      <td>10589</td>\n",
       "      <td>4.14.</td>\n",
       "      <td>서초구</td>\n",
       "      <td>스페인</td>\n",
       "      <td>해외 접촉 추정</td>\n",
       "      <td>보라매병원</td>\n",
       "    </tr>\n",
       "  </tbody>\n",
       "</table>\n",
       "</div>"
      ],
      "text/plain": [
       "    연번     환자    확진일   거주지  여행력        접촉력   조치사항\n",
       "0  621  10635  4.16.   용산구   미국   해외 접촉 추정  보라매병원\n",
       "1  620  10632  4.16.   강남구    -  #10054 접촉  서울의료원\n",
       "2  619  10597  4.15.  서대문구   미국   해외 접촉 추정  적십자병원\n",
       "3  618  10610  4.14.    중구    -   #9800 접촉  보라매병원\n",
       "4  617  10589  4.14.   서초구  스페인   해외 접촉 추정  보라매병원"
      ]
     },
     "execution_count": 10,
     "metadata": {},
     "output_type": "execute_result"
    }
   ],
   "source": [
    "df = pd.DataFrame(table_result, columns=col_name)\n",
    "print(df.shape)\n",
    "df.head()"
   ]
  },
  {
   "cell_type": "markdown",
   "metadata": {},
   "source": [
    "## CSV 파일로 저장하기"
   ]
  },
  {
   "cell_type": "code",
   "execution_count": 11,
   "metadata": {},
   "outputs": [],
   "source": [
    "df.to_csv(\"covid-19-seoul.csv\", index=False)"
   ]
  },
  {
   "cell_type": "markdown",
   "metadata": {},
   "source": [
    "## CSV 파일 읽어오기"
   ]
  },
  {
   "cell_type": "code",
   "execution_count": 12,
   "metadata": {},
   "outputs": [
    {
     "data": {
      "text/html": [
       "<div>\n",
       "<style scoped>\n",
       "    .dataframe tbody tr th:only-of-type {\n",
       "        vertical-align: middle;\n",
       "    }\n",
       "\n",
       "    .dataframe tbody tr th {\n",
       "        vertical-align: top;\n",
       "    }\n",
       "\n",
       "    .dataframe thead th {\n",
       "        text-align: right;\n",
       "    }\n",
       "</style>\n",
       "<table border=\"1\" class=\"dataframe\">\n",
       "  <thead>\n",
       "    <tr style=\"text-align: right;\">\n",
       "      <th></th>\n",
       "      <th>연번</th>\n",
       "      <th>환자</th>\n",
       "      <th>확진일</th>\n",
       "      <th>거주지</th>\n",
       "      <th>여행력</th>\n",
       "      <th>접촉력</th>\n",
       "      <th>조치사항</th>\n",
       "    </tr>\n",
       "  </thead>\n",
       "  <tbody>\n",
       "    <tr>\n",
       "      <th>0</th>\n",
       "      <td>621</td>\n",
       "      <td>10635</td>\n",
       "      <td>4.16.</td>\n",
       "      <td>용산구</td>\n",
       "      <td>미국</td>\n",
       "      <td>해외 접촉 추정</td>\n",
       "      <td>보라매병원</td>\n",
       "    </tr>\n",
       "    <tr>\n",
       "      <th>1</th>\n",
       "      <td>620</td>\n",
       "      <td>10632</td>\n",
       "      <td>4.16.</td>\n",
       "      <td>강남구</td>\n",
       "      <td>-</td>\n",
       "      <td>#10054 접촉</td>\n",
       "      <td>서울의료원</td>\n",
       "    </tr>\n",
       "    <tr>\n",
       "      <th>2</th>\n",
       "      <td>619</td>\n",
       "      <td>10597</td>\n",
       "      <td>4.15.</td>\n",
       "      <td>서대문구</td>\n",
       "      <td>미국</td>\n",
       "      <td>해외 접촉 추정</td>\n",
       "      <td>적십자병원</td>\n",
       "    </tr>\n",
       "    <tr>\n",
       "      <th>3</th>\n",
       "      <td>618</td>\n",
       "      <td>10610</td>\n",
       "      <td>4.14.</td>\n",
       "      <td>중구</td>\n",
       "      <td>-</td>\n",
       "      <td>#9800 접촉</td>\n",
       "      <td>보라매병원</td>\n",
       "    </tr>\n",
       "    <tr>\n",
       "      <th>4</th>\n",
       "      <td>617</td>\n",
       "      <td>10589</td>\n",
       "      <td>4.14.</td>\n",
       "      <td>서초구</td>\n",
       "      <td>스페인</td>\n",
       "      <td>해외 접촉 추정</td>\n",
       "      <td>보라매병원</td>\n",
       "    </tr>\n",
       "    <tr>\n",
       "      <th>5</th>\n",
       "      <td>616</td>\n",
       "      <td>10584</td>\n",
       "      <td>4.14.</td>\n",
       "      <td>서초구</td>\n",
       "      <td>미국</td>\n",
       "      <td>해외 접촉 추정</td>\n",
       "      <td>적십자병원</td>\n",
       "    </tr>\n",
       "    <tr>\n",
       "      <th>6</th>\n",
       "      <td>615</td>\n",
       "      <td>10569</td>\n",
       "      <td>4.14.</td>\n",
       "      <td>동작구</td>\n",
       "      <td>영국</td>\n",
       "      <td>해외 접촉 추정</td>\n",
       "      <td>서울의료원</td>\n",
       "    </tr>\n",
       "    <tr>\n",
       "      <th>7</th>\n",
       "      <td>614</td>\n",
       "      <td>10575</td>\n",
       "      <td>4.14.</td>\n",
       "      <td>성동구</td>\n",
       "      <td>아일랜드</td>\n",
       "      <td>해외 접촉 추정</td>\n",
       "      <td>보라매병원</td>\n",
       "    </tr>\n",
       "    <tr>\n",
       "      <th>8</th>\n",
       "      <td>613</td>\n",
       "      <td>10588</td>\n",
       "      <td>4.13.</td>\n",
       "      <td>성북구</td>\n",
       "      <td>-</td>\n",
       "      <td>#10044 접촉</td>\n",
       "      <td>적십자병원</td>\n",
       "    </tr>\n",
       "    <tr>\n",
       "      <th>9</th>\n",
       "      <td>612</td>\n",
       "      <td>10559</td>\n",
       "      <td>4.13.</td>\n",
       "      <td>성동구</td>\n",
       "      <td>미국</td>\n",
       "      <td>해외 접촉 추정</td>\n",
       "      <td>적십자병원</td>\n",
       "    </tr>\n",
       "  </tbody>\n",
       "</table>\n",
       "</div>"
      ],
      "text/plain": [
       "    연번     환자    확진일   거주지   여행력        접촉력   조치사항\n",
       "0  621  10635  4.16.   용산구    미국   해외 접촉 추정  보라매병원\n",
       "1  620  10632  4.16.   강남구     -  #10054 접촉  서울의료원\n",
       "2  619  10597  4.15.  서대문구    미국   해외 접촉 추정  적십자병원\n",
       "3  618  10610  4.14.    중구     -   #9800 접촉  보라매병원\n",
       "4  617  10589  4.14.   서초구   스페인   해외 접촉 추정  보라매병원\n",
       "5  616  10584  4.14.   서초구    미국   해외 접촉 추정  적십자병원\n",
       "6  615  10569  4.14.   동작구    영국   해외 접촉 추정  서울의료원\n",
       "7  614  10575  4.14.   성동구  아일랜드   해외 접촉 추정  보라매병원\n",
       "8  613  10588  4.13.   성북구     -  #10044 접촉  적십자병원\n",
       "9  612  10559  4.13.   성동구    미국   해외 접촉 추정  적십자병원"
      ]
     },
     "execution_count": 12,
     "metadata": {},
     "output_type": "execute_result"
    }
   ],
   "source": [
    "pd.read_csv(\"covid-19-seoul.csv\").head(10)"
   ]
  },
  {
   "cell_type": "code",
   "execution_count": 13,
   "metadata": {},
   "outputs": [
    {
     "data": {
      "text/plain": [
       "해외접촉 추정         183\n",
       "구로구 콜센터 관련       60\n",
       "확인중              45\n",
       "구로구 교회 관련        41\n",
       "콜센터직원 접촉         35\n",
       "               ... \n",
       "#8044 접촉          1\n",
       "#9912 접촉          1\n",
       "#794 접촉자(추정)      1\n",
       "#8881 접촉 추정       1\n",
       "#56 접촉자           1\n",
       "Name: 접촉력, Length: 100, dtype: int64"
      ]
     },
     "execution_count": 13,
     "metadata": {},
     "output_type": "execute_result"
    }
   ],
   "source": [
    "df[\"접촉력\"].value_counts()"
   ]
  },
  {
   "cell_type": "code",
   "execution_count": 14,
   "metadata": {},
   "outputs": [
    {
     "data": {
      "text/plain": [
       "서울의료원           117\n",
       "보라매병원            89\n",
       "서울의료원(퇴원)        66\n",
       "서남병원(퇴원)         64\n",
       "생활치료센터           51\n",
       "보라매병원(퇴원)        46\n",
       "서남병원             37\n",
       "서북병원(퇴원)         16\n",
       "국립중앙의료원(퇴원)      15\n",
       "국립중앙의료원          11\n",
       "서울대학교병원(퇴원)      10\n",
       "타시도이관(퇴원)         9\n",
       "중앙대학교병원(퇴원)       8\n",
       "생활치료센터(퇴원)        8\n",
       "서북병원              6\n",
       "타시도 이관            6\n",
       "적십자병원             5\n",
       "타시도 이관(퇴원)        5\n",
       "서울성모병원            5\n",
       "상계백병원(퇴원)         4\n",
       "한일병원(퇴원)          4\n",
       "은평성모병원            4\n",
       "서울아산병원            3\n",
       "강북삼성병원            2\n",
       "순천향대학병원           2\n",
       "고대구로병원(퇴원)        2\n",
       "삼육서울병원(퇴원)        2\n",
       "순천향서울병원(퇴원)       2\n",
       "한양대학교병원(퇴원)       1\n",
       "고대안암병원(퇴원)        1\n",
       "삼육서울병원            1\n",
       "경희대학교병원           1\n",
       "원자력병원             1\n",
       "세브란스병원(사망)        1\n",
       "서울대학교병원           1\n",
       "건대병원              1\n",
       "서울백병원(퇴원)         1\n",
       "세브란스병원(퇴원)        1\n",
       "한양대병원             1\n",
       "상계병원              1\n",
       "중앙대병원(퇴원)         1\n",
       "국립중앙의료원(재입원)      1\n",
       "서울아산병원(퇴원)        1\n",
       "삼성서울병원            1\n",
       "타시도이관             1\n",
       "서울의료원(사망)         1\n",
       "고대구로병원            1\n",
       "강남세브란스병원(퇴원)      1\n",
       "강남세브란스병원          1\n",
       "상계백병원             1\n",
       "Name: 조치사항, dtype: int64"
      ]
     },
     "execution_count": 14,
     "metadata": {},
     "output_type": "execute_result"
    }
   ],
   "source": [
    "df[\"조치사항\"].value_counts()"
   ]
  },
  {
   "cell_type": "code",
   "execution_count": null,
   "metadata": {},
   "outputs": [],
   "source": []
  },
  {
   "cell_type": "code",
   "execution_count": null,
   "metadata": {},
   "outputs": [],
   "source": []
  }
 ],
 "metadata": {
  "kernelspec": {
   "display_name": "Python 3",
   "language": "python",
   "name": "python3"
  },
  "language_info": {
   "codemirror_mode": {
    "name": "ipython",
    "version": 3
   },
   "file_extension": ".py",
   "mimetype": "text/x-python",
   "name": "python",
   "nbconvert_exporter": "python",
   "pygments_lexer": "ipython3",
   "version": "3.7.3"
  },
  "toc": {
   "base_numbering": 1,
   "nav_menu": {},
   "number_sections": true,
   "sideBar": true,
   "skip_h1_title": false,
   "title_cell": "Table of Contents",
   "title_sidebar": "Contents",
   "toc_cell": false,
   "toc_position": {},
   "toc_section_display": true,
   "toc_window_display": false
  },
  "varInspector": {
   "cols": {
    "lenName": 16,
    "lenType": 16,
    "lenVar": 40
   },
   "kernels_config": {
    "python": {
     "delete_cmd_postfix": "",
     "delete_cmd_prefix": "del ",
     "library": "var_list.py",
     "varRefreshCmd": "print(var_dic_list())"
    },
    "r": {
     "delete_cmd_postfix": ") ",
     "delete_cmd_prefix": "rm(",
     "library": "var_list.r",
     "varRefreshCmd": "cat(var_dic_list()) "
    }
   },
   "types_to_exclude": [
    "module",
    "function",
    "builtin_function_or_method",
    "instance",
    "_Feature"
   ],
   "window_display": false
  }
 },
 "nbformat": 4,
 "nbformat_minor": 4
}
