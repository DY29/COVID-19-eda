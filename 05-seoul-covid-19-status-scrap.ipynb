{
 "cells": [
  {
   "cell_type": "markdown",
   "metadata": {},
   "source": [
    "## 라이브러리 로드"
   ]
  },
  {
   "cell_type": "code",
   "execution_count": 1,
   "metadata": {},
   "outputs": [],
   "source": [
    "# 라이브러리 로드\n",
    "# requests는 작은 웹브라우저로 웹사이트 내용을 가져옵니다.\n",
    "import requests\n",
    "# BeautifulSoup 을 통해 읽어 온 웹페이지를 파싱합니다.\n",
    "from bs4 import BeautifulSoup as bs\n",
    "# 크롤링 후 결과를 데이터프레임 형태로 보기 위해 불러옵니다.\n",
    "import pandas as pd"
   ]
  },
  {
   "cell_type": "markdown",
   "metadata": {},
   "source": [
    "## 서울시 코로나19 발생동향\n",
    "* [코로나19](http://www.seoul.go.kr/coronaV/coronaStatus.do)"
   ]
  },
  {
   "cell_type": "markdown",
   "metadata": {},
   "source": [
    "## requests 로 html 문서 받아오기"
   ]
  },
  {
   "cell_type": "code",
   "execution_count": 2,
   "metadata": {},
   "outputs": [
    {
     "data": {
      "text/plain": [
       "<Response [200]>"
      ]
     },
     "execution_count": 2,
     "metadata": {},
     "output_type": "execute_result"
    }
   ],
   "source": [
    "# 크롤링 할 사이트\n",
    "base_url = \"http://www.seoul.go.kr/coronaV/coronaStatus.do?menu_code=01\"\n",
    "response = requests.get( base_url )\n",
    "response"
   ]
  },
  {
   "cell_type": "code",
   "execution_count": 3,
   "metadata": {},
   "outputs": [
    {
     "data": {
      "text/plain": [
       "'\\n<!DOCTYPE HTML>\\n\\n<html lang=\"ko\">\\n<head>\\n<meta charset=\"utf-8\"/>\\n<meta content=\"IE=Edge\" http-equiv=\"X-UA-Compatible\"/>\\n<meta content=\"width=device-width, initial-scale=1.0\" name=\"viewport\">\\n<title>서울시 코로나19</title>\\n<meta content=\"서울시 코로나19 통합정보 사이트로 안전·방역(발생동향, 클린존, 선별진료소, 일일브리핑, 공정 공급마스크&amp;홍보물, 보도자료, 소식지, 신고(응답소)), 생활정보(주요뉴스, 생활경제 지원, 온라인 문화생활, 팩트체크, 심리지원단, 정책 제안하기), 시민 참여(잠시멈춤 캠페인, 온서울캠페인, 시민제안)등의 정보를 제공하고 있습니다.\" name=\"description\"/>\\n<meta content=\"website\" property=\"og:type\"/>\\n<meta content=\"서울시 코로나19 통합사이트\" property=\"og:title\"/>\\n<meta content=\"서울시 코로나19 통합정보 사이트로 안전·방역(발생동향, 클린존, 선별진료소, 일일브리핑, 공정 공급마스크&amp;홍보물, 보도자료, 소식지, 신고(응답소)), 생활정보(주요뉴스, 생활경제 지원, 온라인 문화생활, 팩트체크, 심리지원단, 정책 제안하기), 시민 참여(잠시멈춤 캠페인, 온서울캠페인, 시민제안)등의 정보를 제공하고 있습니다.\" property=\"og:description\"/>\\n<meta content=\"https://www.seoul.go.kr/coronaV/coronaStatus.do\" property=\"og:url\"/>\\n<meta content=\"http://www.seoul.go.kr/res_newseoul/images/corona/pic_facebook_20200325.jpg\" property=\"og:image\"/>\\n<meta content=\"summary\" n'"
      ]
     },
     "execution_count": 3,
     "metadata": {},
     "output_type": "execute_result"
    }
   ],
   "source": [
    "if response.status_code == 200:\n",
    "    soup = bs(response.text, 'html.parser')\n",
    "\n",
    "str(soup)[:1000]"
   ]
  },
  {
   "cell_type": "markdown",
   "metadata": {},
   "source": [
    "## 서울 확진자 현황"
   ]
  },
  {
   "cell_type": "code",
   "execution_count": 87,
   "metadata": {},
   "outputs": [
    {
     "data": {
      "text/plain": [
       "5"
      ]
     },
     "execution_count": 87,
     "metadata": {},
     "output_type": "execute_result"
    }
   ],
   "source": [
    "#move-cont1 > div:nth-child(2) > div\n",
    "cont_page = soup.select(\"#move-cont1 > div.status-confirm > div.display-none > div.cont-page-wrap > div.cont-page\")\n",
    "len(cont_page)"
   ]
  },
  {
   "cell_type": "code",
   "execution_count": 89,
   "metadata": {},
   "outputs": [
    {
     "data": {
      "text/plain": [
       "<div class=\"cont-page\" id=\"cont-page5\"><table class=\"tstyle05 tstyleP\"><caption>서울 확진자 현황</caption><thead><tr><th scope=\"col\">연번</th><th scope=\"col\">환자</th><th scope=\"col\">확진일</th><th scope=\"col\">성별(출생년)</th><th scope=\"col\">거주지</th><th scope=\"col\">여행력</th><th scope=\"col\">접촉력</th><th scope=\"col\">조치사항</th></tr></thead><tbody><tr><th scope=\"row\">494</th><td data-tit=\"환자 번호\" scope=\"col\">9949</td><td data-tit=\"확진일\">4.01.</td><td data-tit=\"성별(출생년)\">여('68)</td><td data-tit=\"거주지\">양천구</td><td data-tit=\"여행력\">-</td><td data-tit=\"접촉력\">구로구 교회 관련</td><td data-tit=\"조치사항\">-</td></tr><tr><th scope=\"row\">493</th><td data-tit=\"환자 번호\" scope=\"col\">확인중</td><td data-tit=\"확진일\">4.01.</td><td data-tit=\"성별(출생년)\">남('65)</td><td data-tit=\"거주지\">영등포구</td><td data-tit=\"여행력\">-</td><td data-tit=\"접촉력\">#8271 접촉</td><td data-tit=\"조치사항\">-</td></tr><tr><th scope=\"row\">492</th><td data-tit=\"환자 번호\" scope=\"col\">9931</td><td data-tit=\"확진일\">4.01.</td><td data-tit=\"성별(출생년)\">남('01)</td><td data-tit=\"거주지\">고양</td><td data-tit=\"여행력\">미국</td><td data-tit=\"접촉력\">해외접촉 추정</td><td data-tit=\"조치사항\">타시도</td></tr><tr><th scope=\"row\">491</th><td data-tit=\"환자 번호\" scope=\"col\">9911</td><td data-tit=\"확진일\">4.01.</td><td data-tit=\"성별(출생년)\">여('95)</td><td data-tit=\"거주지\">광진구</td><td data-tit=\"여행력\">영국</td><td data-tit=\"접촉력\">해외접촉 추정</td><td data-tit=\"조치사항\">서울의료원</td></tr><tr><th scope=\"row\">490</th><td data-tit=\"환자 번호\" scope=\"col\">확인중</td><td data-tit=\"확진일\">4.01.</td><td data-tit=\"성별(출생년)\">여('32)</td><td data-tit=\"거주지\">서대문구</td><td data-tit=\"여행력\">미국</td><td data-tit=\"접촉력\">해외접촉 추정</td><td data-tit=\"조치사항\">서울의료원</td></tr><tr><th scope=\"row\">489</th><td data-tit=\"환자 번호\" scope=\"col\">9944</td><td data-tit=\"확진일\">4.01.</td><td data-tit=\"성별(출생년)\">여('82)</td><td data-tit=\"거주지\">용인</td><td data-tit=\"여행력\">브라질</td><td data-tit=\"접촉력\">해외접촉 추정</td><td data-tit=\"조치사항\">타시도</td></tr><tr><th scope=\"row\">488</th><td data-tit=\"환자 번호\" scope=\"col\">9974</td><td data-tit=\"확진일\">4.01.</td><td data-tit=\"성별(출생년)\">여('92)</td><td data-tit=\"거주지\">서초구</td><td data-tit=\"여행력\">미국</td><td data-tit=\"접촉력\">해외접촉 추정</td><td data-tit=\"조치사항\">서울의료원</td></tr><tr><th scope=\"row\">487</th><td data-tit=\"환자 번호\" scope=\"col\">9946</td><td data-tit=\"확진일\">4.01.</td><td data-tit=\"성별(출생년)\">남('82)</td><td data-tit=\"거주지\">서초구</td><td data-tit=\"여행력\">-</td><td data-tit=\"접촉력\">#8669 접촉</td><td data-tit=\"조치사항\">서울의료원</td></tr><tr><th scope=\"row\">486</th><td data-tit=\"환자 번호\" scope=\"col\">9939</td><td data-tit=\"확진일\">4.01.</td><td data-tit=\"성별(출생년)\">여('81)</td><td data-tit=\"거주지\">동작구</td><td data-tit=\"여행력\">일본</td><td data-tit=\"접촉력\">해외접촉 주청</td><td data-tit=\"조치사항\">보라매병원</td></tr><tr><th scope=\"row\">485</th><td data-tit=\"환자 번호\" scope=\"col\">확인중</td><td data-tit=\"확진일\">4.01.</td><td data-tit=\"성별(출생년)\">여('99)</td><td data-tit=\"거주지\">송파구</td><td data-tit=\"여행력\">영국</td><td data-tit=\"접촉력\">해외접촉 주청</td><td data-tit=\"조치사항\">서남병원</td></tr><tr><th scope=\"row\">484</th><td data-tit=\"환자 번호\" scope=\"col\">9951</td><td data-tit=\"확진일\">4.01.</td><td data-tit=\"성별(출생년)\">여('19)</td><td data-tit=\"거주지\">스페인</td><td data-tit=\"여행력\">스페인</td><td data-tit=\"접촉력\">해외접촉 주청</td><td data-tit=\"조치사항\">보라매병원</td></tr><tr><th scope=\"row\">483</th><td data-tit=\"환자 번호\" scope=\"col\">확인중</td><td data-tit=\"확진일\">4.01.</td><td data-tit=\"성별(출생년)\">여('14)</td><td data-tit=\"거주지\">스페인</td><td data-tit=\"여행력\">스페인</td><td data-tit=\"접촉력\">해외접촉 주청</td><td data-tit=\"조치사항\">보라매병원</td></tr><tr><th scope=\"row\">482</th><td data-tit=\"환자 번호\" scope=\"col\">9963</td><td data-tit=\"확진일\">4.01.</td><td data-tit=\"성별(출생년)\">여('85)</td><td data-tit=\"거주지\">스페인</td><td data-tit=\"여행력\">스페인</td><td data-tit=\"접촉력\">해외접촉 주청</td><td data-tit=\"조치사항\">보라매병원</td></tr><tr><th scope=\"row\">481</th><td data-tit=\"환자 번호\" scope=\"col\">9950</td><td data-tit=\"확진일\">4.01.</td><td data-tit=\"성별(출생년)\">남('84)</td><td data-tit=\"거주지\">스페인</td><td data-tit=\"여행력\">스페인</td><td data-tit=\"접촉력\">해외접촉 주청</td><td data-tit=\"조치사항\">보라매병원</td></tr><tr><th scope=\"row\">480</th><td data-tit=\"환자 번호\" scope=\"col\">9932</td><td data-tit=\"확진일\">4.01.</td><td data-tit=\"성별(출생년)\">남('72)</td><td data-tit=\"거주지\">마포구</td><td data-tit=\"여행력\">팔라우</td><td data-tit=\"접촉력\">해외접촉 주청</td><td data-tit=\"조치사항\">보라매병원</td></tr><tr><th scope=\"row\">479</th><td data-tit=\"환자 번호\" scope=\"col\">9930</td><td data-tit=\"확진일\">4.01.</td><td data-tit=\"성별(출생년)\">여('88)</td><td data-tit=\"거주지\">동대문구</td><td data-tit=\"여행력\">캐나다</td><td data-tit=\"접촉력\">해외접촉 주청</td><td data-tit=\"조치사항\">서울의료원</td></tr><tr><th scope=\"row\">478</th><td data-tit=\"환자 번호\" scope=\"col\">9912</td><td data-tit=\"확진일\">3.31.</td><td data-tit=\"성별(출생년)\">여('10)</td><td data-tit=\"거주지\">서초구</td><td data-tit=\"여행력\">-</td><td data-tit=\"접촉력\">확인중</td><td data-tit=\"조치사항\">서울아산병원</td></tr><tr><th scope=\"row\">477</th><td data-tit=\"환자 번호\" scope=\"col\">확인중</td><td data-tit=\"확진일\">3.31.</td><td data-tit=\"성별(출생년)\">남('95)</td><td data-tit=\"거주지\">관악구</td><td data-tit=\"여행력\">아일랜드</td><td data-tit=\"접촉력\">해외접촉 주청</td><td data-tit=\"조치사항\">서남병원</td></tr><tr><th scope=\"row\">476</th><td data-tit=\"환자 번호\" scope=\"col\">9929</td><td data-tit=\"확진일\">3.31.</td><td data-tit=\"성별(출생년)\">여('97)</td><td data-tit=\"거주지\">광진구</td><td data-tit=\"여행력\">영국</td><td data-tit=\"접촉력\">해외접촉 추정</td><td data-tit=\"조치사항\">건대병원</td></tr><tr><th scope=\"row\">475</th><td data-tit=\"환자 번호\" scope=\"col\">확인중</td><td data-tit=\"확진일\">3.30.</td><td data-tit=\"성별(출생년)\">여('97)</td><td data-tit=\"거주지\">용산구</td><td data-tit=\"여행력\">영국</td><td data-tit=\"접촉력\">해외접촉 추정</td><td data-tit=\"조치사항\">서울의료원</td></tr><tr><th scope=\"row\">474</th><td data-tit=\"환자 번호\" scope=\"col\">9864</td><td data-tit=\"확진일\">3.31.</td><td data-tit=\"성별(출생년)\">여('85)</td><td data-tit=\"거주지\">종로구</td><td data-tit=\"여행력\">캐나다</td><td data-tit=\"접촉력\">해외접촉 추정</td><td data-tit=\"조치사항\">강북삼성병원</td></tr><tr><th scope=\"row\">473</th><td data-tit=\"환자 번호\" scope=\"col\">9870</td><td data-tit=\"확진일\">3.31.</td><td data-tit=\"성별(출생년)\">남('58)</td><td data-tit=\"거주지\">수원</td><td data-tit=\"여행력\">-</td><td data-tit=\"접촉력\">#9734 접촉</td><td data-tit=\"조치사항\">타시도 이관</td></tr><tr><th scope=\"row\">472</th><td data-tit=\"환자 번호\" scope=\"col\">9800</td><td data-tit=\"확진일\">3.31.</td><td data-tit=\"성별(출생년)\">여('71)</td><td data-tit=\"거주지\">중구</td><td data-tit=\"여행력\">-</td><td data-tit=\"접촉력\">#9734 접촉</td><td data-tit=\"조치사항\">보라매병원</td></tr><tr><th scope=\"row\">471</th><td data-tit=\"환자 번호\" scope=\"col\">9867</td><td data-tit=\"확진일\">3.31.</td><td data-tit=\"성별(출생년)\">남('81)</td><td data-tit=\"거주지\">양천구</td><td data-tit=\"여행력\">-</td><td data-tit=\"접촉력\">콜센터직원 접촉</td><td data-tit=\"조치사항\">서남병원</td></tr><tr><th scope=\"row\">470</th><td data-tit=\"환자 번호\" scope=\"col\">9883</td><td data-tit=\"확진일\">3.31.</td><td data-tit=\"성별(출생년)\">남('97)</td><td data-tit=\"거주지\">서초구</td><td data-tit=\"여행력\">미국</td><td data-tit=\"접촉력\">해외접촉 추정</td><td data-tit=\"조치사항\">보라매병원</td></tr><tr><th scope=\"row\">469</th><td data-tit=\"환자 번호\" scope=\"col\">9810</td><td data-tit=\"확진일\">3.31.</td><td data-tit=\"성별(출생년)\">남('91)</td><td data-tit=\"거주지\">관악구</td><td data-tit=\"여행력\">영국</td><td data-tit=\"접촉력\">해외접촉 추정</td><td data-tit=\"조치사항\">보라매병원</td></tr><tr><th scope=\"row\">468</th><td data-tit=\"환자 번호\" scope=\"col\">9849</td><td data-tit=\"확진일\">3.31.</td><td data-tit=\"성별(출생년)\">여('91)</td><td data-tit=\"거주지\">마포구</td><td data-tit=\"여행력\">미국, 캐나다, 멕시코</td><td data-tit=\"접촉력\">해외접촉 추정</td><td data-tit=\"조치사항\">서남병원</td></tr><tr><th scope=\"row\">467</th><td data-tit=\"환자 번호\" scope=\"col\">9829</td><td data-tit=\"확진일\">3.31.</td><td data-tit=\"성별(출생년)\">남('98)</td><td data-tit=\"거주지\">송파구</td><td data-tit=\"여행력\">영국</td><td data-tit=\"접촉력\">해외접촉 추정</td><td data-tit=\"조치사항\">서울의료원</td></tr><tr><th scope=\"row\">466</th><td data-tit=\"환자 번호\" scope=\"col\">9859</td><td data-tit=\"확진일\">3.31.</td><td data-tit=\"성별(출생년)\">여('97)</td><td data-tit=\"거주지\">송파구</td><td data-tit=\"여행력\">미국</td><td data-tit=\"접촉력\">해외접촉 추정</td><td data-tit=\"조치사항\">서울의료원</td></tr><tr><th scope=\"row\">465</th><td data-tit=\"환자 번호\" scope=\"col\">9837</td><td data-tit=\"확진일\">3.31.</td><td data-tit=\"성별(출생년)\">여('75)</td><td data-tit=\"거주지\">관악구</td><td data-tit=\"여행력\">-</td><td data-tit=\"접촉력\">구로구 교회 관련</td><td data-tit=\"조치사항\">서남병원</td></tr><tr><th scope=\"row\">464</th><td data-tit=\"환자 번호\" scope=\"col\">9812</td><td data-tit=\"확진일\">3.31.</td><td data-tit=\"성별(출생년)\">여('79)</td><td data-tit=\"거주지\">관악구</td><td data-tit=\"여행력\">-</td><td data-tit=\"접촉력\">구로구 교회 관련</td><td data-tit=\"조치사항\">서남병원</td></tr><tr><th scope=\"row\">463</th><td data-tit=\"환자 번호\" scope=\"col\">9876</td><td data-tit=\"확진일\">3.31.</td><td data-tit=\"성별(출생년)\">남('46)</td><td data-tit=\"거주지\">관악구</td><td data-tit=\"여행력\">-</td><td data-tit=\"접촉력\">구로구 교회 관련</td><td data-tit=\"조치사항\">서울의료원</td></tr><tr><th scope=\"row\">462</th><td data-tit=\"환자 번호\" scope=\"col\">9852</td><td data-tit=\"확진일\">3.31.</td><td data-tit=\"성별(출생년)\">여('61)</td><td data-tit=\"거주지\">동작구</td><td data-tit=\"여행력\">-</td><td data-tit=\"접촉력\">구로구 교회 관련</td><td data-tit=\"조치사항\">보라매병원</td></tr><tr><th scope=\"row\">461</th><td data-tit=\"환자 번호\" scope=\"col\">9879</td><td data-tit=\"확진일\">3.31.</td><td data-tit=\"성별(출생년)\">남('68)</td><td data-tit=\"거주지\">관악구</td><td data-tit=\"여행력\">-</td><td data-tit=\"접촉력\">구로구 교회 관련</td><td data-tit=\"조치사항\">서남병원</td></tr><tr><th scope=\"row\">460</th><td data-tit=\"환자 번호\" scope=\"col\">9821</td><td data-tit=\"확진일\">3.31.</td><td data-tit=\"성별(출생년)\">남('93)</td><td data-tit=\"거주지\">강남구</td><td data-tit=\"여행력\">미국</td><td data-tit=\"접촉력\">해외접촉 추정</td><td data-tit=\"조치사항\">생활치료센터</td></tr><tr><th scope=\"row\">459</th><td data-tit=\"환자 번호\" scope=\"col\">9854</td><td data-tit=\"확진일\">3.31.</td><td data-tit=\"성별(출생년)\">여('96)</td><td data-tit=\"거주지\">강남구</td><td data-tit=\"여행력\">미국</td><td data-tit=\"접촉력\">해외접촉 추정</td><td data-tit=\"조치사항\">생활치료센터</td></tr><tr><th scope=\"row\">458</th><td data-tit=\"환자 번호\" scope=\"col\">9847</td><td data-tit=\"확진일\">3.31.</td><td data-tit=\"성별(출생년)\">여('87)</td><td data-tit=\"거주지\">강남구</td><td data-tit=\"여행력\">프랑스</td><td data-tit=\"접촉력\">해외접촉 추정</td><td data-tit=\"조치사항\">보라매병원</td></tr><tr><th scope=\"row\">457</th><td data-tit=\"환자 번호\" scope=\"col\">9815</td><td data-tit=\"확진일\">3.31.</td><td data-tit=\"성별(출생년)\">여('67)</td><td data-tit=\"거주지\">구로구</td><td data-tit=\"여행력\">-</td><td data-tit=\"접촉력\">구로구 교회 관련</td><td data-tit=\"조치사항\">서남병원</td></tr><tr><th scope=\"row\">456</th><td data-tit=\"환자 번호\" scope=\"col\">9795</td><td data-tit=\"확진일\">3.31.</td><td data-tit=\"성별(출생년)\">여('92)</td><td data-tit=\"거주지\">종로구</td><td data-tit=\"여행력\">미국 뉴욕</td><td data-tit=\"접촉력\">해외접촉 추정</td><td data-tit=\"조치사항\">서울의료원</td></tr><tr><th scope=\"row\">455</th><td data-tit=\"환자 번호\" scope=\"col\">9886</td><td data-tit=\"확진일\">3.31.</td><td data-tit=\"성별(출생년)\">남('84)</td><td data-tit=\"거주지\">영등포구</td><td data-tit=\"여행력\">오스트리아</td><td data-tit=\"접촉력\">해외접촉 추정</td><td data-tit=\"조치사항\">보라매병원</td></tr><tr><th scope=\"row\">454</th><td data-tit=\"환자 번호\" scope=\"col\">9833</td><td data-tit=\"확진일\">3.31.</td><td data-tit=\"성별(출생년)\">여('73)</td><td data-tit=\"거주지\">마포구</td><td data-tit=\"여행력\">미국, 브라질</td><td data-tit=\"접촉력\">해외접촉 추정</td><td data-tit=\"조치사항\">서남병원</td></tr><tr><th scope=\"row\">453</th><td data-tit=\"환자 번호\" scope=\"col\">9813</td><td data-tit=\"확진일\">3.30.</td><td data-tit=\"성별(출생년)\">여('73)</td><td data-tit=\"거주지\">광명</td><td data-tit=\"여행력\">-</td><td data-tit=\"접촉력\">구로구 교회 관련</td><td data-tit=\"조치사항\">타시도 이관</td></tr><tr><th scope=\"row\">452</th><td data-tit=\"환자 번호\" scope=\"col\">9869</td><td data-tit=\"확진일\">3.30.</td><td data-tit=\"성별(출생년)\">여('94)</td><td data-tit=\"거주지\">강동구</td><td data-tit=\"여행력\">미국</td><td data-tit=\"접촉력\">해외접촉 추정</td><td data-tit=\"조치사항\">서울의료원</td></tr><tr><th scope=\"row\">451</th><td data-tit=\"환자 번호\" scope=\"col\">9797</td><td data-tit=\"확진일\">3.29.</td><td data-tit=\"성별(출생년)\">여('52)</td><td data-tit=\"거주지\">동작구</td><td data-tit=\"여행력\">-</td><td data-tit=\"접촉력\">구로구 교회 관련</td><td data-tit=\"조치사항\">보라매병원</td></tr><tr><th scope=\"row\">450</th><td data-tit=\"환자 번호\" scope=\"col\">9699</td><td data-tit=\"확진일\">3.30.</td><td data-tit=\"성별(출생년)\">남('99)</td><td data-tit=\"거주지\">천안</td><td data-tit=\"여행력\">미국</td><td data-tit=\"접촉력\">해외접촉 추정</td><td data-tit=\"조치사항\">타시도 이관</td></tr><tr><th scope=\"row\">449</th><td data-tit=\"환자 번호\" scope=\"col\">9693</td><td data-tit=\"확진일\">3.30.</td><td data-tit=\"성별(출생년)\">여('65)</td><td data-tit=\"거주지\">구로구</td><td data-tit=\"여행력\">-</td><td data-tit=\"접촉력\">구로구 교회 관련</td><td data-tit=\"조치사항\">서남병원</td></tr><tr><th scope=\"row\">448</th><td data-tit=\"환자 번호\" scope=\"col\">9728</td><td data-tit=\"확진일\">3.30.</td><td data-tit=\"성별(출생년)\">여('98)</td><td data-tit=\"거주지\">용산구</td><td data-tit=\"여행력\">미국</td><td data-tit=\"접촉력\">해외접촉 추정</td><td data-tit=\"조치사항\">보라매병원</td></tr><tr><th scope=\"row\">447</th><td data-tit=\"환자 번호\" scope=\"col\">9725</td><td data-tit=\"확진일\">3.30.</td><td data-tit=\"성별(출생년)\">남('64)</td><td data-tit=\"거주지\">중구</td><td data-tit=\"여행력\">-</td><td data-tit=\"접촉력\">#9734 접촉</td><td data-tit=\"조치사항\">보라매병원</td></tr><tr><th scope=\"row\">446</th><td data-tit=\"환자 번호\" scope=\"col\">9687</td><td data-tit=\"확진일\">3.30.</td><td data-tit=\"성별(출생년)\">남('90)</td><td data-tit=\"거주지\">동작구</td><td data-tit=\"여행력\">영국</td><td data-tit=\"접촉력\">해외접촉 추정</td><td data-tit=\"조치사항\">생활치료센터</td></tr><tr><th scope=\"row\">445</th><td data-tit=\"환자 번호\" scope=\"col\">9752</td><td data-tit=\"확진일\">3.30.</td><td data-tit=\"성별(출생년)\">여('96)</td><td data-tit=\"거주지\">용산구</td><td data-tit=\"여행력\">영국</td><td data-tit=\"접촉력\">해외접촉 추정</td><td data-tit=\"조치사항\">서울의료원</td></tr><tr><th scope=\"row\">444</th><td data-tit=\"환자 번호\" scope=\"col\">9760</td><td data-tit=\"확진일\">3.30.</td><td data-tit=\"성별(출생년)\">남('67)</td><td data-tit=\"거주지\">구로구</td><td data-tit=\"여행력\">-</td><td data-tit=\"접촉력\">구로구 교회 관련</td><td data-tit=\"조치사항\">보라매병원</td></tr><tr><th scope=\"row\">443</th><td data-tit=\"환자 번호\" scope=\"col\">9734</td><td data-tit=\"확진일\">3.30.</td><td data-tit=\"성별(출생년)\">여('65)</td><td data-tit=\"거주지\">서초구</td><td data-tit=\"여행력\">미국</td><td data-tit=\"접촉력\">해외접촉 추정</td><td data-tit=\"조치사항\">생활치료센터</td></tr><tr><th scope=\"row\">442</th><td data-tit=\"환자 번호\" scope=\"col\">9706</td><td data-tit=\"확진일\">3.30.</td><td data-tit=\"성별(출생년)\">남('63)</td><td data-tit=\"거주지\">서초구</td><td data-tit=\"여행력\">-</td><td data-tit=\"접촉력\">#9734 접촉</td><td data-tit=\"조치사항\">서울의료원</td></tr><tr><th scope=\"row\">441</th><td data-tit=\"환자 번호\" scope=\"col\">9765</td><td data-tit=\"확진일\">3.30.</td><td data-tit=\"성별(출생년)\">여('03)</td><td data-tit=\"거주지\">송파구</td><td data-tit=\"여행력\">미국</td><td data-tit=\"접촉력\">해외접촉 추정</td><td data-tit=\"조치사항\">서울의료원</td></tr><tr><th scope=\"row\">440</th><td data-tit=\"환자 번호\" scope=\"col\">9723</td><td data-tit=\"확진일\">3.30.</td><td data-tit=\"성별(출생년)\">남('66)</td><td data-tit=\"거주지\">동작구</td><td data-tit=\"여행력\">-</td><td data-tit=\"접촉력\">구로구 교회 관련</td><td data-tit=\"조치사항\">보라매병원</td></tr><tr><th scope=\"row\">439</th><td data-tit=\"환자 번호\" scope=\"col\">9763</td><td data-tit=\"확진일\">3.30.</td><td data-tit=\"성별(출생년)\">여('48)</td><td data-tit=\"거주지\">관악구</td><td data-tit=\"여행력\">-</td><td data-tit=\"접촉력\">구로구 교회 관련</td><td data-tit=\"조치사항\">강북삼성병원</td></tr><tr><th scope=\"row\">438</th><td data-tit=\"환자 번호\" scope=\"col\">9716</td><td data-tit=\"확진일\">3.30.</td><td data-tit=\"성별(출생년)\">여('70)</td><td data-tit=\"거주지\">관악구</td><td data-tit=\"여행력\">-</td><td data-tit=\"접촉력\">구로구 교회 관련</td><td data-tit=\"조치사항\">보라매병원</td></tr><tr><th scope=\"row\">437</th><td data-tit=\"환자 번호\" scope=\"col\">9751</td><td data-tit=\"확진일\">3.30.</td><td data-tit=\"성별(출생년)\">여('50)</td><td data-tit=\"거주지\">관악구</td><td data-tit=\"여행력\">-</td><td data-tit=\"접촉력\">구로구 교회 관련</td><td data-tit=\"조치사항\">중앙대병원</td></tr><tr><th scope=\"row\">436</th><td data-tit=\"환자 번호\" scope=\"col\">9709</td><td data-tit=\"확진일\">3.30.</td><td data-tit=\"성별(출생년)\">남('02)</td><td data-tit=\"거주지\">용산구</td><td data-tit=\"여행력\">-</td><td data-tit=\"접촉력\">#9621 접촉</td><td data-tit=\"조치사항\">생활치료센터</td></tr><tr><th scope=\"row\">435</th><td data-tit=\"환자 번호\" scope=\"col\">9682</td><td data-tit=\"확진일\">3.30.</td><td data-tit=\"성별(출생년)\">여('64)</td><td data-tit=\"거주지\">관악구</td><td data-tit=\"여행력\">-</td><td data-tit=\"접촉력\">구로구 교회 관련</td><td data-tit=\"조치사항\">생활치료센터</td></tr><tr><th scope=\"row\">434</th><td data-tit=\"환자 번호\" scope=\"col\">9766</td><td data-tit=\"확진일\">3.29.</td><td data-tit=\"성별(출생년)\">남('72)</td><td data-tit=\"거주지\">광명</td><td data-tit=\"여행력\">-</td><td data-tit=\"접촉력\">구로구 교회 관련</td><td data-tit=\"조치사항\">타시도이관</td></tr><tr><th scope=\"row\">433</th><td data-tit=\"환자 번호\" scope=\"col\">9704</td><td data-tit=\"확진일\">3.29.</td><td data-tit=\"성별(출생년)\">여('75)</td><td data-tit=\"거주지\">동작구</td><td data-tit=\"여행력\">-</td><td data-tit=\"접촉력\">구로구 교회 관련</td><td data-tit=\"조치사항\">보라매병원</td></tr><tr><th scope=\"row\">432</th><td data-tit=\"환자 번호\" scope=\"col\">9772</td><td data-tit=\"확진일\">3.29.</td><td data-tit=\"성별(출생년)\">여('71)</td><td data-tit=\"거주지\">금천구</td><td data-tit=\"여행력\">-</td><td data-tit=\"접촉력\">구로구 교회 관련</td><td data-tit=\"조치사항\">보라매병원</td></tr><tr><th scope=\"row\">431</th><td data-tit=\"환자 번호\" scope=\"col\">9679</td><td data-tit=\"확진일\">3.29.</td><td data-tit=\"성별(출생년)\">여('66)</td><td data-tit=\"거주지\">금천구</td><td data-tit=\"여행력\">-</td><td data-tit=\"접촉력\">구로구 교회 관련</td><td data-tit=\"조치사항\">보라매병원</td></tr><tr><th scope=\"row\">430</th><td data-tit=\"환자 번호\" scope=\"col\">9783</td><td data-tit=\"확진일\">3.29.</td><td data-tit=\"성별(출생년)\">남('69)</td><td data-tit=\"거주지\">금천구</td><td data-tit=\"여행력\">-</td><td data-tit=\"접촉력\">구로구 교회 관련</td><td data-tit=\"조치사항\">보라매병원</td></tr><tr><th scope=\"row\">429</th><td data-tit=\"환자 번호\" scope=\"col\">9697</td><td data-tit=\"확진일\">3.29.</td><td data-tit=\"성별(출생년)\">여('64)</td><td data-tit=\"거주지\">금천구</td><td data-tit=\"여행력\">-</td><td data-tit=\"접촉력\">구로구 교회 관련</td><td data-tit=\"조치사항\">보라매병원</td></tr><tr><th scope=\"row\">428</th><td data-tit=\"환자 번호\" scope=\"col\">9757</td><td data-tit=\"확진일\">3.29.</td><td data-tit=\"성별(출생년)\">남('36)</td><td data-tit=\"거주지\">구로구</td><td data-tit=\"여행력\">-</td><td data-tit=\"접촉력\">구로구 교회 관련</td><td data-tit=\"조치사항\">보라매병원</td></tr><tr><th scope=\"row\">427</th><td data-tit=\"환자 번호\" scope=\"col\">9696</td><td data-tit=\"확진일\">3.27.</td><td data-tit=\"성별(출생년)\">남('65)</td><td data-tit=\"거주지\">금천구</td><td data-tit=\"여행력\">-</td><td data-tit=\"접촉력\">구로구 교회 관련</td><td data-tit=\"조치사항\">보라매병원</td></tr><tr><th scope=\"row\">427</th><td data-tit=\"환자 번호\" scope=\"col\">9696</td><td data-tit=\"확진일\">3.27.</td><td data-tit=\"성별(출생년)\">남('65)</td><td data-tit=\"거주지\">금천구</td><td data-tit=\"여행력\">-</td><td data-tit=\"접촉력\">구로구 교회 관련</td><td data-tit=\"조치사항\">보라매병원</td></tr><tr><th scope=\"row\">426</th><td data-tit=\"환자 번호\" scope=\"col\">9613</td><td data-tit=\"확진일\">3.29.</td><td data-tit=\"성별(출생년)\">여('88)</td><td data-tit=\"거주지\">광진구</td><td data-tit=\"여행력\">미국</td><td data-tit=\"접촉력\">해외접촉 추정</td><td data-tit=\"조치사항\">서북병원</td></tr><tr><th scope=\"row\">425</th><td data-tit=\"환자 번호\" scope=\"col\">9627</td><td data-tit=\"확진일\">3.29.</td><td data-tit=\"성별(출생년)\">남('89)</td><td data-tit=\"거주지\">서대문구</td><td data-tit=\"여행력\">영국</td><td data-tit=\"접촉력\">해외접촉 추정</td><td data-tit=\"조치사항\">서북병원</td></tr><tr><th scope=\"row\">424</th><td data-tit=\"환자 번호\" scope=\"col\">9599</td><td data-tit=\"확진일\">3.29.</td><td data-tit=\"성별(출생년)\">여('87)</td><td data-tit=\"거주지\">송파구</td><td data-tit=\"여행력\">미국</td><td data-tit=\"접촉력\">해외접촉 추정</td><td data-tit=\"조치사항\">서울의료원</td></tr><tr><th scope=\"row\">423</th><td data-tit=\"환자 번호\" scope=\"col\">9628</td><td data-tit=\"확진일\">3.29.</td><td data-tit=\"성별(출생년)\">여('10)</td><td data-tit=\"거주지\">강남구</td><td data-tit=\"여행력\">영국</td><td data-tit=\"접촉력\">해외접촉 추정</td><td data-tit=\"조치사항\">보라매병원</td></tr><tr><th scope=\"row\">422</th><td data-tit=\"환자 번호\" scope=\"col\">9642</td><td data-tit=\"확진일\">3.29.</td><td data-tit=\"성별(출생년)\">남('75)</td><td data-tit=\"거주지\">강남구</td><td data-tit=\"여행력\">-</td><td data-tit=\"접촉력\">#9572 접촉</td><td data-tit=\"조치사항\">보라매병원</td></tr><tr><th scope=\"row\">421</th><td data-tit=\"환자 번호\" scope=\"col\">9607</td><td data-tit=\"확진일\">3.29.</td><td data-tit=\"성별(출생년)\">여('98)</td><td data-tit=\"거주지\">강남구</td><td data-tit=\"여행력\">영국</td><td data-tit=\"접촉력\">해외접촉 추정</td><td data-tit=\"조치사항\">서울의료원</td></tr><tr><th scope=\"row\">420</th><td data-tit=\"환자 번호\" scope=\"col\">9603</td><td data-tit=\"확진일\">3.29.</td><td data-tit=\"성별(출생년)\">여('68)</td><td data-tit=\"거주지\">강남구</td><td data-tit=\"여행력\">미국</td><td data-tit=\"접촉력\">해외접촉 추정</td><td data-tit=\"조치사항\">서울의료원</td></tr><tr><th scope=\"row\">419</th><td data-tit=\"환자 번호\" scope=\"col\">9633</td><td data-tit=\"확진일\">3.29.</td><td data-tit=\"성별(출생년)\">남('94)</td><td data-tit=\"거주지\">서초구</td><td data-tit=\"여행력\">미국</td><td data-tit=\"접촉력\">해외접촉 추정</td><td data-tit=\"조치사항\">서북병원</td></tr><tr><th scope=\"row\">418</th><td data-tit=\"환자 번호\" scope=\"col\">9641</td><td data-tit=\"확진일\">3.29.</td><td data-tit=\"성별(출생년)\">여('65)</td><td data-tit=\"거주지\">도봉구</td><td data-tit=\"여행력\">-</td><td data-tit=\"접촉력\">확인중</td><td data-tit=\"조치사항\">서울의료원</td></tr><tr><th scope=\"row\">417</th><td data-tit=\"환자 번호\" scope=\"col\">9644</td><td data-tit=\"확진일\">3.29.</td><td data-tit=\"성별(출생년)\">여('92)</td><td data-tit=\"거주지\">마포구</td><td data-tit=\"여행력\">미국</td><td data-tit=\"접촉력\">해외접촉 추정</td><td data-tit=\"조치사항\">보라매병원</td></tr><tr><th scope=\"row\">416</th><td data-tit=\"환자 번호\" scope=\"col\">9652</td><td data-tit=\"확진일\">3.29.</td><td data-tit=\"성별(출생년)\">여('65)</td><td data-tit=\"거주지\">관악구</td><td data-tit=\"여행력\">-</td><td data-tit=\"접촉력\">#9525 접촉</td><td data-tit=\"조치사항\">보라매병원</td></tr><tr><th scope=\"row\">415</th><td data-tit=\"환자 번호\" scope=\"col\">9610</td><td data-tit=\"확진일\">3.29.</td><td data-tit=\"성별(출생년)\">남('65)</td><td data-tit=\"거주지\">관악구</td><td data-tit=\"여행력\">-</td><td data-tit=\"접촉력\">#9525 접촉</td><td data-tit=\"조치사항\">보라매병원</td></tr><tr><th scope=\"row\">414</th><td data-tit=\"환자 번호\" scope=\"col\">9629</td><td data-tit=\"확진일\">3.29.</td><td data-tit=\"성별(출생년)\">여('63)</td><td data-tit=\"거주지\">관악구</td><td data-tit=\"여행력\">-</td><td data-tit=\"접촉력\">구로구 교회 관련</td><td data-tit=\"조치사항\">보라매병원</td></tr><tr><th scope=\"row\">413</th><td data-tit=\"환자 번호\" scope=\"col\">9621</td><td data-tit=\"확진일\">3.29.</td><td data-tit=\"성별(출생년)\">남('94)</td><td data-tit=\"거주지\">인천</td><td data-tit=\"여행력\">미국</td><td data-tit=\"접촉력\">해외접촉 추정</td><td data-tit=\"조치사항\">서울의료원</td></tr><tr><th scope=\"row\">412</th><td data-tit=\"환자 번호\" scope=\"col\">9597</td><td data-tit=\"확진일\">3.28.</td><td data-tit=\"성별(출생년)\">여('72)</td><td data-tit=\"거주지\">구로구</td><td data-tit=\"여행력\">-</td><td data-tit=\"접촉력\">구로구 교회 관련</td><td data-tit=\"조치사항\">서울의료원</td></tr><tr><th scope=\"row\">411</th><td data-tit=\"환자 번호\" scope=\"col\">9634</td><td data-tit=\"확진일\">3.28.</td><td data-tit=\"성별(출생년)\">여('62)</td><td data-tit=\"거주지\">동작구</td><td data-tit=\"여행력\">-</td><td data-tit=\"접촉력\">구로구 교회 관련</td><td data-tit=\"조치사항\">서울의료원</td></tr><tr><th scope=\"row\">410</th><td data-tit=\"환자 번호\" scope=\"col\">9552</td><td data-tit=\"확진일\">3.28.</td><td data-tit=\"성별(출생년)\">여('95)</td><td data-tit=\"거주지\">성남</td><td data-tit=\"여행력\">미국</td><td data-tit=\"접촉력\">해외접촉 추정</td><td data-tit=\"조치사항\">타시도이관</td></tr><tr><th scope=\"row\">409</th><td data-tit=\"환자 번호\" scope=\"col\">9515</td><td data-tit=\"확진일\">3.28.</td><td data-tit=\"성별(출생년)\">여('78)</td><td data-tit=\"거주지\">서초구</td><td data-tit=\"여행력\">스페인</td><td data-tit=\"접촉력\">해외접촉 추정</td><td data-tit=\"조치사항\">서울의료원</td></tr><tr><th scope=\"row\">408</th><td data-tit=\"환자 번호\" scope=\"col\">9545</td><td data-tit=\"확진일\">3.28.</td><td data-tit=\"성별(출생년)\">여('95)</td><td data-tit=\"거주지\">양천구</td><td data-tit=\"여행력\">미국</td><td data-tit=\"접촉력\">해외접촉 추정</td><td data-tit=\"조치사항\">서남병원</td></tr><tr><th scope=\"row\">407</th><td data-tit=\"환자 번호\" scope=\"col\">9385</td><td data-tit=\"확진일\">3.28.</td><td data-tit=\"성별(출생년)\">여('96)</td><td data-tit=\"거주지\">강남구</td><td data-tit=\"여행력\">미국</td><td data-tit=\"접촉력\">해외접촉 추정</td><td data-tit=\"조치사항\">생활치료센터</td></tr><tr><th scope=\"row\">406</th><td data-tit=\"환자 번호\" scope=\"col\">9574</td><td data-tit=\"확진일\">3.28.</td><td data-tit=\"성별(출생년)\">남('00)</td><td data-tit=\"거주지\">강남구</td><td data-tit=\"여행력\">영국</td><td data-tit=\"접촉력\">해외접촉 추정</td><td data-tit=\"조치사항\">생활치료센터</td></tr><tr><th scope=\"row\">405</th><td data-tit=\"환자 번호\" scope=\"col\">9524</td><td data-tit=\"확진일\">3.28.</td><td data-tit=\"성별(출생년)\">남('94)</td><td data-tit=\"거주지\">강남구</td><td data-tit=\"여행력\">-</td><td data-tit=\"접촉력\">#7914 접촉</td><td data-tit=\"조치사항\">서울의료원</td></tr><tr><th scope=\"row\">404</th><td data-tit=\"환자 번호\" scope=\"col\">9560</td><td data-tit=\"확진일\">3.28.</td><td data-tit=\"성별(출생년)\">남('03)</td><td data-tit=\"거주지\">강남구</td><td data-tit=\"여행력\">미국</td><td data-tit=\"접촉력\">해외접촉 추정</td><td data-tit=\"조치사항\">서울의료원</td></tr><tr><th scope=\"row\">403</th><td data-tit=\"환자 번호\" scope=\"col\">9571</td><td data-tit=\"확진일\">3.28.</td><td data-tit=\"성별(출생년)\">여('80)</td><td data-tit=\"거주지\">동작구</td><td data-tit=\"여행력\">-</td><td data-tit=\"접촉력\">#8669 접촉</td><td data-tit=\"조치사항\">보라매병원</td></tr><tr><th scope=\"row\">402</th><td data-tit=\"환자 번호\" scope=\"col\">9507</td><td data-tit=\"확진일\">3.28.</td><td data-tit=\"성별(출생년)\">남('96)</td><td data-tit=\"거주지\">서초구</td><td data-tit=\"여행력\">미국</td><td data-tit=\"접촉력\">해외접촉 추정</td><td data-tit=\"조치사항\">보라매병원</td></tr><tr><th scope=\"row\">401</th><td data-tit=\"환자 번호\" scope=\"col\">9572</td><td data-tit=\"확진일\">3.28.</td><td data-tit=\"성별(출생년)\">여('76)</td><td data-tit=\"거주지\">강남구</td><td data-tit=\"여행력\">영국</td><td data-tit=\"접촉력\">해외접촉 추정</td><td data-tit=\"조치사항\">보라매병원</td></tr></tbody></table></div>"
      ]
     },
     "execution_count": 89,
     "metadata": {},
     "output_type": "execute_result"
    }
   ],
   "source": [
    "cont_page[0]"
   ]
  },
  {
   "cell_type": "code",
   "execution_count": 90,
   "metadata": {
    "scrolled": true
   },
   "outputs": [
    {
     "data": {
      "text/plain": [
       "[<tr><th scope=\"col\">연번</th><th scope=\"col\">환자</th><th scope=\"col\">확진일</th><th scope=\"col\">성별(출생년)</th><th scope=\"col\">거주지</th><th scope=\"col\">여행력</th><th scope=\"col\">접촉력</th><th scope=\"col\">조치사항</th></tr>,\n",
       " <tr><th scope=\"row\">494</th><td data-tit=\"환자 번호\" scope=\"col\">9949</td><td data-tit=\"확진일\">4.01.</td><td data-tit=\"성별(출생년)\">여('68)</td><td data-tit=\"거주지\">양천구</td><td data-tit=\"여행력\">-</td><td data-tit=\"접촉력\">구로구 교회 관련</td><td data-tit=\"조치사항\">-</td></tr>,\n",
       " <tr><th scope=\"row\">493</th><td data-tit=\"환자 번호\" scope=\"col\">확인중</td><td data-tit=\"확진일\">4.01.</td><td data-tit=\"성별(출생년)\">남('65)</td><td data-tit=\"거주지\">영등포구</td><td data-tit=\"여행력\">-</td><td data-tit=\"접촉력\">#8271 접촉</td><td data-tit=\"조치사항\">-</td></tr>]"
      ]
     },
     "execution_count": 90,
     "metadata": {},
     "output_type": "execute_result"
    }
   ],
   "source": [
    "trs_ex =  cont_page[0].select(\"tr\")\n",
    "trs_ex[:3]"
   ]
  },
  {
   "cell_type": "markdown",
   "metadata": {},
   "source": [
    "## 행 데이터 리스트로 만들기"
   ]
  },
  {
   "cell_type": "code",
   "execution_count": 91,
   "metadata": {},
   "outputs": [
    {
     "data": {
      "text/plain": [
       "[['494', '9949', '4.01.', \"여('68)\", '양천구', '-', '구로구 교회 관련', '-'],\n",
       " ['493', '확인중', '4.01.', \"남('65)\", '영등포구', '-', '#8271 접촉', '-']]"
      ]
     },
     "execution_count": 91,
     "metadata": {},
     "output_type": "execute_result"
    }
   ],
   "source": [
    "def parse_tr(trs):\n",
    "    table = []\n",
    "    for tr in trs:\n",
    "        tds = tr.select(\"td\")\n",
    "        if len(tds) > 0 :\n",
    "            row = []\n",
    "            # 연번\n",
    "            number = tr.select(\"th\")[0].get_text()\n",
    "            row.append(number)\n",
    "            # 연번 외 데이터\n",
    "            for td in tds:\n",
    "                val = td.get_text()\n",
    "                row.append(val)\n",
    "            table.append(row)\n",
    "    return table\n",
    "\n",
    "parse_tr(trs_ex[:3])"
   ]
  },
  {
   "cell_type": "markdown",
   "metadata": {},
   "source": [
    "## 페이지마다 가져오기"
   ]
  },
  {
   "cell_type": "code",
   "execution_count": 92,
   "metadata": {},
   "outputs": [
    {
     "data": {
      "text/plain": [
       "[['494', '9949', '4.01.', \"여('68)\", '양천구', '-', '구로구 교회 관련', '-'],\n",
       " ['493', '확인중', '4.01.', \"남('65)\", '영등포구', '-', '#8271 접촉', '-'],\n",
       " ['492', '9931', '4.01.', \"남('01)\", '고양', '미국', '해외접촉 추정', '타시도'],\n",
       " ['491', '9911', '4.01.', \"여('95)\", '광진구', '영국', '해외접촉 추정', '서울의료원'],\n",
       " ['490', '확인중', '4.01.', \"여('32)\", '서대문구', '미국', '해외접촉 추정', '서울의료원']]"
      ]
     },
     "execution_count": 92,
     "metadata": {},
     "output_type": "execute_result"
    }
   ],
   "source": [
    "#move-cont1 > div:nth-child(2) > table\n",
    "#move-cont1 > div:nth-child(2) > table.tstyle05.tstyleP > thead > tr > th:nth-child(1)\n",
    "#cont-page2\n",
    "table_result = []\n",
    "for page in cont_page:\n",
    "    trs = page.select(\"tr\")\n",
    "    result = parse_tr(trs)\n",
    "    table_result.extend(result)\n",
    "\n",
    "table_result[:5]"
   ]
  },
  {
   "cell_type": "markdown",
   "metadata": {},
   "source": [
    "## 컬럼명 만들기"
   ]
  },
  {
   "cell_type": "code",
   "execution_count": 93,
   "metadata": {},
   "outputs": [
    {
     "data": {
      "text/plain": [
       "[<th scope=\"col\">연번</th>,\n",
       " <th scope=\"col\">환자</th>,\n",
       " <th scope=\"col\">확진일</th>,\n",
       " <th scope=\"col\">성별(출생년)</th>,\n",
       " <th scope=\"col\">거주지</th>,\n",
       " <th scope=\"col\">여행력</th>,\n",
       " <th scope=\"col\">접촉력</th>,\n",
       " <th scope=\"col\">조치사항</th>]"
      ]
     },
     "execution_count": 93,
     "metadata": {},
     "output_type": "execute_result"
    }
   ],
   "source": [
    "# 컬럼명 만들기\n",
    "cols = trs_ex[0].select(\"th\")\n",
    "cols"
   ]
  },
  {
   "cell_type": "code",
   "execution_count": 94,
   "metadata": {},
   "outputs": [
    {
     "data": {
      "text/plain": [
       "['연번', '환자', '확진일', '성별(출생년)', '거주지', '여행력', '접촉력', '조치사항']"
      ]
     },
     "execution_count": 94,
     "metadata": {},
     "output_type": "execute_result"
    }
   ],
   "source": [
    "col_name = []\n",
    "for col in cols:\n",
    "    col_name.append(col.get_text())\n",
    "col_name"
   ]
  },
  {
   "cell_type": "markdown",
   "metadata": {},
   "source": [
    "## 데이터프레임으로 만들기"
   ]
  },
  {
   "cell_type": "code",
   "execution_count": 95,
   "metadata": {},
   "outputs": [
    {
     "name": "stdout",
     "output_type": "stream",
     "text": [
      "(495, 8)\n"
     ]
    },
    {
     "data": {
      "text/html": [
       "<div>\n",
       "<style scoped>\n",
       "    .dataframe tbody tr th:only-of-type {\n",
       "        vertical-align: middle;\n",
       "    }\n",
       "\n",
       "    .dataframe tbody tr th {\n",
       "        vertical-align: top;\n",
       "    }\n",
       "\n",
       "    .dataframe thead th {\n",
       "        text-align: right;\n",
       "    }\n",
       "</style>\n",
       "<table border=\"1\" class=\"dataframe\">\n",
       "  <thead>\n",
       "    <tr style=\"text-align: right;\">\n",
       "      <th></th>\n",
       "      <th>연번</th>\n",
       "      <th>환자</th>\n",
       "      <th>확진일</th>\n",
       "      <th>성별(출생년)</th>\n",
       "      <th>거주지</th>\n",
       "      <th>여행력</th>\n",
       "      <th>접촉력</th>\n",
       "      <th>조치사항</th>\n",
       "    </tr>\n",
       "  </thead>\n",
       "  <tbody>\n",
       "    <tr>\n",
       "      <th>0</th>\n",
       "      <td>494</td>\n",
       "      <td>9949</td>\n",
       "      <td>4.01.</td>\n",
       "      <td>여('68)</td>\n",
       "      <td>양천구</td>\n",
       "      <td>-</td>\n",
       "      <td>구로구 교회 관련</td>\n",
       "      <td>-</td>\n",
       "    </tr>\n",
       "    <tr>\n",
       "      <th>1</th>\n",
       "      <td>493</td>\n",
       "      <td>확인중</td>\n",
       "      <td>4.01.</td>\n",
       "      <td>남('65)</td>\n",
       "      <td>영등포구</td>\n",
       "      <td>-</td>\n",
       "      <td>#8271 접촉</td>\n",
       "      <td>-</td>\n",
       "    </tr>\n",
       "    <tr>\n",
       "      <th>2</th>\n",
       "      <td>492</td>\n",
       "      <td>9931</td>\n",
       "      <td>4.01.</td>\n",
       "      <td>남('01)</td>\n",
       "      <td>고양</td>\n",
       "      <td>미국</td>\n",
       "      <td>해외접촉 추정</td>\n",
       "      <td>타시도</td>\n",
       "    </tr>\n",
       "    <tr>\n",
       "      <th>3</th>\n",
       "      <td>491</td>\n",
       "      <td>9911</td>\n",
       "      <td>4.01.</td>\n",
       "      <td>여('95)</td>\n",
       "      <td>광진구</td>\n",
       "      <td>영국</td>\n",
       "      <td>해외접촉 추정</td>\n",
       "      <td>서울의료원</td>\n",
       "    </tr>\n",
       "    <tr>\n",
       "      <th>4</th>\n",
       "      <td>490</td>\n",
       "      <td>확인중</td>\n",
       "      <td>4.01.</td>\n",
       "      <td>여('32)</td>\n",
       "      <td>서대문구</td>\n",
       "      <td>미국</td>\n",
       "      <td>해외접촉 추정</td>\n",
       "      <td>서울의료원</td>\n",
       "    </tr>\n",
       "  </tbody>\n",
       "</table>\n",
       "</div>"
      ],
      "text/plain": [
       "    연번    환자    확진일 성별(출생년)   거주지 여행력        접촉력   조치사항\n",
       "0  494  9949  4.01.  여('68)   양천구   -  구로구 교회 관련      -\n",
       "1  493   확인중  4.01.  남('65)  영등포구   -   #8271 접촉      -\n",
       "2  492  9931  4.01.  남('01)    고양  미국    해외접촉 추정    타시도\n",
       "3  491  9911  4.01.  여('95)   광진구  영국    해외접촉 추정  서울의료원\n",
       "4  490   확인중  4.01.  여('32)  서대문구  미국    해외접촉 추정  서울의료원"
      ]
     },
     "execution_count": 95,
     "metadata": {},
     "output_type": "execute_result"
    }
   ],
   "source": [
    "df = pd.DataFrame(table_result, columns=col_name)\n",
    "print(df.shape)\n",
    "df.head()"
   ]
  },
  {
   "cell_type": "markdown",
   "metadata": {},
   "source": [
    "## CSV 파일로 저장하기"
   ]
  },
  {
   "cell_type": "code",
   "execution_count": 96,
   "metadata": {},
   "outputs": [],
   "source": [
    "df.to_csv(\"covid-19-seoul.csv\", index=False)"
   ]
  },
  {
   "cell_type": "markdown",
   "metadata": {},
   "source": [
    "## CSV 파일 읽어오기"
   ]
  },
  {
   "cell_type": "code",
   "execution_count": 97,
   "metadata": {},
   "outputs": [
    {
     "data": {
      "text/html": [
       "<div>\n",
       "<style scoped>\n",
       "    .dataframe tbody tr th:only-of-type {\n",
       "        vertical-align: middle;\n",
       "    }\n",
       "\n",
       "    .dataframe tbody tr th {\n",
       "        vertical-align: top;\n",
       "    }\n",
       "\n",
       "    .dataframe thead th {\n",
       "        text-align: right;\n",
       "    }\n",
       "</style>\n",
       "<table border=\"1\" class=\"dataframe\">\n",
       "  <thead>\n",
       "    <tr style=\"text-align: right;\">\n",
       "      <th></th>\n",
       "      <th>연번</th>\n",
       "      <th>환자</th>\n",
       "      <th>확진일</th>\n",
       "      <th>성별(출생년)</th>\n",
       "      <th>거주지</th>\n",
       "      <th>여행력</th>\n",
       "      <th>접촉력</th>\n",
       "      <th>조치사항</th>\n",
       "    </tr>\n",
       "  </thead>\n",
       "  <tbody>\n",
       "    <tr>\n",
       "      <th>0</th>\n",
       "      <td>494</td>\n",
       "      <td>9949</td>\n",
       "      <td>4.01.</td>\n",
       "      <td>여('68)</td>\n",
       "      <td>양천구</td>\n",
       "      <td>-</td>\n",
       "      <td>구로구 교회 관련</td>\n",
       "      <td>-</td>\n",
       "    </tr>\n",
       "    <tr>\n",
       "      <th>1</th>\n",
       "      <td>493</td>\n",
       "      <td>확인중</td>\n",
       "      <td>4.01.</td>\n",
       "      <td>남('65)</td>\n",
       "      <td>영등포구</td>\n",
       "      <td>-</td>\n",
       "      <td>#8271 접촉</td>\n",
       "      <td>-</td>\n",
       "    </tr>\n",
       "    <tr>\n",
       "      <th>2</th>\n",
       "      <td>492</td>\n",
       "      <td>9931</td>\n",
       "      <td>4.01.</td>\n",
       "      <td>남('01)</td>\n",
       "      <td>고양</td>\n",
       "      <td>미국</td>\n",
       "      <td>해외접촉 추정</td>\n",
       "      <td>타시도</td>\n",
       "    </tr>\n",
       "    <tr>\n",
       "      <th>3</th>\n",
       "      <td>491</td>\n",
       "      <td>9911</td>\n",
       "      <td>4.01.</td>\n",
       "      <td>여('95)</td>\n",
       "      <td>광진구</td>\n",
       "      <td>영국</td>\n",
       "      <td>해외접촉 추정</td>\n",
       "      <td>서울의료원</td>\n",
       "    </tr>\n",
       "    <tr>\n",
       "      <th>4</th>\n",
       "      <td>490</td>\n",
       "      <td>확인중</td>\n",
       "      <td>4.01.</td>\n",
       "      <td>여('32)</td>\n",
       "      <td>서대문구</td>\n",
       "      <td>미국</td>\n",
       "      <td>해외접촉 추정</td>\n",
       "      <td>서울의료원</td>\n",
       "    </tr>\n",
       "    <tr>\n",
       "      <th>5</th>\n",
       "      <td>489</td>\n",
       "      <td>9944</td>\n",
       "      <td>4.01.</td>\n",
       "      <td>여('82)</td>\n",
       "      <td>용인</td>\n",
       "      <td>브라질</td>\n",
       "      <td>해외접촉 추정</td>\n",
       "      <td>타시도</td>\n",
       "    </tr>\n",
       "    <tr>\n",
       "      <th>6</th>\n",
       "      <td>488</td>\n",
       "      <td>9974</td>\n",
       "      <td>4.01.</td>\n",
       "      <td>여('92)</td>\n",
       "      <td>서초구</td>\n",
       "      <td>미국</td>\n",
       "      <td>해외접촉 추정</td>\n",
       "      <td>서울의료원</td>\n",
       "    </tr>\n",
       "    <tr>\n",
       "      <th>7</th>\n",
       "      <td>487</td>\n",
       "      <td>9946</td>\n",
       "      <td>4.01.</td>\n",
       "      <td>남('82)</td>\n",
       "      <td>서초구</td>\n",
       "      <td>-</td>\n",
       "      <td>#8669 접촉</td>\n",
       "      <td>서울의료원</td>\n",
       "    </tr>\n",
       "    <tr>\n",
       "      <th>8</th>\n",
       "      <td>486</td>\n",
       "      <td>9939</td>\n",
       "      <td>4.01.</td>\n",
       "      <td>여('81)</td>\n",
       "      <td>동작구</td>\n",
       "      <td>일본</td>\n",
       "      <td>해외접촉 주청</td>\n",
       "      <td>보라매병원</td>\n",
       "    </tr>\n",
       "    <tr>\n",
       "      <th>9</th>\n",
       "      <td>485</td>\n",
       "      <td>확인중</td>\n",
       "      <td>4.01.</td>\n",
       "      <td>여('99)</td>\n",
       "      <td>송파구</td>\n",
       "      <td>영국</td>\n",
       "      <td>해외접촉 주청</td>\n",
       "      <td>서남병원</td>\n",
       "    </tr>\n",
       "  </tbody>\n",
       "</table>\n",
       "</div>"
      ],
      "text/plain": [
       "    연번    환자    확진일 성별(출생년)   거주지  여행력        접촉력   조치사항\n",
       "0  494  9949  4.01.  여('68)   양천구    -  구로구 교회 관련      -\n",
       "1  493   확인중  4.01.  남('65)  영등포구    -   #8271 접촉      -\n",
       "2  492  9931  4.01.  남('01)    고양   미국    해외접촉 추정    타시도\n",
       "3  491  9911  4.01.  여('95)   광진구   영국    해외접촉 추정  서울의료원\n",
       "4  490   확인중  4.01.  여('32)  서대문구   미국    해외접촉 추정  서울의료원\n",
       "5  489  9944  4.01.  여('82)    용인  브라질    해외접촉 추정    타시도\n",
       "6  488  9974  4.01.  여('92)   서초구   미국    해외접촉 추정  서울의료원\n",
       "7  487  9946  4.01.  남('82)   서초구    -   #8669 접촉  서울의료원\n",
       "8  486  9939  4.01.  여('81)   동작구   일본    해외접촉 주청  보라매병원\n",
       "9  485   확인중  4.01.  여('99)   송파구   영국    해외접촉 주청   서남병원"
      ]
     },
     "execution_count": 97,
     "metadata": {},
     "output_type": "execute_result"
    }
   ],
   "source": [
    "pd.read_csv(\"covid-19-seoul.csv\").head(10)"
   ]
  },
  {
   "cell_type": "code",
   "execution_count": 98,
   "metadata": {},
   "outputs": [
    {
     "data": {
      "text/plain": [
       "해외접촉 추정          124\n",
       "구로구 콜센터 관련        60\n",
       "구로구 교회 관련         37\n",
       "확인중               35\n",
       "콜센터직원 접촉          34\n",
       "                ... \n",
       "#8044 접촉           1\n",
       "은평성모병원 연관성 검토      1\n",
       "#8709 접촉 추정        1\n",
       "부동산 중개업 관련         1\n",
       "#7914 접촉           1\n",
       "Name: 접촉력, Length: 82, dtype: int64"
      ]
     },
     "execution_count": 98,
     "metadata": {},
     "output_type": "execute_result"
    }
   ],
   "source": [
    "df[\"접촉력\"].value_counts()"
   ]
  },
  {
   "cell_type": "code",
   "execution_count": 99,
   "metadata": {},
   "outputs": [
    {
     "data": {
      "text/plain": [
       "서울의료원          110\n",
       "보라매병원           81\n",
       "서남병원            70\n",
       "서울의료원(퇴원)       36\n",
       "생활치료센터          35\n",
       "서남병원(퇴원)        24\n",
       "보라매병원(퇴원)       15\n",
       "국립중앙의료원(퇴원)     14\n",
       "서북병원            11\n",
       "서울대학교병원(퇴원)     10\n",
       "국립중앙의료원         10\n",
       "서북병원(퇴원)         8\n",
       "타시도 이관           7\n",
       "타시도이관            6\n",
       "중앙대학교병원(퇴원)      5\n",
       "서울성모병원           4\n",
       "서울아산병원           3\n",
       "상계백병원(퇴원)        3\n",
       "타시도이관(퇴원)        3\n",
       "순천향서울병원          2\n",
       "고대구로병원(퇴원)       2\n",
       "-                2\n",
       "중앙대학교병원          2\n",
       "한양대학교병원(퇴원)      2\n",
       "삼육서울병원           2\n",
       "확인중              2\n",
       "강북삼성병원           2\n",
       "타시도              2\n",
       "한일병원             2\n",
       "한일병원(퇴원)         2\n",
       "순천향대학병원          2\n",
       "고대구로병원           1\n",
       "강남세브란스           1\n",
       "경희대학교병원          1\n",
       "상계병원             1\n",
       "중앙대병원            1\n",
       "서울대학교병원          1\n",
       "고대안암병원           1\n",
       "건대병원             1\n",
       "삼육서울병원(퇴원)       1\n",
       "강남세브란스병원         1\n",
       "국립중앙의료병원         1\n",
       "상계백병원            1\n",
       "서울백병원(퇴원)        1\n",
       "은평성모병원           1\n",
       "세브란스병원           1\n",
       "순천향서울병원(퇴원)      1\n",
       "Name: 조치사항, dtype: int64"
      ]
     },
     "execution_count": 99,
     "metadata": {},
     "output_type": "execute_result"
    }
   ],
   "source": [
    "df[\"조치사항\"].value_counts()"
   ]
  },
  {
   "cell_type": "code",
   "execution_count": null,
   "metadata": {},
   "outputs": [],
   "source": []
  },
  {
   "cell_type": "code",
   "execution_count": null,
   "metadata": {},
   "outputs": [],
   "source": []
  }
 ],
 "metadata": {
  "kernelspec": {
   "display_name": "Python 3",
   "language": "python",
   "name": "python3"
  },
  "language_info": {
   "codemirror_mode": {
    "name": "ipython",
    "version": 3
   },
   "file_extension": ".py",
   "mimetype": "text/x-python",
   "name": "python",
   "nbconvert_exporter": "python",
   "pygments_lexer": "ipython3",
   "version": "3.7.3"
  },
  "toc": {
   "base_numbering": 1,
   "nav_menu": {},
   "number_sections": true,
   "sideBar": true,
   "skip_h1_title": false,
   "title_cell": "Table of Contents",
   "title_sidebar": "Contents",
   "toc_cell": false,
   "toc_position": {},
   "toc_section_display": true,
   "toc_window_display": false
  },
  "varInspector": {
   "cols": {
    "lenName": 16,
    "lenType": 16,
    "lenVar": 40
   },
   "kernels_config": {
    "python": {
     "delete_cmd_postfix": "",
     "delete_cmd_prefix": "del ",
     "library": "var_list.py",
     "varRefreshCmd": "print(var_dic_list())"
    },
    "r": {
     "delete_cmd_postfix": ") ",
     "delete_cmd_prefix": "rm(",
     "library": "var_list.r",
     "varRefreshCmd": "cat(var_dic_list()) "
    }
   },
   "types_to_exclude": [
    "module",
    "function",
    "builtin_function_or_method",
    "instance",
    "_Feature"
   ],
   "window_display": false
  }
 },
 "nbformat": 4,
 "nbformat_minor": 4
}
