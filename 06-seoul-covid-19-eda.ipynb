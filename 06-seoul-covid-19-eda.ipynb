{
 "cells": [
  {
   "cell_type": "code",
   "execution_count": 1,
   "metadata": {},
   "outputs": [],
   "source": [
    "import pandas as pd"
   ]
  },
  {
   "cell_type": "code",
   "execution_count": 4,
   "metadata": {},
   "outputs": [
    {
     "data": {
      "text/plain": [
       "(119, 7)"
      ]
     },
     "execution_count": 4,
     "metadata": {},
     "output_type": "execute_result"
    }
   ],
   "source": [
    "df = pd.read_csv(\"covid-19-seoul.csv\")\n",
    "df.shape"
   ]
  },
  {
   "cell_type": "code",
   "execution_count": 5,
   "metadata": {},
   "outputs": [
    {
     "data": {
      "text/html": [
       "<div>\n",
       "<style scoped>\n",
       "    .dataframe tbody tr th:only-of-type {\n",
       "        vertical-align: middle;\n",
       "    }\n",
       "\n",
       "    .dataframe tbody tr th {\n",
       "        vertical-align: top;\n",
       "    }\n",
       "\n",
       "    .dataframe thead th {\n",
       "        text-align: right;\n",
       "    }\n",
       "</style>\n",
       "<table border=\"1\" class=\"dataframe\">\n",
       "  <thead>\n",
       "    <tr style=\"text-align: right;\">\n",
       "      <th></th>\n",
       "      <th>환자</th>\n",
       "      <th>확진일</th>\n",
       "      <th>성별(출생년)</th>\n",
       "      <th>거주지</th>\n",
       "      <th>여행력</th>\n",
       "      <th>접촉력</th>\n",
       "      <th>조치사항</th>\n",
       "    </tr>\n",
       "  </thead>\n",
       "  <tbody>\n",
       "    <tr>\n",
       "      <th>0</th>\n",
       "      <td>확인중</td>\n",
       "      <td>3.7.</td>\n",
       "      <td>남('64)</td>\n",
       "      <td>강남구</td>\n",
       "      <td>-</td>\n",
       "      <td>타시도 확진자 접촉자</td>\n",
       "      <td>서울의료원</td>\n",
       "    </tr>\n",
       "    <tr>\n",
       "      <th>1</th>\n",
       "      <td>확인중</td>\n",
       "      <td>3.7.</td>\n",
       "      <td>남('13)</td>\n",
       "      <td>관악구</td>\n",
       "      <td>-</td>\n",
       "      <td>타시도 확진자 접촉자</td>\n",
       "      <td>보라매병원</td>\n",
       "    </tr>\n",
       "    <tr>\n",
       "      <th>2</th>\n",
       "      <td>확인중</td>\n",
       "      <td>3.7.</td>\n",
       "      <td>남('66)</td>\n",
       "      <td>양천구</td>\n",
       "      <td>-</td>\n",
       "      <td>서울 114번 접촉자</td>\n",
       "      <td>서남병원</td>\n",
       "    </tr>\n",
       "    <tr>\n",
       "      <th>3</th>\n",
       "      <td>확인중</td>\n",
       "      <td>3.7.</td>\n",
       "      <td>남('55)</td>\n",
       "      <td>서초구</td>\n",
       "      <td>-</td>\n",
       "      <td>#935 접촉자</td>\n",
       "      <td>서남병원</td>\n",
       "    </tr>\n",
       "    <tr>\n",
       "      <th>4</th>\n",
       "      <td>확인중</td>\n",
       "      <td>3.7.</td>\n",
       "      <td>남('87)</td>\n",
       "      <td>은평구</td>\n",
       "      <td>스페인, 프랑스</td>\n",
       "      <td>확인중</td>\n",
       "      <td>서북병원</td>\n",
       "    </tr>\n",
       "  </tbody>\n",
       "</table>\n",
       "</div>"
      ],
      "text/plain": [
       "    환자   확진일 성별(출생년)  거주지       여행력          접촉력   조치사항\n",
       "0  확인중  3.7.  남('64)  강남구         -  타시도 확진자 접촉자  서울의료원\n",
       "1  확인중  3.7.  남('13)  관악구         -  타시도 확진자 접촉자  보라매병원\n",
       "2  확인중  3.7.  남('66)  양천구         -  서울 114번 접촉자   서남병원\n",
       "3  확인중  3.7.  남('55)  서초구         -     #935 접촉자   서남병원\n",
       "4  확인중  3.7.  남('87)  은평구  스페인, 프랑스          확인중   서북병원"
      ]
     },
     "execution_count": 5,
     "metadata": {},
     "output_type": "execute_result"
    }
   ],
   "source": [
    "df.head()"
   ]
  },
  {
   "cell_type": "code",
   "execution_count": 6,
   "metadata": {},
   "outputs": [
    {
     "data": {
      "text/html": [
       "<div>\n",
       "<style scoped>\n",
       "    .dataframe tbody tr th:only-of-type {\n",
       "        vertical-align: middle;\n",
       "    }\n",
       "\n",
       "    .dataframe tbody tr th {\n",
       "        vertical-align: top;\n",
       "    }\n",
       "\n",
       "    .dataframe thead th {\n",
       "        text-align: right;\n",
       "    }\n",
       "</style>\n",
       "<table border=\"1\" class=\"dataframe\">\n",
       "  <thead>\n",
       "    <tr style=\"text-align: right;\">\n",
       "      <th></th>\n",
       "      <th>환자</th>\n",
       "      <th>확진일</th>\n",
       "      <th>성별(출생년)</th>\n",
       "      <th>거주지</th>\n",
       "      <th>여행력</th>\n",
       "      <th>접촉력</th>\n",
       "      <th>조치사항</th>\n",
       "    </tr>\n",
       "  </thead>\n",
       "  <tbody>\n",
       "    <tr>\n",
       "      <th>114</th>\n",
       "      <td>9</td>\n",
       "      <td>1.31.</td>\n",
       "      <td>여(‵92)</td>\n",
       "      <td>성북구</td>\n",
       "      <td>-</td>\n",
       "      <td>#5 접촉자</td>\n",
       "      <td>서울의료원(퇴원)</td>\n",
       "    </tr>\n",
       "    <tr>\n",
       "      <th>115</th>\n",
       "      <td>7</td>\n",
       "      <td>1.30.</td>\n",
       "      <td>남(‵91)</td>\n",
       "      <td>마포구</td>\n",
       "      <td>중국 우한시</td>\n",
       "      <td>해외 접촉</td>\n",
       "      <td>서울의료원(퇴원)</td>\n",
       "    </tr>\n",
       "    <tr>\n",
       "      <th>116</th>\n",
       "      <td>6</td>\n",
       "      <td>1.30.</td>\n",
       "      <td>남(‵64)</td>\n",
       "      <td>종로구</td>\n",
       "      <td>-</td>\n",
       "      <td>#3 접촉자</td>\n",
       "      <td>서울대학교병원(퇴원)</td>\n",
       "    </tr>\n",
       "    <tr>\n",
       "      <th>117</th>\n",
       "      <td>5</td>\n",
       "      <td>1.30.</td>\n",
       "      <td>남(‵87)</td>\n",
       "      <td>중랑구</td>\n",
       "      <td>중국 우한시</td>\n",
       "      <td>해외 접촉</td>\n",
       "      <td>서울의료원(퇴원)</td>\n",
       "    </tr>\n",
       "    <tr>\n",
       "      <th>118</th>\n",
       "      <td>2</td>\n",
       "      <td>1.23.</td>\n",
       "      <td>남(‵64)</td>\n",
       "      <td>강서구</td>\n",
       "      <td>중국 우한시</td>\n",
       "      <td>해외접촉</td>\n",
       "      <td>국립중앙의료원(퇴원)</td>\n",
       "    </tr>\n",
       "  </tbody>\n",
       "</table>\n",
       "</div>"
      ],
      "text/plain": [
       "    환자    확진일 성별(출생년)  거주지     여행력     접촉력         조치사항\n",
       "114  9  1.31.  여(‵92)  성북구       -  #5 접촉자    서울의료원(퇴원)\n",
       "115  7  1.30.  남(‵91)  마포구  중국 우한시   해외 접촉    서울의료원(퇴원)\n",
       "116  6  1.30.  남(‵64)  종로구       -  #3 접촉자  서울대학교병원(퇴원)\n",
       "117  5  1.30.  남(‵87)  중랑구  중국 우한시   해외 접촉    서울의료원(퇴원)\n",
       "118  2  1.23.  남(‵64)  강서구  중국 우한시    해외접촉  국립중앙의료원(퇴원)"
      ]
     },
     "execution_count": 6,
     "metadata": {},
     "output_type": "execute_result"
    }
   ],
   "source": [
    "df.tail()"
   ]
  },
  {
   "cell_type": "code",
   "execution_count": 8,
   "metadata": {},
   "outputs": [
    {
     "data": {
      "text/plain": [
       "<matplotlib.axes._subplots.AxesSubplot at 0x115158358>"
      ]
     },
     "execution_count": 8,
     "metadata": {},
     "output_type": "execute_result"
    },
    {
     "data": {
      "image/png": "[encoded data removed]",
      "text/plain": [
       "<Figure size 720x504 with 1 Axes>"
      ]
     },
     "metadata": {},
     "output_type": "display_data"
    }
   ],
   "source": [
    "import seaborn as sns\n",
    "\n",
    "# sns.set(font=\"Malgun Gothic\")\n",
    "sns.set(font=\"AppleGothic\")\n",
    "df[\"거주지\"].value_counts().sort_values().plot.barh(figsize=(10, 7))"
   ]
  },
  {
   "cell_type": "code",
   "execution_count": 9,
   "metadata": {},
   "outputs": [
    {
     "data": {
      "text/plain": [
       "서울의료원          32\n",
       "서남병원           11\n",
       "서울의료원(퇴원)       9\n",
       "보라매병원           9\n",
       "국립중앙의료원         8\n",
       "국립중앙의료원(퇴원)     7\n",
       "서울대학교병원(퇴원)     7\n",
       "서울대학교병원         5\n",
       "서북병원            5\n",
       "중앙대학교병원         3\n",
       "타시도이관           3\n",
       "삼육서울병원          2\n",
       "타시도 이관          2\n",
       "고대구로병원          2\n",
       "순천향서울병원         2\n",
       "한일병원            2\n",
       "인제대상계백병원        2\n",
       "보라매병원(퇴원)       2\n",
       "서울백병원           1\n",
       "상계백병원           1\n",
       "중앙대학교병원(퇴원)     1\n",
       "한양대학교병원(퇴원)     1\n",
       "한양대학교병원         1\n",
       "한일병원(퇴원)        1\n",
       "Name: 조치사항, dtype: int64"
      ]
     },
     "execution_count": 9,
     "metadata": {},
     "output_type": "execute_result"
    }
   ],
   "source": [
    "df[\"조치사항\"].value_counts()"
   ]
  },
  {
   "cell_type": "code",
   "execution_count": 10,
   "metadata": {},
   "outputs": [
    {
     "data": {
      "text/plain": [
       "2.25.     16\n",
       "2.27.     12\n",
       "2.26.     10\n",
       "2.28.      7\n",
       "3.6.       7\n",
       "3.1.       6\n",
       "3.2.       6\n",
       "3.7.       6\n",
       "2.20.      5\n",
       "3.4.       5\n",
       "2.29.      5\n",
       "2.23.      4\n",
       "2.22.      4\n",
       "1.31.      3\n",
       "1.30.      3\n",
       "2.24.      3\n",
       "2.16.      2\n",
       "2.5.       2\n",
       "2.21.      2\n",
       "2.19.      2\n",
       "2.6.       1\n",
       "2.7.       1\n",
       "1.23.      1\n",
       "3.5.       1\n",
       "2.25       1\n",
       "2.2.       1\n",
       "2.24..     1\n",
       "2.27       1\n",
       "3.3.       1\n",
       "Name: 확진일, dtype: int64"
      ]
     },
     "execution_count": 10,
     "metadata": {},
     "output_type": "execute_result"
    }
   ],
   "source": [
    "df[\"확진일\"].value_counts()"
   ]
  },
  {
   "cell_type": "code",
   "execution_count": 11,
   "metadata": {},
   "outputs": [
    {
     "data": {
      "text/plain": [
       "0   2020-03-07\n",
       "1   2020-03-07\n",
       "2   2020-03-07\n",
       "3   2020-03-07\n",
       "4   2020-03-07\n",
       "Name: 확진일자, dtype: datetime64[ns]"
      ]
     },
     "execution_count": 11,
     "metadata": {},
     "output_type": "execute_result"
    }
   ],
   "source": [
    "df[\"확진일자\"] = pd.to_datetime(\"2020\"+ \"-\" + df[\"확진일\"].str.replace(\".\", \"-\"))\n",
    "df[\"확진일자\"].head()"
   ]
  },
  {
   "cell_type": "code",
   "execution_count": 13,
   "metadata": {},
   "outputs": [
    {
     "data": {
      "text/plain": [
       "<matplotlib.axes._subplots.AxesSubplot at 0x1171d5940>"
      ]
     },
     "execution_count": 13,
     "metadata": {},
     "output_type": "execute_result"
    },
    {
     "data": {
      "image/png": "[encoded data removed]",
      "text/plain": [
       "<Figure size 1080x288 with 1 Axes>"
      ]
     },
     "metadata": {},
     "output_type": "display_data"
    }
   ],
   "source": [
    "df[\"월일\"] = df[\"확진일자\"].astype(str).map(lambda x : x[-5:])\n",
    "df[\"월일\"].value_counts().sort_index().plot(figsize=(15, 4), rot=30)"
   ]
  },
  {
   "cell_type": "code",
   "execution_count": 14,
   "metadata": {},
   "outputs": [
    {
     "data": {
      "text/plain": [
       "<matplotlib.axes._subplots.AxesSubplot at 0x1175c3be0>"
      ]
     },
     "execution_count": 14,
     "metadata": {},
     "output_type": "execute_result"
    },
    {
     "data": {
      "image/png": "[encoded data removed]",
      "text/plain": [
       "<Figure size 1080x288 with 1 Axes>"
      ]
     },
     "metadata": {},
     "output_type": "display_data"
    }
   ],
   "source": [
    "import matplotlib.pyplot as plt\n",
    "plt.figure(figsize=(15, 4))\n",
    "sns.countplot(data=df, x=\"월일\")"
   ]
  },
  {
   "cell_type": "code",
   "execution_count": 16,
   "metadata": {},
   "outputs": [
    {
     "data": {
      "text/plain": [
       "확인중              15\n",
       "해외 접촉            13\n",
       "성동구 주상복합 관련      13\n",
       "타시도 확진자 접촉        8\n",
       "은평성모병원관련          7\n",
       "은평성모병원 관련         6\n",
       "대구 방문             5\n",
       "#6 접촉자            3\n",
       "타시도 확진자 접촉        3\n",
       "대구 확진자 접촉         3\n",
       "타시도 확진자 접촉자       3\n",
       "#794 접촉자          2\n",
       "명성교회 관련           2\n",
       "#780 접촉자          2\n",
       "서울 104번 접촉        2\n",
       "-                 2\n",
       "신천지대구교회 관련        2\n",
       "부동산 중개 법인관련       1\n",
       "쇼핑몰 관련            1\n",
       "확잍중               1\n",
       "#1247 접촉자         1\n",
       "여의도 건설현장관련        1\n",
       "은평성모병원 연관성 검토     1\n",
       "서울재생병원 관련         1\n",
       "#5 접촉자            1\n",
       "#30접촉자(추정)        1\n",
       "#56접촉자            1\n",
       "해외접촉              1\n",
       "#136접촉자           1\n",
       "경찰병원관련            1\n",
       "서울 114번 접촉자       1\n",
       "#83접촉자            1\n",
       "#935 접촉자          1\n",
       "해외 접촉(추정)         1\n",
       "#6접촉자(추정)         1\n",
       " 타시도 확진자 접촉       1\n",
       "부동산 중개업 관련        1\n",
       "부동산중개법인관련         1\n",
       "#780 가족(아들)       1\n",
       "#3 접촉자            1\n",
       "대구 거주자            1\n",
       "대구 방문(명성교회)       1\n",
       "#2621번 접촉자        1\n",
       "#29접촉자            1\n",
       "여의도 건설현장 관련       1\n",
       "Name: 접촉력, dtype: int64"
      ]
     },
     "execution_count": 16,
     "metadata": {},
     "output_type": "execute_result"
    }
   ],
   "source": [
    "df[\"접촉력\"].value_counts()"
   ]
  },
  {
   "cell_type": "code",
   "execution_count": 32,
   "metadata": {},
   "outputs": [],
   "source": [
    "df[\"접촉경로\"] = df[\"접촉력\"]\n",
    "df.loc[df[\"접촉력\"].str.contains(\"접촉자\"), \"접촉경로\"] = \"접촉자\"\n",
    "df.loc[df[\"접촉력\"].str.contains(\"은평성모\"), \"접촉경로\"] = \"은평성모병원\"\n",
    "df.loc[df[\"접촉력\"].str.contains(\"가족\"), \"접촉경로\"] = \"가족\"\n",
    "df.loc[df[\"접촉력\"].str.contains(\"부동산\"), \"접촉경로\"] = \"부동산중개법인\"\n",
    "df.loc[df[\"접촉력\"].str.contains(\"부동산\"), \"접촉경로\"] = \"부동산중개법인\""
   ]
  },
  {
   "cell_type": "code",
   "execution_count": 33,
   "metadata": {},
   "outputs": [
    {
     "data": {
      "text/plain": [
       "접촉자            22\n",
       "확인중            15\n",
       "은평성모병원         14\n",
       "해외 접촉          13\n",
       "성동구 주상복합 관련    13\n",
       "타시도 확진자 접촉      8\n",
       "대구 방문           5\n",
       "타시도 확진자 접촉      3\n",
       "부동산중개법인         3\n",
       "대구 확진자 접촉       3\n",
       "-               2\n",
       "서울 104번 접촉      2\n",
       "명성교회 관련         2\n",
       "신천지대구교회 관련      2\n",
       "해외 접촉(추정)       1\n",
       "서울재생병원 관련       1\n",
       " 타시도 확진자 접촉     1\n",
       "확잍중             1\n",
       "해외접촉            1\n",
       "가족              1\n",
       "여의도 건설현장관련      1\n",
       "대구 거주자          1\n",
       "대구 방문(명성교회)     1\n",
       "여의도 건설현장 관련     1\n",
       "경찰병원관련          1\n",
       "쇼핑몰 관련          1\n",
       "Name: 접촉경로, dtype: int64"
      ]
     },
     "execution_count": 33,
     "metadata": {},
     "output_type": "execute_result"
    }
   ],
   "source": [
    "df[\"접촉경로\"].value_counts()"
   ]
  },
  {
   "cell_type": "code",
   "execution_count": null,
   "metadata": {},
   "outputs": [],
   "source": []
  },
  {
   "cell_type": "code",
   "execution_count": null,
   "metadata": {},
   "outputs": [],
   "source": []
  },
  {
   "cell_type": "code",
   "execution_count": null,
   "metadata": {},
   "outputs": [],
   "source": []
  }
 ],
 "metadata": {
  "kernelspec": {
   "display_name": "Python 3",
   "language": "python",
   "name": "python3"
  },
  "language_info": {
   "codemirror_mode": {
    "name": "ipython",
    "version": 3
   },
   "file_extension": ".py",
   "mimetype": "text/x-python",
   "name": "python",
   "nbconvert_exporter": "python",
   "pygments_lexer": "ipython3",
   "version": "3.7.3"
  },
  "toc": {
   "base_numbering": 1,
   "nav_menu": {},
   "number_sections": true,
   "sideBar": true,
   "skip_h1_title": false,
   "title_cell": "Table of Contents",
   "title_sidebar": "Contents",
   "toc_cell": false,
   "toc_position": {},
   "toc_section_display": true,
   "toc_window_display": false
  },
  "varInspector": {
   "cols": {
    "lenName": 16,
    "lenType": 16,
    "lenVar": 40
   },
   "kernels_config": {
    "python": {
     "delete_cmd_postfix": "",
     "delete_cmd_prefix": "del ",
     "library": "var_list.py",
     "varRefreshCmd": "print(var_dic_list())"
    },
    "r": {
     "delete_cmd_postfix": ") ",
     "delete_cmd_prefix": "rm(",
     "library": "var_list.r",
     "varRefreshCmd": "cat(var_dic_list()) "
    }
   },
   "types_to_exclude": [
    "module",
    "function",
    "builtin_function_or_method",
    "instance",
    "_Feature"
   ],
   "window_display": false
  }
 },
 "nbformat": 4,
 "nbformat_minor": 4
}
