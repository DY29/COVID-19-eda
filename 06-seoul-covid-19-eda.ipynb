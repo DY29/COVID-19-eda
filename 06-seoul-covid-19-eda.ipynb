{
 "cells": [
  {
   "cell_type": "code",
   "execution_count": 1,
   "metadata": {},
   "outputs": [],
   "source": [
    "import pandas as pd"
   ]
  },
  {
   "cell_type": "code",
   "execution_count": 2,
   "metadata": {},
   "outputs": [
    {
     "data": {
      "text/plain": [
       "(248, 8)"
      ]
     },
     "execution_count": 2,
     "metadata": {},
     "output_type": "execute_result"
    }
   ],
   "source": [
    "df = pd.read_csv(\"covid-19-seoul.csv\")\n",
    "df.shape"
   ]
  },
  {
   "cell_type": "code",
   "execution_count": 3,
   "metadata": {},
   "outputs": [],
   "source": [
    "df = df.sort_values([\"연번\"], ascending=False)"
   ]
  },
  {
   "cell_type": "code",
   "execution_count": 4,
   "metadata": {},
   "outputs": [
    {
     "data": {
      "text/html": [
       "<div>\n",
       "<style scoped>\n",
       "    .dataframe tbody tr th:only-of-type {\n",
       "        vertical-align: middle;\n",
       "    }\n",
       "\n",
       "    .dataframe tbody tr th {\n",
       "        vertical-align: top;\n",
       "    }\n",
       "\n",
       "    .dataframe thead th {\n",
       "        text-align: right;\n",
       "    }\n",
       "</style>\n",
       "<table border=\"1\" class=\"dataframe\">\n",
       "  <thead>\n",
       "    <tr style=\"text-align: right;\">\n",
       "      <th></th>\n",
       "      <th>연번</th>\n",
       "      <th>환자</th>\n",
       "      <th>확진일</th>\n",
       "      <th>성별(출생년)</th>\n",
       "      <th>거주지</th>\n",
       "      <th>여행력</th>\n",
       "      <th>접촉력</th>\n",
       "      <th>조치사항</th>\n",
       "    </tr>\n",
       "  </thead>\n",
       "  <tbody>\n",
       "    <tr>\n",
       "      <th>0</th>\n",
       "      <td>248</td>\n",
       "      <td>확인중</td>\n",
       "      <td>3.14.</td>\n",
       "      <td>여('69)</td>\n",
       "      <td>구로구</td>\n",
       "      <td>-</td>\n",
       "      <td>콜센터직원 접촉</td>\n",
       "      <td>보라매병원</td>\n",
       "    </tr>\n",
       "    <tr>\n",
       "      <th>1</th>\n",
       "      <td>247</td>\n",
       "      <td>확인중</td>\n",
       "      <td>3.14.</td>\n",
       "      <td>남('69)</td>\n",
       "      <td>구로구</td>\n",
       "      <td>필리핀</td>\n",
       "      <td>해외접촉 추정</td>\n",
       "      <td>보라매병원</td>\n",
       "    </tr>\n",
       "    <tr>\n",
       "      <th>2</th>\n",
       "      <td>246</td>\n",
       "      <td>확인중</td>\n",
       "      <td>3.14.</td>\n",
       "      <td>남('67)</td>\n",
       "      <td>영등포구</td>\n",
       "      <td>-</td>\n",
       "      <td>확인중</td>\n",
       "      <td>서남병원</td>\n",
       "    </tr>\n",
       "    <tr>\n",
       "      <th>3</th>\n",
       "      <td>245</td>\n",
       "      <td>확인중</td>\n",
       "      <td>3.14.</td>\n",
       "      <td>남('81)</td>\n",
       "      <td>영등포구</td>\n",
       "      <td>-</td>\n",
       "      <td>구로구 콜센터 접촉</td>\n",
       "      <td>서남병원</td>\n",
       "    </tr>\n",
       "    <tr>\n",
       "      <th>4</th>\n",
       "      <td>244</td>\n",
       "      <td>확인중</td>\n",
       "      <td>3.14.</td>\n",
       "      <td>여('59)</td>\n",
       "      <td>도봉구</td>\n",
       "      <td>-</td>\n",
       "      <td>#8049 접촉</td>\n",
       "      <td>한일병원</td>\n",
       "    </tr>\n",
       "  </tbody>\n",
       "</table>\n",
       "</div>"
      ],
      "text/plain": [
       "    연번   환자    확진일 성별(출생년)   거주지  여행력         접촉력   조치사항\n",
       "0  248  확인중  3.14.  여('69)   구로구    -    콜센터직원 접촉  보라매병원\n",
       "1  247  확인중  3.14.  남('69)   구로구  필리핀     해외접촉 추정  보라매병원\n",
       "2  246  확인중  3.14.  남('67)  영등포구    -         확인중   서남병원\n",
       "3  245  확인중  3.14.  남('81)  영등포구    -  구로구 콜센터 접촉   서남병원\n",
       "4  244  확인중  3.14.  여('59)   도봉구    -    #8049 접촉   한일병원"
      ]
     },
     "execution_count": 4,
     "metadata": {},
     "output_type": "execute_result"
    }
   ],
   "source": [
    "df.head()"
   ]
  },
  {
   "cell_type": "code",
   "execution_count": 5,
   "metadata": {},
   "outputs": [
    {
     "data": {
      "text/html": [
       "<div>\n",
       "<style scoped>\n",
       "    .dataframe tbody tr th:only-of-type {\n",
       "        vertical-align: middle;\n",
       "    }\n",
       "\n",
       "    .dataframe tbody tr th {\n",
       "        vertical-align: top;\n",
       "    }\n",
       "\n",
       "    .dataframe thead th {\n",
       "        text-align: right;\n",
       "    }\n",
       "</style>\n",
       "<table border=\"1\" class=\"dataframe\">\n",
       "  <thead>\n",
       "    <tr style=\"text-align: right;\">\n",
       "      <th></th>\n",
       "      <th>연번</th>\n",
       "      <th>환자</th>\n",
       "      <th>확진일</th>\n",
       "      <th>성별(출생년)</th>\n",
       "      <th>거주지</th>\n",
       "      <th>여행력</th>\n",
       "      <th>접촉력</th>\n",
       "      <th>조치사항</th>\n",
       "    </tr>\n",
       "  </thead>\n",
       "  <tbody>\n",
       "    <tr>\n",
       "      <th>243</th>\n",
       "      <td>5</td>\n",
       "      <td>9</td>\n",
       "      <td>1.31.</td>\n",
       "      <td>여(‵92)</td>\n",
       "      <td>성북구</td>\n",
       "      <td>-</td>\n",
       "      <td>#5 접촉자</td>\n",
       "      <td>서울의료원(퇴원)</td>\n",
       "    </tr>\n",
       "    <tr>\n",
       "      <th>244</th>\n",
       "      <td>4</td>\n",
       "      <td>7</td>\n",
       "      <td>1.30.</td>\n",
       "      <td>남(‵91)</td>\n",
       "      <td>마포구</td>\n",
       "      <td>중국 우한시</td>\n",
       "      <td>해외 접촉</td>\n",
       "      <td>서울의료원(퇴원)</td>\n",
       "    </tr>\n",
       "    <tr>\n",
       "      <th>245</th>\n",
       "      <td>3</td>\n",
       "      <td>6</td>\n",
       "      <td>1.30.</td>\n",
       "      <td>남(‵64)</td>\n",
       "      <td>종로구</td>\n",
       "      <td>-</td>\n",
       "      <td>#3 접촉자</td>\n",
       "      <td>서울대학교병원(퇴원)</td>\n",
       "    </tr>\n",
       "    <tr>\n",
       "      <th>246</th>\n",
       "      <td>2</td>\n",
       "      <td>5</td>\n",
       "      <td>1.30.</td>\n",
       "      <td>남(‵87)</td>\n",
       "      <td>중랑구</td>\n",
       "      <td>중국 우한시</td>\n",
       "      <td>해외 접촉</td>\n",
       "      <td>서울의료원(퇴원)</td>\n",
       "    </tr>\n",
       "    <tr>\n",
       "      <th>247</th>\n",
       "      <td>1</td>\n",
       "      <td>2</td>\n",
       "      <td>1.23.</td>\n",
       "      <td>남(‵64)</td>\n",
       "      <td>강서구</td>\n",
       "      <td>중국 우한시</td>\n",
       "      <td>해외접촉</td>\n",
       "      <td>국립중앙의료원(퇴원)</td>\n",
       "    </tr>\n",
       "  </tbody>\n",
       "</table>\n",
       "</div>"
      ],
      "text/plain": [
       "     연번 환자    확진일 성별(출생년)  거주지     여행력     접촉력         조치사항\n",
       "243   5  9  1.31.  여(‵92)  성북구       -  #5 접촉자    서울의료원(퇴원)\n",
       "244   4  7  1.30.  남(‵91)  마포구  중국 우한시   해외 접촉    서울의료원(퇴원)\n",
       "245   3  6  1.30.  남(‵64)  종로구       -  #3 접촉자  서울대학교병원(퇴원)\n",
       "246   2  5  1.30.  남(‵87)  중랑구  중국 우한시   해외 접촉    서울의료원(퇴원)\n",
       "247   1  2  1.23.  남(‵64)  강서구  중국 우한시    해외접촉  국립중앙의료원(퇴원)"
      ]
     },
     "execution_count": 5,
     "metadata": {},
     "output_type": "execute_result"
    }
   ],
   "source": [
    "df.tail()"
   ]
  },
  {
   "cell_type": "markdown",
   "metadata": {},
   "source": [
    "## 시각화 도구 불러오기"
   ]
  },
  {
   "cell_type": "code",
   "execution_count": 6,
   "metadata": {},
   "outputs": [],
   "source": [
    "import seaborn as sns\n",
    "\n",
    "# sns.set(font=\"Malgun Gothic\")\n",
    "sns.set(font=\"AppleGothic\")"
   ]
  },
  {
   "cell_type": "markdown",
   "metadata": {},
   "source": [
    "### 시각화 선명하게 설정하기"
   ]
  },
  {
   "cell_type": "code",
   "execution_count": 7,
   "metadata": {},
   "outputs": [],
   "source": [
    "from IPython.display import set_matplotlib_formats\n",
    "\n",
    "set_matplotlib_formats(\"retina\")"
   ]
  },
  {
   "cell_type": "markdown",
   "metadata": {},
   "source": [
    "## 거주지별 확진자"
   ]
  },
  {
   "cell_type": "code",
   "execution_count": 8,
   "metadata": {},
   "outputs": [
    {
     "data": {
      "text/plain": [
       "<matplotlib.axes._subplots.AxesSubplot at 0x1162292b0>"
      ]
     },
     "execution_count": 8,
     "metadata": {},
     "output_type": "execute_result"
    },
    {
     "data": {
      "image/png": "[encoded data removed]",
      "text/plain": [
       "<Figure size 720x720 with 1 Axes>"
      ]
     },
     "metadata": {
      "image/png": {
       "height": 578,
       "width": 625
      }
     },
     "output_type": "display_data"
    }
   ],
   "source": [
    "df[\"거주지\"].value_counts().sort_values().plot.barh(figsize=(10, 10))"
   ]
  },
  {
   "cell_type": "markdown",
   "metadata": {},
   "source": [
    "## 조치사항"
   ]
  },
  {
   "cell_type": "code",
   "execution_count": 9,
   "metadata": {},
   "outputs": [
    {
     "data": {
      "text/plain": [
       "서울의료원           81\n",
       "서남병원            58\n",
       "보라매병원           19\n",
       "서울의료원(퇴원)       12\n",
       "서북병원            10\n",
       "국립중앙의료원         10\n",
       "서울대학교병원(퇴원)     10\n",
       "국립중앙의료원(퇴원)      9\n",
       "타시도이관            4\n",
       "보라매병원(퇴원)        4\n",
       "중앙대학교병원(퇴원)      3\n",
       "삼육서울병원           3\n",
       "순천향서울병원          2\n",
       "중앙대학교병원          2\n",
       "서남병원(퇴원)         2\n",
       "한일병원(퇴원)         2\n",
       "고대구로병원           2\n",
       "타시도이관(퇴원)        2\n",
       "한일병원             2\n",
       "타시도 이관           2\n",
       "서울대학교병원          1\n",
       "한양대학교병원(퇴원)      1\n",
       "인제대상계백병원(퇴원)     1\n",
       "상계백병원(퇴원)        1\n",
       "서울백병원            1\n",
       "강남세브란스병원         1\n",
       "한양대학교병원          1\n",
       "인제대상계백병원         1\n",
       "서울아산병원           1\n",
       "Name: 조치사항, dtype: int64"
      ]
     },
     "execution_count": 9,
     "metadata": {},
     "output_type": "execute_result"
    }
   ],
   "source": [
    "df[\"조치사항\"].value_counts()"
   ]
  },
  {
   "cell_type": "code",
   "execution_count": 10,
   "metadata": {},
   "outputs": [
    {
     "data": {
      "text/plain": [
       "3.10.     46\n",
       "3.9.      26\n",
       "3.11.     17\n",
       "2.25.     16\n",
       "2.27.     12\n",
       "3.12.     12\n",
       "3.8.      10\n",
       "2.26.     10\n",
       "3.13.      9\n",
       "3.14.      8\n",
       "3.6.       7\n",
       "2.28.      7\n",
       "3.7.       7\n",
       "3.1.       6\n",
       "3.2.       6\n",
       "2.29.      5\n",
       "3.4.       5\n",
       "2.20.      5\n",
       "2.23.      4\n",
       "2.22.      4\n",
       "1.30.      3\n",
       "1.31.      3\n",
       "2.24.      3\n",
       "2.19.      2\n",
       "2.21.      2\n",
       "2.5.       2\n",
       "2.16.      2\n",
       "2.6.       1\n",
       "3.5.       1\n",
       "1.23.      1\n",
       "2.7.       1\n",
       "2.2.       1\n",
       "2.27       1\n",
       "2.25       1\n",
       "2.24..     1\n",
       "3.3.       1\n",
       "Name: 확진일, dtype: int64"
      ]
     },
     "execution_count": 10,
     "metadata": {},
     "output_type": "execute_result"
    }
   ],
   "source": [
    "df[\"확진일\"].value_counts()"
   ]
  },
  {
   "cell_type": "code",
   "execution_count": 11,
   "metadata": {},
   "outputs": [
    {
     "data": {
      "text/plain": [
       "0   2020-03-14\n",
       "1   2020-03-14\n",
       "2   2020-03-14\n",
       "3   2020-03-14\n",
       "4   2020-03-14\n",
       "Name: 확진일자, dtype: datetime64[ns]"
      ]
     },
     "execution_count": 11,
     "metadata": {},
     "output_type": "execute_result"
    }
   ],
   "source": [
    "df[\"확진일자\"] = pd.to_datetime(\"2020\"+ \"-\" + df[\"확진일\"].str.replace(\".\", \"-\"))\n",
    "df[\"확진일자\"].head()"
   ]
  },
  {
   "cell_type": "code",
   "execution_count": 12,
   "metadata": {},
   "outputs": [
    {
     "data": {
      "text/plain": [
       "<matplotlib.axes._subplots.AxesSubplot at 0x11924e780>"
      ]
     },
     "execution_count": 12,
     "metadata": {},
     "output_type": "execute_result"
    },
    {
     "data": {
      "image/png": "[encoded data removed]",
      "text/plain": [
       "<Figure size 1080x288 with 1 Axes>"
      ]
     },
     "metadata": {
      "image/png": {
       "height": 268,
       "width": 875
      }
     },
     "output_type": "display_data"
    }
   ],
   "source": [
    "df[\"월일\"] = df[\"확진일자\"].astype(str).map(lambda x : x[-5:])\n",
    "df[\"월일\"].value_counts().sort_index().plot(figsize=(15, 4), rot=30)"
   ]
  },
  {
   "cell_type": "code",
   "execution_count": 13,
   "metadata": {},
   "outputs": [
    {
     "data": {
      "text/plain": [
       "1"
      ]
     },
     "execution_count": 13,
     "metadata": {},
     "output_type": "execute_result"
    }
   ],
   "source": [
    "day_count = df[\"월일\"].value_counts().sort_index()\n",
    "day_count.iloc[0]"
   ]
  },
  {
   "cell_type": "code",
   "execution_count": 14,
   "metadata": {},
   "outputs": [
    {
     "data": {
      "image/png": "[encoded data removed]",
      "text/plain": [
       "<Figure size 1080x288 with 1 Axes>"
      ]
     },
     "metadata": {
      "image/png": {
       "height": 292,
       "width": 892
      }
     },
     "output_type": "display_data"
    }
   ],
   "source": [
    "import matplotlib.pyplot as plt\n",
    "plt.figure(figsize=(15, 4))\n",
    "plt.xticks(rotation=60)\n",
    "g = sns.countplot(data=df.sort_values(by=\"월일\"), x=\"월일\")\n",
    "\n",
    "for i in range(len(day_count)):\n",
    "    g.text(x=i-0.3, y=day_count.iloc[i], s=day_count.iloc[i])"
   ]
  },
  {
   "cell_type": "markdown",
   "metadata": {},
   "source": [
    "## 누적확진"
   ]
  },
  {
   "cell_type": "code",
   "execution_count": 15,
   "metadata": {},
   "outputs": [
    {
     "data": {
      "text/plain": [
       "확진일자\n",
       "2020-01-23     1\n",
       "2020-01-30     3\n",
       "2020-01-31     3\n",
       "2020-02-02     1\n",
       "2020-02-05     2\n",
       "2020-02-06     1\n",
       "2020-02-07     1\n",
       "2020-02-16     2\n",
       "2020-02-19     2\n",
       "2020-02-20     5\n",
       "2020-02-21     2\n",
       "2020-02-22     4\n",
       "2020-02-23     4\n",
       "2020-02-24     4\n",
       "2020-02-25    17\n",
       "2020-02-26    10\n",
       "2020-02-27    13\n",
       "2020-02-28     7\n",
       "2020-02-29     5\n",
       "2020-03-01     6\n",
       "2020-03-02     6\n",
       "2020-03-03     1\n",
       "2020-03-04     5\n",
       "2020-03-05     1\n",
       "2020-03-06     7\n",
       "2020-03-07     7\n",
       "2020-03-08    10\n",
       "2020-03-09    26\n",
       "2020-03-10    46\n",
       "2020-03-11    17\n",
       "2020-03-12    12\n",
       "2020-03-13     9\n",
       "2020-03-14     8\n",
       "Name: 연번, dtype: int64"
      ]
     },
     "execution_count": 15,
     "metadata": {},
     "output_type": "execute_result"
    }
   ],
   "source": [
    "cum = df.groupby([\"확진일자\"])[\"연번\"].count()\n",
    "cum"
   ]
  },
  {
   "cell_type": "markdown",
   "metadata": {},
   "source": [
    "## 모든 날짜를 행에 만들어 주기\n",
    "* 확진자가 없는 날의 데이터도 만들어 줍니다."
   ]
  },
  {
   "cell_type": "code",
   "execution_count": 16,
   "metadata": {},
   "outputs": [
    {
     "data": {
      "text/plain": [
       "(Timestamp('2020-01-23 00:00:00'), Timestamp('2020-03-14 00:00:00'))"
      ]
     },
     "execution_count": 16,
     "metadata": {},
     "output_type": "execute_result"
    }
   ],
   "source": [
    "# 첫 확진일 부터 마지막 확진일까지 가져옵니다.\n",
    "# 데이터프레임의 첫번째 날짜는 first_day 에 마지막 날짜는 last_day 에 담습니다.\n",
    "\n",
    "first_day = df.iloc[-1][\"확진일자\"]\n",
    "last_day = df.iloc[0][\"확진일자\"]\n",
    "first_day, last_day"
   ]
  },
  {
   "cell_type": "code",
   "execution_count": 17,
   "metadata": {},
   "outputs": [
    {
     "data": {
      "text/plain": [
       "DatetimeIndex(['2020-01-23', '2020-01-24', '2020-01-25', '2020-01-26',\n",
       "               '2020-01-27', '2020-01-28', '2020-01-29', '2020-01-30',\n",
       "               '2020-01-31', '2020-02-01', '2020-02-02', '2020-02-03',\n",
       "               '2020-02-04', '2020-02-05', '2020-02-06', '2020-02-07',\n",
       "               '2020-02-08', '2020-02-09', '2020-02-10', '2020-02-11',\n",
       "               '2020-02-12', '2020-02-13', '2020-02-14', '2020-02-15',\n",
       "               '2020-02-16', '2020-02-17', '2020-02-18', '2020-02-19',\n",
       "               '2020-02-20', '2020-02-21', '2020-02-22', '2020-02-23',\n",
       "               '2020-02-24', '2020-02-25', '2020-02-26', '2020-02-27',\n",
       "               '2020-02-28', '2020-02-29', '2020-03-01', '2020-03-02',\n",
       "               '2020-03-03', '2020-03-04', '2020-03-05', '2020-03-06',\n",
       "               '2020-03-07', '2020-03-08', '2020-03-09', '2020-03-10',\n",
       "               '2020-03-11', '2020-03-12', '2020-03-13', '2020-03-14'],\n",
       "              dtype='datetime64[ns]', freq='D')"
      ]
     },
     "execution_count": 17,
     "metadata": {},
     "output_type": "execute_result"
    }
   ],
   "source": [
    "# pd.date_range 를 통해 시작하는 날짜부터 끝나는 날짜까지의 DatetimeIndex 를 만들고 days 라는 변수에 저장합니다.\n",
    "days = pd.date_range(first_day, last_day)\n",
    "days"
   ]
  },
  {
   "cell_type": "code",
   "execution_count": 18,
   "metadata": {},
   "outputs": [
    {
     "data": {
      "text/html": [
       "<div>\n",
       "<style scoped>\n",
       "    .dataframe tbody tr th:only-of-type {\n",
       "        vertical-align: middle;\n",
       "    }\n",
       "\n",
       "    .dataframe tbody tr th {\n",
       "        vertical-align: top;\n",
       "    }\n",
       "\n",
       "    .dataframe thead th {\n",
       "        text-align: right;\n",
       "    }\n",
       "</style>\n",
       "<table border=\"1\" class=\"dataframe\">\n",
       "  <thead>\n",
       "    <tr style=\"text-align: right;\">\n",
       "      <th></th>\n",
       "      <th>확진일자</th>\n",
       "    </tr>\n",
       "  </thead>\n",
       "  <tbody>\n",
       "    <tr>\n",
       "      <th>0</th>\n",
       "      <td>2020-01-23</td>\n",
       "    </tr>\n",
       "    <tr>\n",
       "      <th>1</th>\n",
       "      <td>2020-01-24</td>\n",
       "    </tr>\n",
       "    <tr>\n",
       "      <th>2</th>\n",
       "      <td>2020-01-25</td>\n",
       "    </tr>\n",
       "    <tr>\n",
       "      <th>3</th>\n",
       "      <td>2020-01-26</td>\n",
       "    </tr>\n",
       "    <tr>\n",
       "      <th>4</th>\n",
       "      <td>2020-01-27</td>\n",
       "    </tr>\n",
       "  </tbody>\n",
       "</table>\n",
       "</div>"
      ],
      "text/plain": [
       "        확진일자\n",
       "0 2020-01-23\n",
       "1 2020-01-24\n",
       "2 2020-01-25\n",
       "3 2020-01-26\n",
       "4 2020-01-27"
      ]
     },
     "execution_count": 18,
     "metadata": {},
     "output_type": "execute_result"
    }
   ],
   "source": [
    "# days 변수의 값으로 \"연월일\" 이라는 컬럼이름을 갖는 데이터프레임을 만듭니다.\n",
    "days = pd.DataFrame({\"확진일자\": days})\n",
    "days.head()"
   ]
  },
  {
   "cell_type": "code",
   "execution_count": 19,
   "metadata": {},
   "outputs": [
    {
     "data": {
      "text/html": [
       "<div>\n",
       "<style scoped>\n",
       "    .dataframe tbody tr th:only-of-type {\n",
       "        vertical-align: middle;\n",
       "    }\n",
       "\n",
       "    .dataframe tbody tr th {\n",
       "        vertical-align: top;\n",
       "    }\n",
       "\n",
       "    .dataframe thead th {\n",
       "        text-align: right;\n",
       "    }\n",
       "</style>\n",
       "<table border=\"1\" class=\"dataframe\">\n",
       "  <thead>\n",
       "    <tr style=\"text-align: right;\">\n",
       "      <th></th>\n",
       "      <th>확진일자</th>\n",
       "      <th>확진수</th>\n",
       "    </tr>\n",
       "  </thead>\n",
       "  <tbody>\n",
       "    <tr>\n",
       "      <th>0</th>\n",
       "      <td>2020-01-23</td>\n",
       "      <td>1.0</td>\n",
       "    </tr>\n",
       "    <tr>\n",
       "      <th>1</th>\n",
       "      <td>2020-01-24</td>\n",
       "      <td>NaN</td>\n",
       "    </tr>\n",
       "    <tr>\n",
       "      <th>2</th>\n",
       "      <td>2020-01-25</td>\n",
       "      <td>NaN</td>\n",
       "    </tr>\n",
       "    <tr>\n",
       "      <th>3</th>\n",
       "      <td>2020-01-26</td>\n",
       "      <td>NaN</td>\n",
       "    </tr>\n",
       "    <tr>\n",
       "      <th>4</th>\n",
       "      <td>2020-01-27</td>\n",
       "      <td>NaN</td>\n",
       "    </tr>\n",
       "  </tbody>\n",
       "</table>\n",
       "</div>"
      ],
      "text/plain": [
       "        확진일자  확진수\n",
       "0 2020-01-23  1.0\n",
       "1 2020-01-24  NaN\n",
       "2 2020-01-25  NaN\n",
       "3 2020-01-26  NaN\n",
       "4 2020-01-27  NaN"
      ]
     },
     "execution_count": 19,
     "metadata": {},
     "output_type": "execute_result"
    }
   ],
   "source": [
    "all_day = days.merge(cum, left_on=\"확진일자\", right_on=cum.index, how=\"left\")\n",
    "all_day = all_day.rename(columns={\"연번\":\"확진수\"})\n",
    "all_day.head()"
   ]
  },
  {
   "cell_type": "markdown",
   "metadata": {},
   "source": [
    "## 누적 확진자 수 구하기"
   ]
  },
  {
   "cell_type": "code",
   "execution_count": 20,
   "metadata": {},
   "outputs": [
    {
     "data": {
      "text/html": [
       "<div>\n",
       "<style scoped>\n",
       "    .dataframe tbody tr th:only-of-type {\n",
       "        vertical-align: middle;\n",
       "    }\n",
       "\n",
       "    .dataframe tbody tr th {\n",
       "        vertical-align: top;\n",
       "    }\n",
       "\n",
       "    .dataframe thead th {\n",
       "        text-align: right;\n",
       "    }\n",
       "</style>\n",
       "<table border=\"1\" class=\"dataframe\">\n",
       "  <thead>\n",
       "    <tr style=\"text-align: right;\">\n",
       "      <th></th>\n",
       "      <th>확진일자</th>\n",
       "      <th>확진수</th>\n",
       "      <th>누적확진</th>\n",
       "    </tr>\n",
       "  </thead>\n",
       "  <tbody>\n",
       "    <tr>\n",
       "      <th>0</th>\n",
       "      <td>2020-01-23</td>\n",
       "      <td>1.0</td>\n",
       "      <td>1.0</td>\n",
       "    </tr>\n",
       "    <tr>\n",
       "      <th>1</th>\n",
       "      <td>2020-01-24</td>\n",
       "      <td>NaN</td>\n",
       "      <td>1.0</td>\n",
       "    </tr>\n",
       "    <tr>\n",
       "      <th>2</th>\n",
       "      <td>2020-01-25</td>\n",
       "      <td>NaN</td>\n",
       "      <td>1.0</td>\n",
       "    </tr>\n",
       "    <tr>\n",
       "      <th>3</th>\n",
       "      <td>2020-01-26</td>\n",
       "      <td>NaN</td>\n",
       "      <td>1.0</td>\n",
       "    </tr>\n",
       "    <tr>\n",
       "      <th>4</th>\n",
       "      <td>2020-01-27</td>\n",
       "      <td>NaN</td>\n",
       "      <td>1.0</td>\n",
       "    </tr>\n",
       "    <tr>\n",
       "      <th>5</th>\n",
       "      <td>2020-01-28</td>\n",
       "      <td>NaN</td>\n",
       "      <td>1.0</td>\n",
       "    </tr>\n",
       "    <tr>\n",
       "      <th>6</th>\n",
       "      <td>2020-01-29</td>\n",
       "      <td>NaN</td>\n",
       "      <td>1.0</td>\n",
       "    </tr>\n",
       "    <tr>\n",
       "      <th>7</th>\n",
       "      <td>2020-01-30</td>\n",
       "      <td>3.0</td>\n",
       "      <td>4.0</td>\n",
       "    </tr>\n",
       "    <tr>\n",
       "      <th>8</th>\n",
       "      <td>2020-01-31</td>\n",
       "      <td>3.0</td>\n",
       "      <td>7.0</td>\n",
       "    </tr>\n",
       "    <tr>\n",
       "      <th>9</th>\n",
       "      <td>2020-02-01</td>\n",
       "      <td>NaN</td>\n",
       "      <td>7.0</td>\n",
       "    </tr>\n",
       "    <tr>\n",
       "      <th>10</th>\n",
       "      <td>2020-02-02</td>\n",
       "      <td>1.0</td>\n",
       "      <td>8.0</td>\n",
       "    </tr>\n",
       "    <tr>\n",
       "      <th>11</th>\n",
       "      <td>2020-02-03</td>\n",
       "      <td>NaN</td>\n",
       "      <td>8.0</td>\n",
       "    </tr>\n",
       "    <tr>\n",
       "      <th>12</th>\n",
       "      <td>2020-02-04</td>\n",
       "      <td>NaN</td>\n",
       "      <td>8.0</td>\n",
       "    </tr>\n",
       "    <tr>\n",
       "      <th>13</th>\n",
       "      <td>2020-02-05</td>\n",
       "      <td>2.0</td>\n",
       "      <td>10.0</td>\n",
       "    </tr>\n",
       "    <tr>\n",
       "      <th>14</th>\n",
       "      <td>2020-02-06</td>\n",
       "      <td>1.0</td>\n",
       "      <td>11.0</td>\n",
       "    </tr>\n",
       "    <tr>\n",
       "      <th>15</th>\n",
       "      <td>2020-02-07</td>\n",
       "      <td>1.0</td>\n",
       "      <td>12.0</td>\n",
       "    </tr>\n",
       "    <tr>\n",
       "      <th>16</th>\n",
       "      <td>2020-02-08</td>\n",
       "      <td>NaN</td>\n",
       "      <td>12.0</td>\n",
       "    </tr>\n",
       "    <tr>\n",
       "      <th>17</th>\n",
       "      <td>2020-02-09</td>\n",
       "      <td>NaN</td>\n",
       "      <td>12.0</td>\n",
       "    </tr>\n",
       "    <tr>\n",
       "      <th>18</th>\n",
       "      <td>2020-02-10</td>\n",
       "      <td>NaN</td>\n",
       "      <td>12.0</td>\n",
       "    </tr>\n",
       "    <tr>\n",
       "      <th>19</th>\n",
       "      <td>2020-02-11</td>\n",
       "      <td>NaN</td>\n",
       "      <td>12.0</td>\n",
       "    </tr>\n",
       "    <tr>\n",
       "      <th>20</th>\n",
       "      <td>2020-02-12</td>\n",
       "      <td>NaN</td>\n",
       "      <td>12.0</td>\n",
       "    </tr>\n",
       "    <tr>\n",
       "      <th>21</th>\n",
       "      <td>2020-02-13</td>\n",
       "      <td>NaN</td>\n",
       "      <td>12.0</td>\n",
       "    </tr>\n",
       "    <tr>\n",
       "      <th>22</th>\n",
       "      <td>2020-02-14</td>\n",
       "      <td>NaN</td>\n",
       "      <td>12.0</td>\n",
       "    </tr>\n",
       "    <tr>\n",
       "      <th>23</th>\n",
       "      <td>2020-02-15</td>\n",
       "      <td>NaN</td>\n",
       "      <td>12.0</td>\n",
       "    </tr>\n",
       "    <tr>\n",
       "      <th>24</th>\n",
       "      <td>2020-02-16</td>\n",
       "      <td>2.0</td>\n",
       "      <td>14.0</td>\n",
       "    </tr>\n",
       "    <tr>\n",
       "      <th>25</th>\n",
       "      <td>2020-02-17</td>\n",
       "      <td>NaN</td>\n",
       "      <td>14.0</td>\n",
       "    </tr>\n",
       "    <tr>\n",
       "      <th>26</th>\n",
       "      <td>2020-02-18</td>\n",
       "      <td>NaN</td>\n",
       "      <td>14.0</td>\n",
       "    </tr>\n",
       "    <tr>\n",
       "      <th>27</th>\n",
       "      <td>2020-02-19</td>\n",
       "      <td>2.0</td>\n",
       "      <td>16.0</td>\n",
       "    </tr>\n",
       "    <tr>\n",
       "      <th>28</th>\n",
       "      <td>2020-02-20</td>\n",
       "      <td>5.0</td>\n",
       "      <td>21.0</td>\n",
       "    </tr>\n",
       "    <tr>\n",
       "      <th>29</th>\n",
       "      <td>2020-02-21</td>\n",
       "      <td>2.0</td>\n",
       "      <td>23.0</td>\n",
       "    </tr>\n",
       "    <tr>\n",
       "      <th>30</th>\n",
       "      <td>2020-02-22</td>\n",
       "      <td>4.0</td>\n",
       "      <td>27.0</td>\n",
       "    </tr>\n",
       "    <tr>\n",
       "      <th>31</th>\n",
       "      <td>2020-02-23</td>\n",
       "      <td>4.0</td>\n",
       "      <td>31.0</td>\n",
       "    </tr>\n",
       "    <tr>\n",
       "      <th>32</th>\n",
       "      <td>2020-02-24</td>\n",
       "      <td>4.0</td>\n",
       "      <td>35.0</td>\n",
       "    </tr>\n",
       "    <tr>\n",
       "      <th>33</th>\n",
       "      <td>2020-02-25</td>\n",
       "      <td>17.0</td>\n",
       "      <td>52.0</td>\n",
       "    </tr>\n",
       "    <tr>\n",
       "      <th>34</th>\n",
       "      <td>2020-02-26</td>\n",
       "      <td>10.0</td>\n",
       "      <td>62.0</td>\n",
       "    </tr>\n",
       "    <tr>\n",
       "      <th>35</th>\n",
       "      <td>2020-02-27</td>\n",
       "      <td>13.0</td>\n",
       "      <td>75.0</td>\n",
       "    </tr>\n",
       "    <tr>\n",
       "      <th>36</th>\n",
       "      <td>2020-02-28</td>\n",
       "      <td>7.0</td>\n",
       "      <td>82.0</td>\n",
       "    </tr>\n",
       "    <tr>\n",
       "      <th>37</th>\n",
       "      <td>2020-02-29</td>\n",
       "      <td>5.0</td>\n",
       "      <td>87.0</td>\n",
       "    </tr>\n",
       "    <tr>\n",
       "      <th>38</th>\n",
       "      <td>2020-03-01</td>\n",
       "      <td>6.0</td>\n",
       "      <td>93.0</td>\n",
       "    </tr>\n",
       "    <tr>\n",
       "      <th>39</th>\n",
       "      <td>2020-03-02</td>\n",
       "      <td>6.0</td>\n",
       "      <td>99.0</td>\n",
       "    </tr>\n",
       "    <tr>\n",
       "      <th>40</th>\n",
       "      <td>2020-03-03</td>\n",
       "      <td>1.0</td>\n",
       "      <td>100.0</td>\n",
       "    </tr>\n",
       "    <tr>\n",
       "      <th>41</th>\n",
       "      <td>2020-03-04</td>\n",
       "      <td>5.0</td>\n",
       "      <td>105.0</td>\n",
       "    </tr>\n",
       "    <tr>\n",
       "      <th>42</th>\n",
       "      <td>2020-03-05</td>\n",
       "      <td>1.0</td>\n",
       "      <td>106.0</td>\n",
       "    </tr>\n",
       "    <tr>\n",
       "      <th>43</th>\n",
       "      <td>2020-03-06</td>\n",
       "      <td>7.0</td>\n",
       "      <td>113.0</td>\n",
       "    </tr>\n",
       "    <tr>\n",
       "      <th>44</th>\n",
       "      <td>2020-03-07</td>\n",
       "      <td>7.0</td>\n",
       "      <td>120.0</td>\n",
       "    </tr>\n",
       "    <tr>\n",
       "      <th>45</th>\n",
       "      <td>2020-03-08</td>\n",
       "      <td>10.0</td>\n",
       "      <td>130.0</td>\n",
       "    </tr>\n",
       "    <tr>\n",
       "      <th>46</th>\n",
       "      <td>2020-03-09</td>\n",
       "      <td>26.0</td>\n",
       "      <td>156.0</td>\n",
       "    </tr>\n",
       "    <tr>\n",
       "      <th>47</th>\n",
       "      <td>2020-03-10</td>\n",
       "      <td>46.0</td>\n",
       "      <td>202.0</td>\n",
       "    </tr>\n",
       "    <tr>\n",
       "      <th>48</th>\n",
       "      <td>2020-03-11</td>\n",
       "      <td>17.0</td>\n",
       "      <td>219.0</td>\n",
       "    </tr>\n",
       "    <tr>\n",
       "      <th>49</th>\n",
       "      <td>2020-03-12</td>\n",
       "      <td>12.0</td>\n",
       "      <td>231.0</td>\n",
       "    </tr>\n",
       "    <tr>\n",
       "      <th>50</th>\n",
       "      <td>2020-03-13</td>\n",
       "      <td>9.0</td>\n",
       "      <td>240.0</td>\n",
       "    </tr>\n",
       "    <tr>\n",
       "      <th>51</th>\n",
       "      <td>2020-03-14</td>\n",
       "      <td>8.0</td>\n",
       "      <td>248.0</td>\n",
       "    </tr>\n",
       "  </tbody>\n",
       "</table>\n",
       "</div>"
      ],
      "text/plain": [
       "         확진일자   확진수   누적확진\n",
       "0  2020-01-23   1.0    1.0\n",
       "1  2020-01-24   NaN    1.0\n",
       "2  2020-01-25   NaN    1.0\n",
       "3  2020-01-26   NaN    1.0\n",
       "4  2020-01-27   NaN    1.0\n",
       "5  2020-01-28   NaN    1.0\n",
       "6  2020-01-29   NaN    1.0\n",
       "7  2020-01-30   3.0    4.0\n",
       "8  2020-01-31   3.0    7.0\n",
       "9  2020-02-01   NaN    7.0\n",
       "10 2020-02-02   1.0    8.0\n",
       "11 2020-02-03   NaN    8.0\n",
       "12 2020-02-04   NaN    8.0\n",
       "13 2020-02-05   2.0   10.0\n",
       "14 2020-02-06   1.0   11.0\n",
       "15 2020-02-07   1.0   12.0\n",
       "16 2020-02-08   NaN   12.0\n",
       "17 2020-02-09   NaN   12.0\n",
       "18 2020-02-10   NaN   12.0\n",
       "19 2020-02-11   NaN   12.0\n",
       "20 2020-02-12   NaN   12.0\n",
       "21 2020-02-13   NaN   12.0\n",
       "22 2020-02-14   NaN   12.0\n",
       "23 2020-02-15   NaN   12.0\n",
       "24 2020-02-16   2.0   14.0\n",
       "25 2020-02-17   NaN   14.0\n",
       "26 2020-02-18   NaN   14.0\n",
       "27 2020-02-19   2.0   16.0\n",
       "28 2020-02-20   5.0   21.0\n",
       "29 2020-02-21   2.0   23.0\n",
       "30 2020-02-22   4.0   27.0\n",
       "31 2020-02-23   4.0   31.0\n",
       "32 2020-02-24   4.0   35.0\n",
       "33 2020-02-25  17.0   52.0\n",
       "34 2020-02-26  10.0   62.0\n",
       "35 2020-02-27  13.0   75.0\n",
       "36 2020-02-28   7.0   82.0\n",
       "37 2020-02-29   5.0   87.0\n",
       "38 2020-03-01   6.0   93.0\n",
       "39 2020-03-02   6.0   99.0\n",
       "40 2020-03-03   1.0  100.0\n",
       "41 2020-03-04   5.0  105.0\n",
       "42 2020-03-05   1.0  106.0\n",
       "43 2020-03-06   7.0  113.0\n",
       "44 2020-03-07   7.0  120.0\n",
       "45 2020-03-08  10.0  130.0\n",
       "46 2020-03-09  26.0  156.0\n",
       "47 2020-03-10  46.0  202.0\n",
       "48 2020-03-11  17.0  219.0\n",
       "49 2020-03-12  12.0  231.0\n",
       "50 2020-03-13   9.0  240.0\n",
       "51 2020-03-14   8.0  248.0"
      ]
     },
     "execution_count": 20,
     "metadata": {},
     "output_type": "execute_result"
    }
   ],
   "source": [
    "all_day[\"누적확진\"] = all_day[\"확진수\"].fillna(0).cumsum()\n",
    "all_day"
   ]
  },
  {
   "cell_type": "code",
   "execution_count": 21,
   "metadata": {},
   "outputs": [
    {
     "data": {
      "text/plain": [
       "0    01-23\n",
       "1    01-24\n",
       "2    01-25\n",
       "3    01-26\n",
       "4    01-27\n",
       "Name: 일자, dtype: object"
      ]
     },
     "execution_count": 21,
     "metadata": {},
     "output_type": "execute_result"
    }
   ],
   "source": [
    "all_day[\"일자\"] = all_day[\"확진일자\"].astype(str).map(lambda x: x[-5:])\n",
    "all_day[\"일자\"].head()"
   ]
  },
  {
   "cell_type": "code",
   "execution_count": 22,
   "metadata": {},
   "outputs": [
    {
     "data": {
      "text/plain": [
       "<matplotlib.axes._subplots.AxesSubplot at 0x10335e710>"
      ]
     },
     "execution_count": 22,
     "metadata": {},
     "output_type": "execute_result"
    },
    {
     "data": {
      "image/png": "[encoded data removed]",
      "text/plain": [
       "<Figure size 1080x216 with 1 Axes>"
      ]
     },
     "metadata": {
      "image/png": {
       "height": 238,
       "width": 904
      }
     },
     "output_type": "display_data"
    }
   ],
   "source": [
    "plt.figure(figsize=(15, 3))\n",
    "plt.xticks(rotation=60)\n",
    "sns.pointplot(data=all_day, x=\"일자\", y=\"누적확진\")\n",
    "sns.barplot(data=all_day, x=\"일자\", y=\"확진수\")"
   ]
  },
  {
   "cell_type": "code",
   "execution_count": 23,
   "metadata": {},
   "outputs": [
    {
     "data": {
      "text/html": [
       "<div>\n",
       "<style scoped>\n",
       "    .dataframe tbody tr th:only-of-type {\n",
       "        vertical-align: middle;\n",
       "    }\n",
       "\n",
       "    .dataframe tbody tr th {\n",
       "        vertical-align: top;\n",
       "    }\n",
       "\n",
       "    .dataframe thead th {\n",
       "        text-align: right;\n",
       "    }\n",
       "</style>\n",
       "<table border=\"1\" class=\"dataframe\">\n",
       "  <thead>\n",
       "    <tr style=\"text-align: right;\">\n",
       "      <th></th>\n",
       "      <th>확진일자</th>\n",
       "      <th>확진수</th>\n",
       "      <th>누적확진</th>\n",
       "      <th>일자</th>\n",
       "      <th>확진월</th>\n",
       "      <th>확진요일</th>\n",
       "    </tr>\n",
       "  </thead>\n",
       "  <tbody>\n",
       "    <tr>\n",
       "      <th>0</th>\n",
       "      <td>2020-01-23</td>\n",
       "      <td>1.0</td>\n",
       "      <td>1.0</td>\n",
       "      <td>01-23</td>\n",
       "      <td>1</td>\n",
       "      <td>3</td>\n",
       "    </tr>\n",
       "    <tr>\n",
       "      <th>1</th>\n",
       "      <td>2020-01-24</td>\n",
       "      <td>NaN</td>\n",
       "      <td>1.0</td>\n",
       "      <td>01-24</td>\n",
       "      <td>1</td>\n",
       "      <td>4</td>\n",
       "    </tr>\n",
       "    <tr>\n",
       "      <th>2</th>\n",
       "      <td>2020-01-25</td>\n",
       "      <td>NaN</td>\n",
       "      <td>1.0</td>\n",
       "      <td>01-25</td>\n",
       "      <td>1</td>\n",
       "      <td>5</td>\n",
       "    </tr>\n",
       "    <tr>\n",
       "      <th>3</th>\n",
       "      <td>2020-01-26</td>\n",
       "      <td>NaN</td>\n",
       "      <td>1.0</td>\n",
       "      <td>01-26</td>\n",
       "      <td>1</td>\n",
       "      <td>6</td>\n",
       "    </tr>\n",
       "    <tr>\n",
       "      <th>4</th>\n",
       "      <td>2020-01-27</td>\n",
       "      <td>NaN</td>\n",
       "      <td>1.0</td>\n",
       "      <td>01-27</td>\n",
       "      <td>1</td>\n",
       "      <td>0</td>\n",
       "    </tr>\n",
       "  </tbody>\n",
       "</table>\n",
       "</div>"
      ],
      "text/plain": [
       "        확진일자  확진수  누적확진     일자  확진월  확진요일\n",
       "0 2020-01-23  1.0   1.0  01-23    1     3\n",
       "1 2020-01-24  NaN   1.0  01-24    1     4\n",
       "2 2020-01-25  NaN   1.0  01-25    1     5\n",
       "3 2020-01-26  NaN   1.0  01-26    1     6\n",
       "4 2020-01-27  NaN   1.0  01-27    1     0"
      ]
     },
     "execution_count": 23,
     "metadata": {},
     "output_type": "execute_result"
    }
   ],
   "source": [
    "all_day[\"확진월\"] = all_day[\"확진일자\"].dt.month\n",
    "all_day[\"확진요일\"] = all_day[\"확진일자\"].dt.dayofweek\n",
    "all_day.head()"
   ]
  },
  {
   "cell_type": "markdown",
   "metadata": {},
   "source": [
    "## 요일별 확진 수 "
   ]
  },
  {
   "cell_type": "code",
   "execution_count": 24,
   "metadata": {},
   "outputs": [
    {
     "data": {
      "text/html": [
       "<style  type=\"text/css\" >\n",
       "    #T_0f1a9eec_6789_11ea_b88a_acbc3281177frow0_col0 {\n",
       "            background-color:  #fff7fb;\n",
       "            color:  #000000;\n",
       "        }    #T_0f1a9eec_6789_11ea_b88a_acbc3281177frow0_col1 {\n",
       "            background-color:  #fff7fb;\n",
       "            color:  #000000;\n",
       "        }    #T_0f1a9eec_6789_11ea_b88a_acbc3281177frow0_col2 {\n",
       "            background-color:  #fff7fb;\n",
       "            color:  #000000;\n",
       "        }    #T_0f1a9eec_6789_11ea_b88a_acbc3281177frow0_col3 {\n",
       "            background-color:  #fff7fb;\n",
       "            color:  #000000;\n",
       "        }    #T_0f1a9eec_6789_11ea_b88a_acbc3281177frow0_col4 {\n",
       "            background-color:  #fff7fb;\n",
       "            color:  #000000;\n",
       "        }    #T_0f1a9eec_6789_11ea_b88a_acbc3281177frow0_col5 {\n",
       "            background-color:  #fff7fb;\n",
       "            color:  #000000;\n",
       "        }    #T_0f1a9eec_6789_11ea_b88a_acbc3281177frow0_col6 {\n",
       "            background-color:  #fff7fb;\n",
       "            color:  #000000;\n",
       "        }    #T_0f1a9eec_6789_11ea_b88a_acbc3281177frow1_col0 {\n",
       "            background-color:  #ece7f2;\n",
       "            color:  #000000;\n",
       "        }    #T_0f1a9eec_6789_11ea_b88a_acbc3281177frow1_col1 {\n",
       "            background-color:  #abbfdc;\n",
       "            color:  #000000;\n",
       "        }    #T_0f1a9eec_6789_11ea_b88a_acbc3281177frow1_col2 {\n",
       "            background-color:  #328dbf;\n",
       "            color:  #000000;\n",
       "        }    #T_0f1a9eec_6789_11ea_b88a_acbc3281177frow1_col3 {\n",
       "            background-color:  #023858;\n",
       "            color:  #f1f1f1;\n",
       "        }    #T_0f1a9eec_6789_11ea_b88a_acbc3281177frow1_col4 {\n",
       "            background-color:  #62a2cb;\n",
       "            color:  #000000;\n",
       "        }    #T_0f1a9eec_6789_11ea_b88a_acbc3281177frow1_col5 {\n",
       "            background-color:  #4295c3;\n",
       "            color:  #000000;\n",
       "        }    #T_0f1a9eec_6789_11ea_b88a_acbc3281177frow1_col6 {\n",
       "            background-color:  #8cb3d5;\n",
       "            color:  #000000;\n",
       "        }    #T_0f1a9eec_6789_11ea_b88a_acbc3281177frow2_col0 {\n",
       "            background-color:  #023858;\n",
       "            color:  #f1f1f1;\n",
       "        }    #T_0f1a9eec_6789_11ea_b88a_acbc3281177frow2_col1 {\n",
       "            background-color:  #023858;\n",
       "            color:  #f1f1f1;\n",
       "        }    #T_0f1a9eec_6789_11ea_b88a_acbc3281177frow2_col2 {\n",
       "            background-color:  #023858;\n",
       "            color:  #f1f1f1;\n",
       "        }    #T_0f1a9eec_6789_11ea_b88a_acbc3281177frow2_col3 {\n",
       "            background-color:  #4295c3;\n",
       "            color:  #000000;\n",
       "        }    #T_0f1a9eec_6789_11ea_b88a_acbc3281177frow2_col4 {\n",
       "            background-color:  #023858;\n",
       "            color:  #f1f1f1;\n",
       "        }    #T_0f1a9eec_6789_11ea_b88a_acbc3281177frow2_col5 {\n",
       "            background-color:  #023858;\n",
       "            color:  #f1f1f1;\n",
       "        }    #T_0f1a9eec_6789_11ea_b88a_acbc3281177frow2_col6 {\n",
       "            background-color:  #023858;\n",
       "            color:  #f1f1f1;\n",
       "        }</style><table id=\"T_0f1a9eec_6789_11ea_b88a_acbc3281177f\" ><thead>    <tr>        <th class=\"index_name level0\" >확진요일</th>        <th class=\"col_heading level0 col0\" >0</th>        <th class=\"col_heading level0 col1\" >1</th>        <th class=\"col_heading level0 col2\" >2</th>        <th class=\"col_heading level0 col3\" >3</th>        <th class=\"col_heading level0 col4\" >4</th>        <th class=\"col_heading level0 col5\" >5</th>        <th class=\"col_heading level0 col6\" >6</th>    </tr>    <tr>        <th class=\"index_name level0\" >확진월</th>        <th class=\"blank\" ></th>        <th class=\"blank\" ></th>        <th class=\"blank\" ></th>        <th class=\"blank\" ></th>        <th class=\"blank\" ></th>        <th class=\"blank\" ></th>        <th class=\"blank\" ></th>    </tr></thead><tbody>\n",
       "                <tr>\n",
       "                        <th id=\"T_0f1a9eec_6789_11ea_b88a_acbc3281177flevel0_row0\" class=\"row_heading level0 row0\" >1</th>\n",
       "                        <td id=\"T_0f1a9eec_6789_11ea_b88a_acbc3281177frow0_col0\" class=\"data row0 col0\" >0</td>\n",
       "                        <td id=\"T_0f1a9eec_6789_11ea_b88a_acbc3281177frow0_col1\" class=\"data row0 col1\" >0</td>\n",
       "                        <td id=\"T_0f1a9eec_6789_11ea_b88a_acbc3281177frow0_col2\" class=\"data row0 col2\" >0</td>\n",
       "                        <td id=\"T_0f1a9eec_6789_11ea_b88a_acbc3281177frow0_col3\" class=\"data row0 col3\" >4</td>\n",
       "                        <td id=\"T_0f1a9eec_6789_11ea_b88a_acbc3281177frow0_col4\" class=\"data row0 col4\" >3</td>\n",
       "                        <td id=\"T_0f1a9eec_6789_11ea_b88a_acbc3281177frow0_col5\" class=\"data row0 col5\" >0</td>\n",
       "                        <td id=\"T_0f1a9eec_6789_11ea_b88a_acbc3281177frow0_col6\" class=\"data row0 col6\" >0</td>\n",
       "            </tr>\n",
       "            <tr>\n",
       "                        <th id=\"T_0f1a9eec_6789_11ea_b88a_acbc3281177flevel0_row1\" class=\"row_heading level0 row1\" >2</th>\n",
       "                        <td id=\"T_0f1a9eec_6789_11ea_b88a_acbc3281177frow1_col0\" class=\"data row1 col0\" >4</td>\n",
       "                        <td id=\"T_0f1a9eec_6789_11ea_b88a_acbc3281177frow1_col1\" class=\"data row1 col1\" >17</td>\n",
       "                        <td id=\"T_0f1a9eec_6789_11ea_b88a_acbc3281177frow1_col2\" class=\"data row1 col2\" >14</td>\n",
       "                        <td id=\"T_0f1a9eec_6789_11ea_b88a_acbc3281177frow1_col3\" class=\"data row1 col3\" >19</td>\n",
       "                        <td id=\"T_0f1a9eec_6789_11ea_b88a_acbc3281177frow1_col4\" class=\"data row1 col4\" >10</td>\n",
       "                        <td id=\"T_0f1a9eec_6789_11ea_b88a_acbc3281177frow1_col5\" class=\"data row1 col5\" >9</td>\n",
       "                        <td id=\"T_0f1a9eec_6789_11ea_b88a_acbc3281177frow1_col6\" class=\"data row1 col6\" >7</td>\n",
       "            </tr>\n",
       "            <tr>\n",
       "                        <th id=\"T_0f1a9eec_6789_11ea_b88a_acbc3281177flevel0_row2\" class=\"row_heading level0 row2\" >3</th>\n",
       "                        <td id=\"T_0f1a9eec_6789_11ea_b88a_acbc3281177frow2_col0\" class=\"data row2 col0\" >32</td>\n",
       "                        <td id=\"T_0f1a9eec_6789_11ea_b88a_acbc3281177frow2_col1\" class=\"data row2 col1\" >47</td>\n",
       "                        <td id=\"T_0f1a9eec_6789_11ea_b88a_acbc3281177frow2_col2\" class=\"data row2 col2\" >22</td>\n",
       "                        <td id=\"T_0f1a9eec_6789_11ea_b88a_acbc3281177frow2_col3\" class=\"data row2 col3\" >13</td>\n",
       "                        <td id=\"T_0f1a9eec_6789_11ea_b88a_acbc3281177frow2_col4\" class=\"data row2 col4\" >16</td>\n",
       "                        <td id=\"T_0f1a9eec_6789_11ea_b88a_acbc3281177frow2_col5\" class=\"data row2 col5\" >15</td>\n",
       "                        <td id=\"T_0f1a9eec_6789_11ea_b88a_acbc3281177frow2_col6\" class=\"data row2 col6\" >16</td>\n",
       "            </tr>\n",
       "    </tbody></table>"
      ],
      "text/plain": [
       "<pandas.io.formats.style.Styler at 0x11833f128>"
      ]
     },
     "execution_count": 24,
     "metadata": {},
     "output_type": "execute_result"
    }
   ],
   "source": [
    "all_day_week = all_day.groupby([\"확진월\", \"확진요일\"])[\"확진수\"].sum().unstack()\n",
    "all_day_week.style.background_gradient(cmap='PuBu')"
   ]
  },
  {
   "cell_type": "markdown",
   "metadata": {},
   "source": [
    "## 접촉력"
   ]
  },
  {
   "cell_type": "code",
   "execution_count": 25,
   "metadata": {},
   "outputs": [
    {
     "data": {
      "text/plain": [
       "구로구 콜센터 관련           53\n",
       "확인중                  26\n",
       "콜센터직원 접촉             22\n",
       "성동구 주상복합 관리사무소 관련    13\n",
       "해외 접촉                13\n",
       "                     ..\n",
       "#3 접촉자                1\n",
       "#83접촉자                1\n",
       "대구 방문(명성교회)           1\n",
       "#136접촉자               1\n",
       "대구 거주자                1\n",
       "Name: 접촉력, Length: 66, dtype: int64"
      ]
     },
     "execution_count": 25,
     "metadata": {},
     "output_type": "execute_result"
    }
   ],
   "source": [
    "df[\"접촉력\"].value_counts()"
   ]
  },
  {
   "cell_type": "code",
   "execution_count": 26,
   "metadata": {},
   "outputs": [],
   "source": [
    "df[\"접촉경로\"] = df[\"접촉력\"]\n",
    "df.loc[df[\"접촉력\"].str.contains(\"접촉자\"), \"접촉경로\"] = \"접촉자\"\n",
    "df.loc[df[\"접촉력\"].str.contains(\"은평성모\"), \"접촉경로\"] = \"은평성모병원\"\n",
    "df.loc[df[\"접촉력\"].str.contains(\"가족\"), \"접촉경로\"] = \"가족\"\n",
    "df.loc[df[\"접촉력\"].str.contains(\"부동산\"), \"접촉경로\"] = \"부동산중개법인\"\n",
    "df.loc[df[\"접촉력\"].str.contains(\"확잍중\"), \"접촉경로\"] = \"확인중\""
   ]
  },
  {
   "cell_type": "code",
   "execution_count": 27,
   "metadata": {},
   "outputs": [
    {
     "data": {
      "text/plain": [
       "구로구 콜센터 관련           53\n",
       "확인중                  27\n",
       "접촉자                  25\n",
       "콜센터직원 접촉             22\n",
       "은평성모병원               14\n",
       "성동구 주상복합 관리사무소 관련    13\n",
       "해외 접촉                13\n",
       "타시도 확진자 접촉           12\n",
       "-                     8\n",
       "해외접촉                  8\n",
       "대구 방문                 5\n",
       "#7103 접촉              4\n",
       "대구 확진자 접촉             3\n",
       "부동산중개법인               3\n",
       "신천지대구교회 관련            2\n",
       "#5592 접촉(추정)          2\n",
       "#7297 접촉              2\n",
       "명성교회 관련               2\n",
       "#8049 접촉              2\n",
       "#7247 접촉(추정)          2\n",
       "#7923 접촉              2\n",
       "타시도 확진자 접촉            2\n",
       "#7573 접축 추정           1\n",
       "#6727 첩촉              1\n",
       "서울재생병원 관련             1\n",
       "경찰병원관련                1\n",
       "여의도 건설현장 관련           1\n",
       "#7759 접촉 추정           1\n",
       "해외 접촉(추정)             1\n",
       "가족                    1\n",
       "여의도 건설현장관련            1\n",
       "쇼핑몰 관련                1\n",
       "#6959 접촉(추정)          1\n",
       "#7300 접촉              1\n",
       "#7500 접촉(추정)          1\n",
       "신천지 추정                1\n",
       "대구 방문(명성교회)           1\n",
       "#8044 접촉              1\n",
       "대구 거주                 1\n",
       "#7794 접촉 추정           1\n",
       "해외접촉 추정               1\n",
       "구로구 콜센터 접촉            1\n",
       "#7280 접촉(추정)          1\n",
       "대구 거주자                1\n",
       "Name: 접촉경로, dtype: int64"
      ]
     },
     "execution_count": 27,
     "metadata": {},
     "output_type": "execute_result"
    }
   ],
   "source": [
    "df[\"접촉경로\"].value_counts()"
   ]
  },
  {
   "cell_type": "markdown",
   "metadata": {},
   "source": [
    "## 가장 많은 전파가 일어난 번호"
   ]
  },
  {
   "cell_type": "code",
   "execution_count": 28,
   "metadata": {},
   "outputs": [
    {
     "data": {
      "text/plain": [
       "'7265'"
      ]
     },
     "execution_count": 28,
     "metadata": {},
     "output_type": "execute_result"
    }
   ],
   "source": [
    "import re\n",
    "\n",
    "re.sub(\"[^0-9]\", \"\", \"#7265 접촉(추정)\")"
   ]
  },
  {
   "cell_type": "code",
   "execution_count": 29,
   "metadata": {},
   "outputs": [
    {
     "data": {
      "text/plain": [
       "'7265'"
      ]
     },
     "execution_count": 29,
     "metadata": {},
     "output_type": "execute_result"
    }
   ],
   "source": [
    "def find_contactor(contactor):\n",
    "    return re.sub(\"[^0-9]\", \"\", contactor)\n",
    "    \n",
    "find_contactor(\"#7265 접촉(추정)\")"
   ]
  },
  {
   "cell_type": "code",
   "execution_count": 30,
   "metadata": {},
   "outputs": [
    {
     "data": {
      "text/html": [
       "<div>\n",
       "<style scoped>\n",
       "    .dataframe tbody tr th:only-of-type {\n",
       "        vertical-align: middle;\n",
       "    }\n",
       "\n",
       "    .dataframe tbody tr th {\n",
       "        vertical-align: top;\n",
       "    }\n",
       "\n",
       "    .dataframe thead th {\n",
       "        text-align: right;\n",
       "    }\n",
       "</style>\n",
       "<table border=\"1\" class=\"dataframe\">\n",
       "  <thead>\n",
       "    <tr style=\"text-align: right;\">\n",
       "      <th></th>\n",
       "      <th>환자번호</th>\n",
       "      <th>전파수</th>\n",
       "    </tr>\n",
       "  </thead>\n",
       "  <tbody>\n",
       "    <tr>\n",
       "      <th>0</th>\n",
       "      <td></td>\n",
       "      <td>202</td>\n",
       "    </tr>\n",
       "    <tr>\n",
       "      <th>1</th>\n",
       "      <td>6</td>\n",
       "      <td>4</td>\n",
       "    </tr>\n",
       "    <tr>\n",
       "      <th>2</th>\n",
       "      <td>7103</td>\n",
       "      <td>4</td>\n",
       "    </tr>\n",
       "    <tr>\n",
       "      <th>3</th>\n",
       "      <td>780</td>\n",
       "      <td>3</td>\n",
       "    </tr>\n",
       "    <tr>\n",
       "      <th>4</th>\n",
       "      <td>794</td>\n",
       "      <td>2</td>\n",
       "    </tr>\n",
       "  </tbody>\n",
       "</table>\n",
       "</div>"
      ],
      "text/plain": [
       "   환자번호  전파수\n",
       "0        202\n",
       "1     6    4\n",
       "2  7103    4\n",
       "3   780    3\n",
       "4   794    2"
      ]
     },
     "execution_count": 30,
     "metadata": {},
     "output_type": "execute_result"
    }
   ],
   "source": [
    "df[\"접촉번호\"] = df[\"접촉력\"].map(find_contactor)\n",
    "contact = df[\"접촉번호\"].value_counts().reset_index()\n",
    "# contact = contact.drop(0)\n",
    "contact.columns = [\"환자번호\", \"전파수\"]\n",
    "contact.head()"
   ]
  },
  {
   "cell_type": "code",
   "execution_count": 31,
   "metadata": {},
   "outputs": [
    {
     "data": {
      "text/html": [
       "<div>\n",
       "<style scoped>\n",
       "    .dataframe tbody tr th:only-of-type {\n",
       "        vertical-align: middle;\n",
       "    }\n",
       "\n",
       "    .dataframe tbody tr th {\n",
       "        vertical-align: top;\n",
       "    }\n",
       "\n",
       "    .dataframe thead th {\n",
       "        text-align: right;\n",
       "    }\n",
       "</style>\n",
       "<table border=\"1\" class=\"dataframe\">\n",
       "  <thead>\n",
       "    <tr style=\"text-align: right;\">\n",
       "      <th></th>\n",
       "      <th>환자번호</th>\n",
       "      <th>전파수</th>\n",
       "      <th>연번</th>\n",
       "      <th>환자</th>\n",
       "      <th>확진일</th>\n",
       "      <th>성별(출생년)</th>\n",
       "      <th>거주지</th>\n",
       "      <th>여행력</th>\n",
       "      <th>접촉력</th>\n",
       "      <th>조치사항</th>\n",
       "      <th>확진일자</th>\n",
       "      <th>월일</th>\n",
       "      <th>접촉경로</th>\n",
       "      <th>접촉번호</th>\n",
       "    </tr>\n",
       "  </thead>\n",
       "  <tbody>\n",
       "    <tr>\n",
       "      <th>0</th>\n",
       "      <td>6</td>\n",
       "      <td>4</td>\n",
       "      <td>3</td>\n",
       "      <td>6</td>\n",
       "      <td>1.30.</td>\n",
       "      <td>남(‵64)</td>\n",
       "      <td>종로구</td>\n",
       "      <td>-</td>\n",
       "      <td>#3 접촉자</td>\n",
       "      <td>서울대학교병원(퇴원)</td>\n",
       "      <td>2020-01-30</td>\n",
       "      <td>01-30</td>\n",
       "      <td>접촉자</td>\n",
       "      <td>3</td>\n",
       "    </tr>\n",
       "    <tr>\n",
       "      <th>1</th>\n",
       "      <td>7103</td>\n",
       "      <td>4</td>\n",
       "      <td>120</td>\n",
       "      <td>7103</td>\n",
       "      <td>3.6.</td>\n",
       "      <td>남('81)</td>\n",
       "      <td>성북구</td>\n",
       "      <td>-</td>\n",
       "      <td>확인중</td>\n",
       "      <td>서남병원</td>\n",
       "      <td>2020-03-06</td>\n",
       "      <td>03-06</td>\n",
       "      <td>확인중</td>\n",
       "      <td></td>\n",
       "    </tr>\n",
       "    <tr>\n",
       "      <th>2</th>\n",
       "      <td>780</td>\n",
       "      <td>3</td>\n",
       "      <td>31</td>\n",
       "      <td>780</td>\n",
       "      <td>2.22.</td>\n",
       "      <td>남('65)</td>\n",
       "      <td>송파구</td>\n",
       "      <td></td>\n",
       "      <td>대구 방문</td>\n",
       "      <td>중앙대학교병원</td>\n",
       "      <td>2020-02-22</td>\n",
       "      <td>02-22</td>\n",
       "      <td>대구 방문</td>\n",
       "      <td></td>\n",
       "    </tr>\n",
       "    <tr>\n",
       "      <th>3</th>\n",
       "      <td>794</td>\n",
       "      <td>2</td>\n",
       "      <td>33</td>\n",
       "      <td>794</td>\n",
       "      <td>2.24.</td>\n",
       "      <td>여('70)</td>\n",
       "      <td>송파구</td>\n",
       "      <td>-</td>\n",
       "      <td>#780 접촉자</td>\n",
       "      <td>서울의료원(퇴원)</td>\n",
       "      <td>2020-02-24</td>\n",
       "      <td>02-24</td>\n",
       "      <td>접촉자</td>\n",
       "      <td>780</td>\n",
       "    </tr>\n",
       "    <tr>\n",
       "      <th>4</th>\n",
       "      <td>8049</td>\n",
       "      <td>2</td>\n",
       "      <td>238</td>\n",
       "      <td>8049</td>\n",
       "      <td>3.13.</td>\n",
       "      <td>여('41)</td>\n",
       "      <td>동대문구</td>\n",
       "      <td>-</td>\n",
       "      <td>#7297 접촉</td>\n",
       "      <td>서울의료원</td>\n",
       "      <td>2020-03-13</td>\n",
       "      <td>03-13</td>\n",
       "      <td>#7297 접촉</td>\n",
       "      <td>7297</td>\n",
       "    </tr>\n",
       "  </tbody>\n",
       "</table>\n",
       "</div>"
      ],
      "text/plain": [
       "   환자번호  전파수   연번    환자    확진일 성별(출생년)   거주지 여행력       접촉력         조치사항  \\\n",
       "0     6    4    3     6  1.30.  남(‵64)   종로구   -    #3 접촉자  서울대학교병원(퇴원)   \n",
       "1  7103    4  120  7103   3.6.  남('81)   성북구   -       확인중         서남병원   \n",
       "2   780    3   31   780  2.22.  남('65)   송파구         대구 방문      중앙대학교병원   \n",
       "3   794    2   33   794  2.24.  여('70)   송파구   -  #780 접촉자    서울의료원(퇴원)   \n",
       "4  8049    2  238  8049  3.13.  여('41)  동대문구   -  #7297 접촉        서울의료원   \n",
       "\n",
       "        확진일자     월일      접촉경로  접촉번호  \n",
       "0 2020-01-30  01-30       접촉자     3  \n",
       "1 2020-03-06  03-06       확인중        \n",
       "2 2020-02-22  02-22     대구 방문        \n",
       "3 2020-02-24  02-24       접촉자   780  \n",
       "4 2020-03-13  03-13  #7297 접촉  7297  "
      ]
     },
     "execution_count": 31,
     "metadata": {},
     "output_type": "execute_result"
    }
   ],
   "source": [
    "top_contact = contact.merge(df, left_on=\"환자번호\", right_on=\"환자\")\n",
    "top_contact.head()"
   ]
  },
  {
   "cell_type": "code",
   "execution_count": 32,
   "metadata": {},
   "outputs": [
    {
     "data": {
      "text/plain": [
       "'6'"
      ]
     },
     "execution_count": 32,
     "metadata": {},
     "output_type": "execute_result"
    }
   ],
   "source": [
    "top_contactor = top_contact.iloc[0, 0]\n",
    "top_contactor"
   ]
  },
  {
   "cell_type": "code",
   "execution_count": 33,
   "metadata": {},
   "outputs": [
    {
     "data": {
      "text/html": [
       "<div>\n",
       "<style scoped>\n",
       "    .dataframe tbody tr th:only-of-type {\n",
       "        vertical-align: middle;\n",
       "    }\n",
       "\n",
       "    .dataframe tbody tr th {\n",
       "        vertical-align: top;\n",
       "    }\n",
       "\n",
       "    .dataframe thead th {\n",
       "        text-align: right;\n",
       "    }\n",
       "</style>\n",
       "<table border=\"1\" class=\"dataframe\">\n",
       "  <thead>\n",
       "    <tr style=\"text-align: right;\">\n",
       "      <th></th>\n",
       "      <th>연번</th>\n",
       "      <th>환자</th>\n",
       "      <th>확진일</th>\n",
       "      <th>성별(출생년)</th>\n",
       "      <th>거주지</th>\n",
       "      <th>여행력</th>\n",
       "      <th>접촉력</th>\n",
       "      <th>조치사항</th>\n",
       "      <th>확진일자</th>\n",
       "      <th>월일</th>\n",
       "      <th>접촉경로</th>\n",
       "      <th>접촉번호</th>\n",
       "    </tr>\n",
       "  </thead>\n",
       "  <tbody>\n",
       "    <tr>\n",
       "      <th>57</th>\n",
       "      <td>191</td>\n",
       "      <td>7647</td>\n",
       "      <td>3.10.</td>\n",
       "      <td>여('90)</td>\n",
       "      <td>은평구</td>\n",
       "      <td>프랑스, 스페인</td>\n",
       "      <td>#6959 접촉(추정)</td>\n",
       "      <td>서울의료원</td>\n",
       "      <td>2020-03-10</td>\n",
       "      <td>03-10</td>\n",
       "      <td>#6959 접촉(추정)</td>\n",
       "      <td>6959</td>\n",
       "    </tr>\n",
       "    <tr>\n",
       "      <th>121</th>\n",
       "      <td>127</td>\n",
       "      <td>7280</td>\n",
       "      <td>3.8.</td>\n",
       "      <td>남('69)</td>\n",
       "      <td>강남구</td>\n",
       "      <td>-</td>\n",
       "      <td>#6727 첩촉</td>\n",
       "      <td>보라매병원</td>\n",
       "      <td>2020-03-08</td>\n",
       "      <td>03-08</td>\n",
       "      <td>#6727 첩촉</td>\n",
       "      <td>6727</td>\n",
       "    </tr>\n",
       "  </tbody>\n",
       "</table>\n",
       "</div>"
      ],
      "text/plain": [
       "      연번    환자    확진일 성별(출생년)  거주지       여행력           접촉력   조치사항       확진일자  \\\n",
       "57   191  7647  3.10.  여('90)  은평구  프랑스, 스페인  #6959 접촉(추정)  서울의료원 2020-03-10   \n",
       "121  127  7280   3.8.  남('69)  강남구         -      #6727 첩촉  보라매병원 2020-03-08   \n",
       "\n",
       "        월일          접촉경로  접촉번호  \n",
       "57   03-10  #6959 접촉(추정)  6959  \n",
       "121  03-08      #6727 첩촉  6727  "
      ]
     },
     "execution_count": 33,
     "metadata": {},
     "output_type": "execute_result"
    }
   ],
   "source": [
    "df[df[\"접촉경로\"].str.contains(top_contactor)]"
   ]
  },
  {
   "cell_type": "code",
   "execution_count": 34,
   "metadata": {},
   "outputs": [],
   "source": [
    "pd.options.display.max_rows = 100"
   ]
  },
  {
   "cell_type": "code",
   "execution_count": 35,
   "metadata": {
    "scrolled": false
   },
   "outputs": [
    {
     "name": "stdout",
     "output_type": "stream",
     "text": [
      "(76, 12)\n"
     ]
    },
    {
     "data": {
      "text/plain": [
       "구로구 콜센터 관련    53\n",
       "콜센터직원 접촉      22\n",
       "구로구 콜센터 접촉     1\n",
       "Name: 접촉경로, dtype: int64"
      ]
     },
     "execution_count": 35,
     "metadata": {},
     "output_type": "execute_result"
    }
   ],
   "source": [
    "df_call = df[df[\"접촉경로\"].str.contains(\"콜센터\")]\n",
    "print(df_call.shape)\n",
    "df_call[\"접촉경로\"].value_counts()"
   ]
  },
  {
   "cell_type": "markdown",
   "metadata": {},
   "source": [
    "### 조치사항"
   ]
  },
  {
   "cell_type": "code",
   "execution_count": 36,
   "metadata": {},
   "outputs": [
    {
     "data": {
      "text/plain": [
       "서울의료원           81\n",
       "서남병원            58\n",
       "보라매병원           19\n",
       "서울의료원(퇴원)       12\n",
       "서북병원            10\n",
       "국립중앙의료원         10\n",
       "서울대학교병원(퇴원)     10\n",
       "국립중앙의료원(퇴원)      9\n",
       "타시도이관            4\n",
       "보라매병원(퇴원)        4\n",
       "중앙대학교병원(퇴원)      3\n",
       "삼육서울병원           3\n",
       "순천향서울병원          2\n",
       "중앙대학교병원          2\n",
       "서남병원(퇴원)         2\n",
       "한일병원(퇴원)         2\n",
       "고대구로병원           2\n",
       "타시도이관(퇴원)        2\n",
       "한일병원             2\n",
       "타시도 이관           2\n",
       "서울대학교병원          1\n",
       "한양대학교병원(퇴원)      1\n",
       "인제대상계백병원(퇴원)     1\n",
       "상계백병원(퇴원)        1\n",
       "서울백병원            1\n",
       "강남세브란스병원         1\n",
       "한양대학교병원          1\n",
       "인제대상계백병원         1\n",
       "서울아산병원           1\n",
       "Name: 조치사항, dtype: int64"
      ]
     },
     "execution_count": 36,
     "metadata": {},
     "output_type": "execute_result"
    }
   ],
   "source": [
    "df[\"조치사항\"].value_counts()"
   ]
  },
  {
   "cell_type": "code",
   "execution_count": 37,
   "metadata": {},
   "outputs": [],
   "source": [
    "df[\"퇴원\"] = df[\"조치사항\"].str.contains(\"퇴원\")"
   ]
  },
  {
   "cell_type": "code",
   "execution_count": 38,
   "metadata": {},
   "outputs": [
    {
     "data": {
      "text/plain": [
       "False    201\n",
       "True      47\n",
       "Name: 퇴원, dtype: int64"
      ]
     },
     "execution_count": 38,
     "metadata": {},
     "output_type": "execute_result"
    }
   ],
   "source": [
    "df[\"퇴원\"].value_counts()"
   ]
  },
  {
   "cell_type": "code",
   "execution_count": 39,
   "metadata": {},
   "outputs": [
    {
     "data": {
      "text/plain": [
       "False    0.810484\n",
       "True     0.189516\n",
       "Name: 퇴원, dtype: float64"
      ]
     },
     "execution_count": 39,
     "metadata": {},
     "output_type": "execute_result"
    }
   ],
   "source": [
    "df[\"퇴원\"].value_counts(normalize=True)"
   ]
  },
  {
   "cell_type": "markdown",
   "metadata": {},
   "source": [
    "## 성별"
   ]
  },
  {
   "cell_type": "code",
   "execution_count": 40,
   "metadata": {},
   "outputs": [],
   "source": [
    "df[\"성별\"] = df[\"성별(출생년)\"].map(lambda x : x.split(\"(\")[0])"
   ]
  },
  {
   "cell_type": "code",
   "execution_count": null,
   "metadata": {},
   "outputs": [],
   "source": []
  }
 ],
 "metadata": {
  "kernelspec": {
   "display_name": "Python 3",
   "language": "python",
   "name": "python3"
  },
  "language_info": {
   "codemirror_mode": {
    "name": "ipython",
    "version": 3
   },
   "file_extension": ".py",
   "mimetype": "text/x-python",
   "name": "python",
   "nbconvert_exporter": "python",
   "pygments_lexer": "ipython3",
   "version": "3.7.3"
  },
  "toc": {
   "base_numbering": 1,
   "nav_menu": {},
   "number_sections": true,
   "sideBar": true,
   "skip_h1_title": false,
   "title_cell": "Table of Contents",
   "title_sidebar": "Contents",
   "toc_cell": false,
   "toc_position": {},
   "toc_section_display": true,
   "toc_window_display": false
  },
  "varInspector": {
   "cols": {
    "lenName": 16,
    "lenType": 16,
    "lenVar": 40
   },
   "kernels_config": {
    "python": {
     "delete_cmd_postfix": "",
     "delete_cmd_prefix": "del ",
     "library": "var_list.py",
     "varRefreshCmd": "print(var_dic_list())"
    },
    "r": {
     "delete_cmd_postfix": ") ",
     "delete_cmd_prefix": "rm(",
     "library": "var_list.r",
     "varRefreshCmd": "cat(var_dic_list()) "
    }
   },
   "types_to_exclude": [
    "module",
    "function",
    "builtin_function_or_method",
    "instance",
    "_Feature"
   ],
   "window_display": false
  }
 },
 "nbformat": 4,
 "nbformat_minor": 4
}
